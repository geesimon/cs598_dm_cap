{
 "cells": [
  {
   "cell_type": "code",
   "execution_count": 47,
   "metadata": {
    "collapsed": true
   },
   "outputs": [],
   "source": [
    "import pickle"
   ]
  },
  {
   "cell_type": "code",
   "execution_count": 53,
   "metadata": {},
   "outputs": [],
   "source": [
    "MAX_DISH_COUNT = 100\n",
    "\n",
    "with open('./categories/Chinese.pkl', 'rb') as f:\n",
    "    cuisine_reviews = pickle.load(f)\n",
    "\n",
    "with open('ChineseDishes.txt', 'r') as f:\n",
    "    dishes = {line.replace(\"\\n\", \"\").lower() : {} for line in f.readlines()[0:MAX_DISH_COUNT]}"
   ]
  },
  {
   "cell_type": "code",
   "execution_count": 54,
   "metadata": {},
   "outputs": [],
   "source": [
    "for _dish in dishes:\n",
    "    _dish2rest = set()\n",
    "    _total_review = 0\n",
    "    _total_count = 0\n",
    "    _rating = 0\n",
    "    for _review in cuisine_reviews:\n",
    "        _count = _review['text'].count(_dish)\n",
    "        if _count > 0:\n",
    "            _total_review += 1\n",
    "            _rating += _review['stars']\n",
    "            _total_count += _count\n",
    "            if _review['business_id'] not in _dish2rest:\n",
    "                _dish2rest.add(_review['business_id'])\n",
    "            \n",
    "    \n",
    "    dishes[_dish] = {'total_count': _total_count, \n",
    "                     'rest_count': len(_dish2rest),\n",
    "                     'avg_rating': _rating/_total_review}"
   ]
  },
  {
   "cell_type": "code",
   "execution_count": 59,
   "metadata": {},
   "outputs": [
    {
     "name": "stdout",
     "output_type": "stream",
     "text": [
      "muffins are good boy, cookies are bad\n"
     ]
    }
   ],
   "source": [
    "import re\n",
    "text = \"muffins are good boy, cookies are bad. sauce is awesome, veggies too. fmooo mfasss, fdssaaaa.\"\n",
    "pattern = \"\\.?(?P<sentence>.*?good boy.*?)\\.\"\n",
    "match = re.search(pattern, text)\n",
    "if match != None:\n",
    "    print(match.group(\"sentence\"))"
   ]
  }
 ],
 "metadata": {
  "kernelspec": {
   "display_name": "Python 3",
   "language": "python",
   "name": "python3"
  },
  "language_info": {
   "codemirror_mode": {
    "name": "ipython",
    "version": 3
   },
   "file_extension": ".py",
   "mimetype": "text/x-python",
   "name": "python",
   "nbconvert_exporter": "python",
   "pygments_lexer": "ipython3",
   "version": "3.6.6"
  }
 },
 "nbformat": 4,
 "nbformat_minor": 2
}
