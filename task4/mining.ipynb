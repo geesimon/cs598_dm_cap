{
 "cells": [
  {
   "cell_type": "code",
   "execution_count": 95,
   "metadata": {},
   "outputs": [],
   "source": [
    "import pickle\n",
    "import nltk\n",
    "import json\n",
    "from tqdm import tqdm"
   ]
  },
  {
   "cell_type": "code",
   "execution_count": 96,
   "metadata": {},
   "outputs": [
    {
     "name": "stderr",
     "output_type": "stream",
     "text": [
      "100%|██████████████████████████████████████████████████████████████████████████| 38716/38716 [00:10<00:00, 3536.59it/s]\n"
     ]
    }
   ],
   "source": [
    "MAX_DISH_COUNT = 100\n",
    "\n",
    "with open('./categories/Chinese.pkl', 'rb') as f:\n",
    "    cuisine_reviews = pickle.load(f)    \n",
    "with open('ChineseDishes.txt', 'r') as f:\n",
    "    dishes = {line.replace(\"\\n\", \"\").lower() : {} for line in f.readlines()[0:MAX_DISH_COUNT]}\n",
    "\n",
    "for _review in tqdm(cuisine_reviews):\n",
    "    _review['sentences'] = nltk.sent_tokenize(_review['text'])\n",
    "    \n",
    "rest2name = {}\n",
    "path2files=\"../yelp_dataset_challenge_academic_dataset/\"\n",
    "path2buisness=path2files+\"yelp_academic_dataset_business.json\"\n",
    "\n",
    "with open (path2buisness, 'r') as f:\n",
    "    for line in f.readlines():\n",
    "        business_json = json.loads(line)\n",
    "        rest2name[business_json['business_id']] = business_json['name']"
   ]
  },
  {
   "cell_type": "code",
   "execution_count": 105,
   "metadata": {},
   "outputs": [
    {
     "name": "stderr",
     "output_type": "stream",
     "text": [
      "100%|████████████████████████████████████████████████████████████████████████████████| 100/100 [00:21<00:00,  5.25it/s]\n"
     ]
    }
   ],
   "source": [
    "from nltk.sentiment.vader import SentimentIntensityAnalyzer\n",
    "\n",
    "sia = SentimentIntensityAnalyzer()\n",
    "\n",
    "for _dish in tqdm(dishes):\n",
    "    dishes[_dish] = {'rest2review_count':{}, 'review2polarity':{}, 'rest2polarity':{}, 'rest2score':{}}\n",
    "    _dish2rest = set()\n",
    "    _review_count = 0\n",
    "    _sum_review_polarity = 0\n",
    "    _sum_rest_polarity = 0\n",
    "    \n",
    "    for _review in cuisine_reviews:\n",
    "        _review_id = _review['review_id']\n",
    "        _rest_name = rest2name[_review['business_id']]\n",
    "        _review_polarity = 0\n",
    "        _review_sentence_count = 0\n",
    "        for _sentence in _review['sentences']:\n",
    "            _count = _sentence.count(_dish)\n",
    "            if _count > 0:\n",
    "                _review_sentence_count += 1\n",
    "                _ss = sia.polarity_scores(_sentence)\n",
    "                _score = (_ss['pos'] + 1e-10)/ (_ss['neg'] + 1e-10) * 0.5\n",
    "                if _score <= 1:\n",
    "                    _review_polarity += _score\n",
    "                else:\n",
    "                    _review_polarity = 1\n",
    "        \n",
    "        if _review_sentence_count > 0:\n",
    "            _review_polarity = _review_polarity / _review_sentence_count\n",
    "            _sum_review_polarity += _review_polarity\n",
    "            _review_count += 1\n",
    "            dishes[_dish]['review2polarity'][_review_id] = _review_polarity\n",
    "            if _rest_name in dishes[_dish]['rest2review_count']:\n",
    "                dishes[_dish]['rest2review_count'][_rest_name] += 1\n",
    "                dishes[_dish]['rest2polarity'][_rest_name] += _review_polarity\n",
    "            else:\n",
    "                dishes[_dish]['rest2review_count'][_rest_name] = 1\n",
    "                dishes[_dish]['rest2polarity'][_rest_name] = _review_polarity\n",
    "    \n",
    "            \n",
    "    for _name in dishes[_dish]['rest2polarity']:\n",
    "        dishes[_dish]['rest2score'][_name] = dishes[_dish]['rest2polarity'][_name]\n",
    "        dishes[_dish]['rest2polarity'][_name] /= dishes[_dish]['rest2review_count'][_name]\n",
    "        _sum_rest_polarity += dishes[_dish]['rest2polarity'][_name]\n",
    "    \n",
    "    dishes[_dish]['rest2polarity'] = sorted(dishes[_dish]['rest2polarity'].items(), key=lambda kv: kv[1], reverse = True)\n",
    "    dishes[_dish]['rest2review_count'] = sorted(dishes[_dish]['rest2review_count'].items(), key=lambda kv: kv[1], reverse = True)\n",
    "    dishes[_dish]['rest2score'] = sorted(dishes[_dish]['rest2score'].items(), key=lambda kv: kv[1], reverse = True)\n",
    "    dishes[_dish]['review_count'] = len(dishes[_dish]['review2polarity'])\n",
    "    dishes[_dish]['rest_count'] = len(dishes[_dish]['rest2review_count'])\n",
    "    dishes[_dish]['rest_polarity'] = _sum_rest_polarity / dishes[_dish]['rest_count']\n",
    "    dishes[_dish]['review_polarity'] = _sum_review_polarity / dishes[_dish]['review_count']"
   ]
  },
  {
   "cell_type": "code",
   "execution_count": 106,
   "metadata": {},
   "outputs": [],
   "source": [
    "# popular_dishes = {dish:{'review_count':len(dishes[dish]['review2polarity']), \n",
    "#                         'rest_count':len(dishes[dish]['rest2review']),\n",
    "#                        'polarity':sum([dishes[dish]['review2polarity'][i] for i in dishes[dish]['review2polarity']])/len(dishes[dish]['review2polarity'])} \n",
    "#                   for dish in dishes}\n",
    "\n",
    "# def by_rest_count(dish):\n",
    "#     return popular_dishes[dish]['rest_count']\n",
    "\n",
    "# def by_review_count(dish):\n",
    "#     return popular_dishes[dish]['review_count']\n",
    "    \n",
    "sorted_rest_dishes = sorted(dishes.items(), key=lambda kv: kv[1]['rest_count'], reverse=True)\n",
    "sorted_review_dishes = sorted(dishes.items(), key=lambda kv: kv[1]['review_count'], reverse=True)"
   ]
  },
  {
   "cell_type": "code",
   "execution_count": 107,
   "metadata": {},
   "outputs": [],
   "source": [
    "with open(\"display/dish_rest.json\", \"w\") as f:\n",
    "    json.dump(sorted_rest_dishes, f)\n",
    "    \n",
    "with open(\"display/dish_review.json\", \"w\") as f:\n",
    "    json.dump(sorted_review_dishes, f)"
   ]
  },
  {
   "cell_type": "code",
   "execution_count": null,
   "metadata": {},
   "outputs": [],
   "source": []
  }
 ],
 "metadata": {
  "kernelspec": {
   "display_name": "Python 3",
   "language": "python",
   "name": "python3"
  },
  "language_info": {
   "codemirror_mode": {
    "name": "ipython",
    "version": 3
   },
   "file_extension": ".py",
   "mimetype": "text/x-python",
   "name": "python",
   "nbconvert_exporter": "python",
   "pygments_lexer": "ipython3",
   "version": "3.6.7"
  }
 },
 "nbformat": 4,
 "nbformat_minor": 2
}
