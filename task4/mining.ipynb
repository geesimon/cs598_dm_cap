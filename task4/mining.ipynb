{
 "cells": [
  {
   "cell_type": "code",
   "execution_count": 81,
   "metadata": {
    "collapsed": true
   },
   "outputs": [],
   "source": [
    "import pickle\n",
    "import nltk"
   ]
  },
  {
   "cell_type": "code",
   "execution_count": 82,
   "metadata": {},
   "outputs": [
    {
     "name": "stderr",
     "output_type": "stream",
     "text": [
      "100%|██████████| 38716/38716 [00:10<00:00, 3846.92it/s]\n"
     ]
    }
   ],
   "source": [
    "from tqdm import tqdm\n",
    "\n",
    "MAX_DISH_COUNT = 100\n",
    "\n",
    "with open('./categories/Chinese.pkl', 'rb') as f:\n",
    "    cuisine_reviews = pickle.load(f)    \n",
    "with open('ChineseDishes.txt', 'r') as f:\n",
    "    dishes = {line.replace(\"\\n\", \"\").lower() : {} for line in f.readlines()[0:MAX_DISH_COUNT]}\n",
    "\n",
    "for _review in tqdm(cuisine_reviews):\n",
    "    _review['sentences'] = nltk.sent_tokenize(_review['text'])"
   ]
  },
  {
   "cell_type": "code",
   "execution_count": 83,
   "metadata": {},
   "outputs": [
    {
     "name": "stderr",
     "output_type": "stream",
     "text": [
      "100%|██████████| 100/100 [00:27<00:00,  3.65it/s]\n"
     ]
    }
   ],
   "source": [
    "from nltk.sentiment.vader import SentimentIntensityAnalyzer\n",
    "\n",
    "sia = SentimentIntensityAnalyzer()\n",
    "\n",
    "for _dish in tqdm(dishes):\n",
    "    dishes[_dish] = {'rest2review':{}, 'review2polarity':{}, 'rest2polarity':{}}\n",
    "    _dish2rest = set()\n",
    "    _review_count = 0\n",
    "    \n",
    "    for _review in cuisine_reviews:\n",
    "        _review_id = _review['review_id']\n",
    "        _rest_id = _review['business_id']\n",
    "        _review_polarity = 0\n",
    "        _review_sentence_count = 0\n",
    "        for _sentence in _review['sentences']:\n",
    "            _count = _sentence.count(_dish)\n",
    "            if _count > 0:\n",
    "                _review_sentence_count += 1\n",
    "                _ss = sia.polarity_scores(_sentence)\n",
    "                _review_polarity += _ss['compound']\n",
    "        \n",
    "        if _review_sentence_count > 0:\n",
    "            _review_polarity = _review_polarity / _review_sentence_count\n",
    "            _review_count += 1\n",
    "            dishes[_dish]['review2polarity'][_review_id] = _review_polarity\n",
    "            if _rest_id in dishes[_dish]['rest2review']:\n",
    "                dishes[_dish]['rest2review'][_rest_id].add(_review_id)\n",
    "                dishes[_dish]['rest2polarity'][_rest_id] += _review_polarity\n",
    "            else:\n",
    "                dishes[_dish]['rest2review'][_rest_id] = set([_review_id])\n",
    "                dishes[_dish]['rest2polarity'][_rest_id] = _review_polarity\n",
    "    \n",
    "            \n",
    "    for _id in dishes[_dish]['rest2polarity']:\n",
    "        dishes[_dish]['rest2polarity'][_id] /= len(dishes[_dish]['rest2review'][_id])"
   ]
  },
  {
   "cell_type": "code",
   "execution_count": 134,
   "metadata": {},
   "outputs": [],
   "source": [
    "popular_dishes = {dish:{'review_count':len(dishes[dish]['review2polarity']), \n",
    "                        'rest_count':len(dishes[dish]['rest2review']),\n",
    "                       'polarity':sum([dishes[dish]['review2polarity'][i] for i in dishes[dish]['review2polarity']])/len(dishes[dish]['review2polarity'])} \n",
    "                  for dish in dishes}\n",
    "\n",
    "def by_rest_count(dish):\n",
    "    return popular_dishes[dish]['rest_count']\n",
    "\n",
    "def by_review_count(dish):\n",
    "    return popular_dishes[dish]['review_count']\n",
    "    \n",
    "sorted_dishes = sorted(popular_dishes, key=by_rest_count, reverse=True)"
   ]
  },
  {
   "cell_type": "code",
   "execution_count": 136,
   "metadata": {},
   "outputs": [
    {
     "data": {
      "text/plain": [
       "{'-3WVw1TNQbPBzaKCaQQ1AQ': 0.3612,\n",
       " '-Gse8l_ec33gkWgotCLsew': 0.0,\n",
       " '-mz0Zr0Dw6ZASg7_ah1R8A': 0.17976666666666663,\n",
       " '0LBv0QQK9L6ArPkO4eXjJA': 0.23570000000000002,\n",
       " '0nyaKW_6QHSJ74OVnDmyhA': 0.0,\n",
       " '1ldDbggHHgPlj3k0SpBTKQ': 0.6071,\n",
       " '23SJEjfyU5gxY2chAKhgcw': 0.0,\n",
       " '2Dbg35sPSGmZGcbBVNa9dA': -0.5423,\n",
       " '2sn5BECdlYxqQlw1VODDoA': 0.2996333333333333,\n",
       " '3RKhnCtiN6jfaSbJU-9kmA': 0.636,\n",
       " '5OX1kKlNHCaDmGq4qrFBmQ': 0.765,\n",
       " '5W48_DnrXVD7EbtmE4pxOQ': 0.5719,\n",
       " '5YgXxBUzhf3qh8F8wYSqsA': 0.8555,\n",
       " '5kOYuJtRjAUWZGDkP8vnRw': 0.0,\n",
       " '7opoNCBk1B00claYpFx4ug': 0.8555,\n",
       " '8SkoyQ3iHXECEit2BDwBrw': -0.1366,\n",
       " '8TGUK7LD3M-vLWml-jLb0w': 0.644,\n",
       " '8z2DkKf_FrPVNtt_5w4QsQ': 0.8717,\n",
       " 'A4pL6j3e6JAtblmCUF2GZA': 0.0,\n",
       " 'AumuGuTg3HqvtwbLPi-ZCg': 0.4215,\n",
       " 'AxScnvjfLqpPmTLXGjNhcA': 0.0,\n",
       " 'BicQSnGZnY_yuGEDkhVfnA': 0.0,\n",
       " 'BnVJmCTNrO8ZtbC1vkv9Zg': -0.12703333333333333,\n",
       " 'C4CbD-0Rz4nglavf_0dRdg': -0.6808,\n",
       " 'Co-sJv4GNxILkF79ZMLq-Q': 0.0,\n",
       " 'CqKiF2X0_4erH02-CUiweQ': -0.0386,\n",
       " 'CwTYM1-zs80BB1AWJrWmxQ': -0.34,\n",
       " 'DL3coobcfFjXV_F2zV7sLw': 0.17020000000000002,\n",
       " 'Dj4glvoFwKypLjUr9F01Sg': -0.296,\n",
       " 'DoiIvRASpaPw6z0wveDAJw': 0.4158,\n",
       " 'DqzyOJTJXu0Iwi8og5DJDA': 0.59915,\n",
       " 'E4b5OC_6mZ0V7B6Nyjncsg': 0.29000000000000004,\n",
       " 'E9ZsPtGovfEPHlMHkDdlQA': 0.28315,\n",
       " 'EqA_0-n-OFg86hdyYm65rw': -0.2548,\n",
       " 'Ewf8sZkyCfhi8Nu9LbEc6A': 0.5719,\n",
       " 'GHY7UYRnMhZnQ1FSIH20wg': 0.3612,\n",
       " 'HEI4WFai9zoixD5GhCnbeg': 0.5413,\n",
       " 'HibY2EcXQhd4_JK_E_RX-Q': 0.6908,\n",
       " 'JxhSLFM7l0l2FYZs1ezf4A': 0.21075,\n",
       " 'KDfmJTIG-z6W6cl4YC-WDA': -0.07655,\n",
       " 'LR9mX-3mh_PIEeG1A5zqxg': 0.9168,\n",
       " 'ME0olHUKPsJ9spaLudZlYA': 0.015500000000000014,\n",
       " 'MgMh64Y-gfu7pnak0oqF7g': -0.28459999999999996,\n",
       " 'MhMFi7hae_KsaK8lHcg0iQ': 0.4588,\n",
       " 'NhpdNYXoRofaa649drCz3g': 0.5501222222222223,\n",
       " 'ORPFMdzXiIhxATWTJc2-4w': 0.5994,\n",
       " 'OWQJrnXbWkLTI1-qRkkUpQ': 0.092,\n",
       " 'PAg_-9MtV7lX5rGb7yjLrQ': -0.1591,\n",
       " 'PGkKmZIK_tCMbLPy1BRwMg': 0.268275,\n",
       " 'Q9KILetOPQLzIf7Ki3D8-g': 0.0,\n",
       " 'QY8CBhPwv6dE4onjhj6MDg': 0.0,\n",
       " 'SWSZdo4sBhrcQSmN5e1myg': 0.0,\n",
       " 'TW44bipmQ5fCYbA2D2sajw': 0.0,\n",
       " 'TqVjy0dxvNh51BF9KePCoQ': 0.0,\n",
       " 'UQouZ1z2P3lvG9IZMxubpA': -0.6249,\n",
       " 'UZS8qFGAZGGHTqYLApgANw': 0.0,\n",
       " 'V3S6RpKgYc5XCLjgI9JeeQ': 0.24683333333333332,\n",
       " 'VQtMFcgkRz7MCIo9sPDaeg': 0.0,\n",
       " 'VruXxn3PeUGD3R3T4pm7wg': 0.0,\n",
       " 'XMRj865sZBPWCI7tx0uBWw': 0.286875,\n",
       " 'Xh7lpLo9TxodWgV5VdWeiA': 0.2263,\n",
       " 'ZG_DMSNhXhQoQlFBx_qK0w': 0.6751,\n",
       " 'ZZtEx_UutNxz9B5knTL4tQ': 0.02525,\n",
       " '_2RBxybvzNmw2k1_jJTe1Q': 0.6249,\n",
       " 'a1t31qMLd5fQocEjbSJ61A': 0.0,\n",
       " 'a8yzGF79KcfyRye2R6wt3Q': 0.0,\n",
       " 'aOxyvODx3QeaE-jpw92hzw': 0.5719,\n",
       " 'bCRrLdBLel3y73tA8w6C3Q': 0.2133333333333333,\n",
       " 'd1dwAa-FxyowEHMGSu_lNA': -0.2556,\n",
       " 'dMwwBt0BcE4zfIiBBXMogg': 0.0121,\n",
       " 'fAJYeE4Q6vwVPGkk1MWCoQ': 0.28945,\n",
       " 'fJX4coaMuEwipbQlkhskWQ': 0.4588,\n",
       " 'fgFIHU4scmArJH-52fpqFg': 0.0,\n",
       " 'hhaUz_YCmU7OfSR10uJGrQ': 0.0,\n",
       " 'hmPkit7DjWX9raBoACw_rg': 0.5994,\n",
       " 'hrbA1-im_sd3c6ZL1A6-QA': 0.6114,\n",
       " 'iZR96moKSAWYROyL5-qeuQ': 0.0,\n",
       " 'iZpgRNPogioU5sEaDyl5uw': 0.09896666666666666,\n",
       " 'jOgSvW9VNw0Cw9p8w5A2JQ': 0.63,\n",
       " 'k-hE27MVMEBWdMsto1DeUA': 0.9337,\n",
       " 'kwD6P2-EV87u6aVOcnAcpQ': 0.0,\n",
       " 'lAGDe38li38fyf971CslFg': 0.6911,\n",
       " 'm9Wqqma30o-hH2fAX7dnug': 0.9639,\n",
       " 'mThyP-DoLN3Y4UK7YM9uFg': -0.2732,\n",
       " 'mV7VG6DwK2S57KJDlM29uQ': 0.0,\n",
       " 'nE-qMmKkYEuT0onFTLDFtg': 0.2481,\n",
       " 'oC8-aoXrPAjN_eypfte6tQ': 0.6369,\n",
       " 'phHXdTh5L2w8vQ9Gsmq27A': 0.0,\n",
       " 'qVWR4NHU3NXlEIaCy67g2g': 0.7506,\n",
       " 'qiZSMdGKw2sIfco4kqJ6wA': 0.0,\n",
       " 'rGhbYmGvoqU7IVrmuNQi2g': 0.875,\n",
       " 's-OomSmBbKJnAkPvCuXFgA': 0.142975,\n",
       " 's84xnG8SvqI6EIjF3Za-UQ': 0.5719,\n",
       " 'sgBl3UDEcNYKwuUb92CYdA': 0.9169,\n",
       " 't7fOnFBXhAuG74hwQ5G17Q': 0.9561,\n",
       " 'u0Z0OwRYbwknE5Pr_CJhnw': 0.0,\n",
       " 'u5ea3QjzrkoIw_LoDefQqw': 0.39707499999999996,\n",
       " 'uy0YRkWZ7T30f6ruH-51Mg': 0.4588,\n",
       " 'vrf1r48AlfLdgm-x7C1aMw': 0.8365,\n",
       " 'wEsor9I2DcyYoR3brlqIMw': 0.0,\n",
       " 'wH_kpDuTE6ChDAp5AlMfJA': 0.3612,\n",
       " 'wU1dsWiCpxbWaJkB4KxU5Q': 0.6369,\n",
       " 'wUPHVWGmoBU_gykHl1Kzxg': 0.4019,\n",
       " 'yQONzVpX-DEpGSuKMIov6A': 0.0,\n",
       " 'yxvh7Hi4OwTiNqEjCMBvXQ': 0.3612,\n",
       " 'z4KFTJQsAdxqMZA7Fx0A9A': 0.3612,\n",
       " 'zFcd_gelAUEwAvJOgiZpvg': 0.3612,\n",
       " 'zTfBa__ldlTdbVgSl5h31Q': 0.5994,\n",
       " 'zxqvU415r_RtZRKDtdbIKQ': -0.3412}"
      ]
     },
     "execution_count": 136,
     "metadata": {},
     "output_type": "execute_result"
    }
   ],
   "source": [
    "dishes['chow mien']['rest2polarity']"
   ]
  },
  {
   "cell_type": "code",
   "execution_count": null,
   "metadata": {
    "collapsed": true
   },
   "outputs": [],
   "source": []
  }
 ],
 "metadata": {
  "kernelspec": {
   "display_name": "Python 3",
   "language": "python",
   "name": "python3"
  },
  "language_info": {
   "codemirror_mode": {
    "name": "ipython",
    "version": 3
   },
   "file_extension": ".py",
   "mimetype": "text/x-python",
   "name": "python",
   "nbconvert_exporter": "python",
   "pygments_lexer": "ipython3",
   "version": "3.6.6"
  }
 },
 "nbformat": 4,
 "nbformat_minor": 2
}
