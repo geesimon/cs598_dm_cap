{
 "cells": [
  {
   "cell_type": "code",
   "execution_count": 61,
   "metadata": {
    "collapsed": true
   },
   "outputs": [],
   "source": [
    "import pickle\n",
    "import nltk"
   ]
  },
  {
   "cell_type": "code",
   "execution_count": 62,
   "metadata": {},
   "outputs": [
    {
     "name": "stderr",
     "output_type": "stream",
     "text": [
      "100%|██████████| 38716/38716 [00:10<00:00, 3797.06it/s]\n"
     ]
    }
   ],
   "source": [
    "from tqdm import tqdm\n",
    "\n",
    "MAX_DISH_COUNT = 100\n",
    "\n",
    "with open('./categories/Chinese.pkl', 'rb') as f:\n",
    "    cuisine_reviews = pickle.load(f)    \n",
    "with open('ChineseDishes.txt', 'r') as f:\n",
    "    dishes = {line.replace(\"\\n\", \"\").lower() : {} for line in f.readlines()[0:MAX_DISH_COUNT]}\n",
    "\n",
    "for _review in tqdm(cuisine_reviews):\n",
    "    _review['sentences'] = nltk.sent_tokenize(_review['text'])"
   ]
  },
  {
   "cell_type": "code",
   "execution_count": 74,
   "metadata": {},
   "outputs": [
    {
     "name": "stderr",
     "output_type": "stream",
     "text": [
      "100%|██████████| 100/100 [00:26<00:00,  3.78it/s]\n"
     ]
    }
   ],
   "source": [
    "from nltk.sentiment.vader import SentimentIntensityAnalyzer\n",
    "\n",
    "sia = SentimentIntensityAnalyzer()\n",
    "\n",
    "for _dish in tqdm(dishes):\n",
    "    dishes[_dish] = {'rest2review':{}, 'review2polarity':{}, 'rest2polarity':{}}\n",
    "    _dish2rest = set()\n",
    "    _review_count = 0\n",
    "    \n",
    "    for _review in cuisine_reviews:\n",
    "        _review_id = _review['review_id']\n",
    "        _rest_id = _review['business_id']\n",
    "        _review_polarity = 0\n",
    "        _review_sentence_count = 0\n",
    "        for _sentence in _review['sentences']:\n",
    "            _count = _sentence.count(_dish)\n",
    "            if _count > 0:\n",
    "                _review_sentence_count += 1\n",
    "                _ss = sia.polarity_scores(_sentence)\n",
    "                _review_polarity += _ss['compound']\n",
    "        \n",
    "        if _review_sentence_count > 0:\n",
    "            _review_polarity = _review_polarity / _review_sentence_count\n",
    "            _review_count += 1\n",
    "            dishes[_dish]['review2polarity'][_review_id] = _review_polarity\n",
    "            if _rest_id in dishes[_dish]['rest2review']:\n",
    "                dishes[_dish]['rest2review'][_rest_id].add(_review_id)\n",
    "                dishes[_dish]['rest2polarity'][_rest_id] += _review_polarity\n",
    "            else:\n",
    "                dishes[_dish]['rest2review'][_rest_id] = set([_review_id])\n",
    "                dishes[_dish]['rest2polarity'][_rest_id] = _review_polarity\n",
    "    \n",
    "            \n",
    "    for _id in dishes[_dish]['rest2polarity']:\n",
    "        dishes[_dish]['rest2polarity'][_id] /= len(dishes[_dish]['rest2review'][_id])"
   ]
  }
 ],
 "metadata": {
  "kernelspec": {
   "display_name": "Python 3",
   "language": "python",
   "name": "python3"
  },
  "language_info": {
   "codemirror_mode": {
    "name": "ipython",
    "version": 3
   },
   "file_extension": ".py",
   "mimetype": "text/x-python",
   "name": "python",
   "nbconvert_exporter": "python",
   "pygments_lexer": "ipython3",
   "version": "3.6.6"
  }
 },
 "nbformat": 4,
 "nbformat_minor": 2
}
