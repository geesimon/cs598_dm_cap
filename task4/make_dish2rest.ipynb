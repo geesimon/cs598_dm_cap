{
 "cells": [
  {
   "cell_type": "code",
   "execution_count": 3,
   "metadata": {},
   "outputs": [],
   "source": [
    "import pickle\n",
    "import nltk\n",
    "import json\n",
    "from tqdm import tqdm\n",
    "from nltk.sentiment.vader import SentimentIntensityAnalyzer\n",
    "\n",
    "APP_FOLDER = '../app/data/processed/'"
   ]
  },
  {
   "cell_type": "code",
   "execution_count": 4,
   "metadata": {},
   "outputs": [
    {
     "name": "stderr",
     "output_type": "stream",
     "text": [
      "100%|██████████| 38716/38716 [00:11<00:00, 3368.43it/s]\n",
      "100%|██████████| 196/196 [00:40<00:00,  6.64it/s]\n"
     ]
    }
   ],
   "source": [
    "with open('./categories/Chinese.pkl', 'rb') as f:\n",
    "    cuisine_reviews = pickle.load(f)    \n",
    "with open('ChineseDishes.txt', 'r') as f:\n",
    "    dish_names = [line.replace(\"\\n\", \"\").lower() for line in f.readlines()]\n",
    "\n",
    "for _review in tqdm(cuisine_reviews):\n",
    "    _review['sentences'] = nltk.sent_tokenize(_review['text'])\n",
    "\n",
    "sia = SentimentIntensityAnalyzer()\n",
    "\n",
    "dish2rest = {}\n",
    "for _name in tqdm(dish_names):\n",
    "    _review_count = 0\n",
    "    _sum_review_polarity = 0\n",
    "    _sum_rest_polarity = 0\n",
    "    \n",
    "    for _review in cuisine_reviews:\n",
    "        _rest_id = _review['business_id']\n",
    "        _review_id = _review['review_id']\n",
    "        _review_polarity = 0\n",
    "        _review_sentence_count = 0\n",
    "        for _sentence in _review['sentences']:\n",
    "            _count = _sentence.count(_name)\n",
    "            if _count > 0:\n",
    "                _review_sentence_count += 1\n",
    "                _ss = sia.polarity_scores(_sentence)\n",
    "                _score = (_ss['pos'] + 1e-10)/ (_ss['neg'] + 1e-10) * 0.5\n",
    "                if _score <= 1:\n",
    "                    _review_polarity += _score\n",
    "                else:\n",
    "                    _review_polarity = 1\n",
    "        \n",
    "        if _review_sentence_count > 0:\n",
    "            _review_polarity = _review_polarity / _review_sentence_count\n",
    "            _sum_review_polarity += _review_polarity\n",
    "            _review_count += 1\n",
    "            if not(_name in dish2rest):\n",
    "                dish2rest[_name] = {'rest2review_count':{}, \n",
    "                                     'review2polarity':{}, \n",
    "                                     'rest2polarity':{}, \n",
    "                                     'rest2score':{},\n",
    "                                     'review_count': 0,\n",
    "                                     'rest_count': 0}\n",
    "                    \n",
    "            dish2rest[_name]['review2polarity'][_review_id] = _review_polarity\n",
    "            if _rest_id in dish2rest[_name]['rest2review_count']:\n",
    "                dish2rest[_name]['rest2review_count'][_rest_id] += 1\n",
    "                dish2rest[_name]['rest2polarity'][_rest_id] += _review_polarity\n",
    "            else:\n",
    "                dish2rest[_name]['rest2review_count'][_rest_id] = 1\n",
    "                dish2rest[_name]['rest2polarity'][_rest_id] = _review_polarity\n",
    "            \n",
    "    if _name in dish2rest:\n",
    "        for _id in dish2rest[_name]['rest2polarity']:\n",
    "            dish2rest[_name]['rest2score'][_id] = dish2rest[_name]['rest2polarity'][_id]\n",
    "            dish2rest[_name]['rest2polarity'][_id] /= dish2rest[_name]['rest2review_count'][_id]\n",
    "            _sum_rest_polarity += dish2rest[_name]['rest2polarity'][_id]\n",
    "\n",
    "        dish2rest[_name]['rest2polarity'] = sorted(dish2rest[_name]['rest2polarity'].items(), key=lambda kv: kv[1], reverse = True)\n",
    "        dish2rest[_name]['rest2review_count'] = sorted(dish2rest[_name]['rest2review_count'].items(), key=lambda kv: kv[1], reverse = True)\n",
    "        dish2rest[_name]['rest2score'] = sorted(dish2rest[_name]['rest2score'].items(), key=lambda kv: kv[1], reverse = True)\n",
    "        dish2rest[_name]['review_count'] = len(dish2rest[_name]['review2polarity'])\n",
    "        dish2rest[_name]['rest_count'] = len(dish2rest[_name]['rest2review_count'])\n",
    "        dish2rest[_name]['rest_polarity'] = _sum_rest_polarity / dish2rest[_name]['rest_count']\n",
    "        dish2rest[_name]['review_polarity'] = _sum_review_polarity / dish2rest[_name]['review_count']\n",
    "\n",
    "sorted_rest_dishes = sorted(dish2rest.items(), key=lambda kv: kv[1]['rest_count'], reverse=True)\n",
    "sorted_review_dishes = sorted(dish2rest.items(), key=lambda kv: kv[1]['review_count'], reverse=True)\n",
    "\n",
    "with open (APP_FOLDER + 'dish2rest.plk', 'wb') as f:\n",
    "    pickle.dump(sorted_rest_dishes, f)"
   ]
  }
 ],
 "metadata": {
  "kernelspec": {
   "display_name": "Python 3",
   "language": "python",
   "name": "python3"
  },
  "language_info": {
   "codemirror_mode": {
    "name": "ipython",
    "version": 3
   },
   "file_extension": ".py",
   "mimetype": "text/x-python",
   "name": "python",
   "nbconvert_exporter": "python",
   "pygments_lexer": "ipython3",
   "version": "3.6.8"
  }
 },
 "nbformat": 4,
 "nbformat_minor": 2
}
