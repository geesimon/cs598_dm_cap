{
 "cells": [
  {
   "cell_type": "code",
   "execution_count": 6,
   "metadata": {},
   "outputs": [],
   "source": [
    "import pandas as pd\n",
    "import numpy as np"
   ]
  },
  {
   "cell_type": "code",
   "execution_count": 143,
   "metadata": {},
   "outputs": [],
   "source": [
    "def find_new(old_phrases, all_phrases):\n",
    "    new_phrases = []\n",
    "    for p in all_phrases:\n",
    "        if p not in old_phrases:\n",
    "            new_phrases.append(p)\n",
    "    \n",
    "    return new_phrases\n",
    "\n",
    "def read_label(file_name):\n",
    "    data = pd.read_csv(file_name, header=None, sep='\\t')\n",
    "    return list(data[data[1]==1][0])\n",
    "\n",
    "def read_seg_file(file_name):\n",
    "    data = np.array(pd.read_csv(file_name, header=None)[0])\n",
    "    return [d.replace('_', ' ') for d in data]"
   ]
  },
  {
   "cell_type": "code",
   "execution_count": 144,
   "metadata": {},
   "outputs": [],
   "source": [
    "dish_quality = np.array(pd.read_csv('../AutoPhrase/cuisine_data/EN/chinese_dishes_quality.txt', header=None)[0])\n",
    "\n",
    "auto_wiki_phrase = np.array(pd.read_csv('../AutoPhrase/models/Cuisine/CuisineAutoPhrase.txt', \n",
    "                                        header=None, sep='\\t')[1])\n",
    "auto_disi_phrase = np.array(pd.read_csv('../AutoPhrase/models/Cuisine/ChineseDishAutoPhrase.txt', \n",
    "                                        header=None, sep='\\t')[1])\n",
    "auto_wiki_dish_phrase = np.array(pd.read_csv('../AutoPhrase/models/Cuisine/WikiChineseDishAutoPhrase.txt', \n",
    "                                        header=None, sep='\\t')[1])"
   ]
  },
  {
   "cell_type": "code",
   "execution_count": 145,
   "metadata": {},
   "outputs": [],
   "source": [
    "with open(\"auto_diff.txt\", \"w\") as f:\n",
    "    f.write(\"\\n\".join(find_new(dish_quality, auto_wiki_phrase[0:200])))\n",
    "with open(\"auto_dish_diff.txt\", \"w\") as f:\n",
    "    f.write(\"\\n\".join(find_new(dish_quality, auto_disi_phrase[0:200])))\n",
    "with open(\"auto_wiki_dish_diff.txt\", \"w\") as f:\n",
    "    f.write(\"\\n\".join(find_new(dish_quality, auto_wiki_dish_phrase[0:200])))"
   ]
  },
  {
   "cell_type": "code",
   "execution_count": 146,
   "metadata": {},
   "outputs": [],
   "source": [
    "label = read_label('../SegPhrase/cuisine_data/Chinese.label')\n",
    "updated_label = read_label('../SegPhrase/cuisine_data/Chinese.updated.label')\n",
    "updated_plus_label = read_label('../SegPhrase/cuisine_data/Chinese.updated.plus.label')\n",
    "\n",
    "# seg_phrase = np.array(pd.read_csv('../SegPhrase/Chinese.label.results/unified.csv', header=None)[0])\n",
    "# seg_updated_phrase = np.array(pd.read_csv('../SegPhrase/Chinese.updated.label.results/unified.csv', header=None)[0])\n",
    "# seg_updated_plus_phrase = np.array(pd.read_csv('../SegPhrase/Chinese.updated.plus.label.results/unified.csv', header=None)[0])\n",
    "\n",
    "seg_phrase =read_seg_file('../SegPhrase/Chinese.label.results/unified.csv')\n",
    "seg_updated_phrase = read_seg_file('../SegPhrase/Chinese.updated.label.results/unified.csv')\n",
    "seg_updated_plus_phrase = read_seg_file('../SegPhrase/Chinese.updated.plus.label.results/unified.csv')"
   ]
  },
  {
   "cell_type": "code",
   "execution_count": 147,
   "metadata": {},
   "outputs": [],
   "source": [
    "with open(\"seg_diff.txt\", \"w\") as f:\n",
    "    f.write(\"\\n\".join(find_new(label, seg_phrase[0:200])))\n",
    "with open(\"seg_update_diff.txt\", \"w\") as f:\n",
    "    f.write(\"\\n\".join(find_new(updated_label, seg_updated_phrase[0:200])))\n",
    "with open(\"seg_update_plus_diff.txt\", \"w\") as f:\n",
    "    f.write(\"\\n\".join(find_new(updated_plus_label, seg_updated_plus_phrase[0:200])))"
   ]
  }
 ],
 "metadata": {
  "kernelspec": {
   "display_name": "Python 3",
   "language": "python",
   "name": "python3"
  },
  "language_info": {
   "codemirror_mode": {
    "name": "ipython",
    "version": 3
   },
   "file_extension": ".py",
   "mimetype": "text/x-python",
   "name": "python",
   "nbconvert_exporter": "python",
   "pygments_lexer": "ipython3",
   "version": "3.6.8"
  }
 },
 "nbformat": 4,
 "nbformat_minor": 2
}
