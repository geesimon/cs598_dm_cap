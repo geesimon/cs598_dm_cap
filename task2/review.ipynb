{
 "cells": [
  {
   "cell_type": "markdown",
   "metadata": {},
   "source": [
    "First, let's import the Python bindings, as usual."
   ]
  },
  {
   "cell_type": "code",
   "execution_count": 1,
   "metadata": {},
   "outputs": [],
   "source": [
    "import metapy"
   ]
  },
  {
   "cell_type": "code",
   "execution_count": 2,
   "metadata": {},
   "outputs": [
    {
     "data": {
      "text/plain": [
       "'0.2.13'"
      ]
     },
     "execution_count": 2,
     "metadata": {},
     "output_type": "execute_result"
    }
   ],
   "source": [
    "metapy.__version__ # you will want your version to be >= to this"
   ]
  },
  {
   "cell_type": "markdown",
   "metadata": {},
   "source": [
    "If you would like to, you can inform MeTA to output log data to stderr like so:"
   ]
  },
  {
   "cell_type": "code",
   "execution_count": 3,
   "metadata": {},
   "outputs": [],
   "source": [
    "metapy.log_to_stderr()"
   ]
  },
  {
   "cell_type": "markdown",
   "metadata": {},
   "source": [
    "Now, let's download a list of stopwords and a sample dataset to begin exploring MeTA's topic models."
   ]
  },
  {
   "cell_type": "code",
   "execution_count": 4,
   "metadata": {},
   "outputs": [],
   "source": [
    "#!wget -N https://raw.githubusercontent.com/meta-toolkit/meta/master/data/lemur-stopwords.txt"
   ]
  },
  {
   "cell_type": "code",
   "execution_count": 10,
   "metadata": {},
   "outputs": [
    {
     "ename": "RuntimeError",
     "evalue": "failed failed to open input file ./reviews/reviews.dat",
     "output_type": "error",
     "traceback": [
      "\u001b[0;31m---------------------------------------------------------------------\u001b[0m",
      "\u001b[0;31mRuntimeError\u001b[0m                        Traceback (most recent call last)",
      "\u001b[0;32m<ipython-input-10-889100f4df75>\u001b[0m in \u001b[0;36m<module>\u001b[0;34m()\u001b[0m\n\u001b[0;32m----> 1\u001b[0;31m \u001b[0mfidx\u001b[0m \u001b[0;34m=\u001b[0m \u001b[0mmetapy\u001b[0m\u001b[0;34m.\u001b[0m\u001b[0mindex\u001b[0m\u001b[0;34m.\u001b[0m\u001b[0mmake_forward_index\u001b[0m\u001b[0;34m(\u001b[0m\u001b[0;34m'review.toml'\u001b[0m\u001b[0;34m)\u001b[0m\u001b[0;34m\u001b[0m\u001b[0;34m\u001b[0m\u001b[0m\n\u001b[0m",
      "\u001b[0;31mRuntimeError\u001b[0m: failed failed to open input file ./reviews/reviews.dat"
     ]
    }
   ],
   "source": [
    "fidx = metapy.index.make_forward_index('review.toml')"
   ]
  },
  {
   "cell_type": "markdown",
   "metadata": {},
   "source": [
    "Just like in classification, the feature set used for the topic modeling will be the feature set used at the time of indexing, so if you want to play with a different set of features (like bigram words), you will need to re-index your data.\n",
    "\n",
    "For now, we've just stuck with the default filter chain for unigram words, so we're operating in the traditional bag-of-words space.\n",
    "\n",
    "Let's load our documents into memory to run the topic model inference now."
   ]
  },
  {
   "cell_type": "code",
   "execution_count": 6,
   "metadata": {},
   "outputs": [
    {
     "name": "stderr",
     "output_type": "stream",
     "text": [
      " > Loading instances into memory: [==========================] 100% ETA 00:00:00 \n"
     ]
    }
   ],
   "source": [
    "dset = metapy.learn.Dataset(fidx)"
   ]
  },
  {
   "cell_type": "markdown",
   "metadata": {},
   "source": [
    "Now, let's try to find some topics for this dataset. To do so, we're going to use a generative model called a topic model.\n",
    "\n",
    "There are many different topic models in the literature, but the most commonly used topic model is Latent Dirichlet Allocation. Here, we propose that there are K topics (represented with a categorical distribution over words) $\\phi_k$ from which all of our documents are genereated. These K topics are modeled as being sampled from a Dirichlet distribution with parameter $\\vec{\\alpha}$. Then, to generate a document $d$, we first sample a distribution over the K topics $\\theta_d$ from another Dirichlet distribution with parameter $\\vec{\\beta}$. Then, for each word in this document, we first sample a topic identifier $z \\sim \\theta_d$ and then the word by drawing from the topic we selected ($w \\sim \\phi_z$). Refer to the [Wikipedia article on LDA](https://en.wikipedia.org/wiki/Latent_Dirichlet_allocation) for more information.\n",
    "\n",
    "The goal of running inference for an LDA model is to infer the latent variables $\\phi_k$ and $\\theta_d$ for all of the $K$ topics and $D$ documents, respectively. MeTA provides a number of different inference algorithms for LDA, as each one entails a different set of trade-offs (inference in LDA is intractable, so all inference algorithms are approximations; different algorithms entail different approximation guarantees, running times, and required memroy consumption). For now, let's run a Variational Infernce algorithm called CVB0 to find two topics. (In practice you will likely be finding many more topics than just two, but this is a very small toy dataset.)"
   ]
  },
  {
   "cell_type": "code",
   "execution_count": 7,
   "metadata": {},
   "outputs": [
    {
     "name": "stderr",
     "output_type": "stream",
     "text": [
      "Initialization: [============================================] 100% ETA 00:00:00                                                                             \n",
      "Iteration 1 maximum change in gamma: 1.48113                                                                     \n",
      "Iteration 2 maximum change in gamma: 0.456762                                                                    \n",
      "Iteration 3 maximum change in gamma: 0.676432                                                                   \n",
      "Iteration 4 maximum change in gamma: 1.16341                                                                     \n",
      "Iteration 5 maximum change in gamma: 1.28079                                                                     \n",
      "Iteration 6 maximum change in gamma: 1.21783                                                                     \n",
      "Iteration 7 maximum change in gamma: 0.982676                                                                    \n",
      "Iteration 8 maximum change in gamma: 0.91563                                                                     \n",
      "Iteration 9 maximum change in gamma: 1.0244                                                                      \n",
      "Iteration 10 maximum change in gamma: 1.22531                                                                     \n",
      "Iteration 11 maximum change in gamma: 1.30949                                                                    \n",
      "Iteration 12 maximum change in gamma: 1.29629                                                                    \n",
      "Iteration 13 maximum change in gamma: 0.891879                                                                    \n",
      "Iteration 14 maximum change in gamma: 1.12713                                                                    \n",
      "Iteration 15 maximum change in gamma: 1.3854                                                                     \n",
      "Iteration 16 maximum change in gamma: 1.27503                                                                    \n",
      "Iteration 17 maximum change in gamma: 1.29883                                                                   \n",
      "Iteration 18 maximum change in gamma: 1.20637                                                                    \n",
      "Iteration 19 maximum change in gamma: 1.24412                                                                    \n",
      "Iteration 20 maximum change in gamma: 1.16721                                                                    \n",
      "Iteration 21 maximum change in gamma: 1.07939                                                                     \n",
      "Iteration 22 maximum change in gamma: 1.04027                                                                   \n",
      "Iteration 23 maximum change in gamma: 1.06555                                                                   \n",
      "Iteration 24 maximum change in gamma: 1.21289                                                                    \n",
      "Iteration 25 maximum change in gamma: 1.07114                                                                    \n",
      "Iteration 26 maximum change in gamma: 1.04304                                                                   \n",
      "Iteration 27 maximum change in gamma: 1.09594                                                                   \n",
      "Iteration 28 maximum change in gamma: 1.07272                                                                    \n",
      "Iteration 29 maximum change in gamma: 1.06794                                                                    \n",
      "Iteration 30 maximum change in gamma: 1.04249                                                                    \n",
      "Iteration 31 maximum change in gamma: 1.10678                                                                    \n",
      "Iteration 32 maximum change in gamma: 0.910552                                                                   \n",
      "Iteration 33 maximum change in gamma: 0.832632                                                                   \n",
      "Iteration 34 maximum change in gamma: 0.673902                                                                   \n",
      "Iteration 35 maximum change in gamma: 0.850922                                                                   \n",
      "Iteration 36 maximum change in gamma: 0.883706                                                                   \n",
      "Iteration 37 maximum change in gamma: 0.839973                                                                   \n",
      "Iteration 38 maximum change in gamma: 1.08791                                                                    \n",
      "Iteration 39 maximum change in gamma: 0.790877                                                                  \n",
      "Iteration 40 maximum change in gamma: 0.736838                                                                   \n",
      "Iteration 41 maximum change in gamma: 0.621925                                                                   \n",
      "Iteration 42 maximum change in gamma: 0.595857                                                                   \n",
      "Iteration 43 maximum change in gamma: 0.581686                                                                   \n",
      "Iteration 44 maximum change in gamma: 0.666513                                                                   \n",
      "Iteration 45 maximum change in gamma: 0.735499                                                                   \n",
      "Iteration 46 maximum change in gamma: 0.578435                                                                   \n",
      "Iteration 47 maximum change in gamma: 0.433488                                                                   \n",
      "Iteration 48 maximum change in gamma: 0.430345                                                                   \n",
      "Iteration 49 maximum change in gamma: 0.423733                                                                   \n",
      "Iteration 50 maximum change in gamma: 0.554049                                                                   \n",
      "Iteration 51 maximum change in gamma: 0.6875                                                                     \n",
      "Iteration 52 maximum change in gamma: 0.580179                                                                  \n",
      "Iteration 53 maximum change in gamma: 0.583304                                                                  \n",
      "Iteration 54 maximum change in gamma: 0.526844                                                                  \n",
      "Iteration 55 maximum change in gamma: 0.500923                                                                   \n",
      "Iteration 56 maximum change in gamma: 0.560586                                                                  \n",
      "Iteration 57 maximum change in gamma: 0.624                                                                      \n",
      "Iteration 58 maximum change in gamma: 0.511823                                                                  \n",
      "Iteration 59 maximum change in gamma: 0.556347                                                                  \n",
      "Iteration 60 maximum change in gamma: 0.565364                                                                   \n",
      "Iteration 61 maximum change in gamma: 0.492309                                                                   \n",
      "Iteration 62 maximum change in gamma: 0.537324                                                                   \n",
      "Iteration 63 maximum change in gamma: 0.647401                                                                   \n",
      "Iteration 64 maximum change in gamma: 0.682313                                                                   \n",
      "Iteration 65 maximum change in gamma: 0.745624                                                                   \n",
      "Iteration 66 maximum change in gamma: 0.830367                                                                   \n",
      "Iteration 67 maximum change in gamma: 0.958493                                                                   \n",
      "Iteration 68 maximum change in gamma: 0.941703                                                                   \n",
      "Iteration 69 maximum change in gamma: 0.807219                                                                  \n",
      "Iteration 70 maximum change in gamma: 0.553374                                                                    \n",
      "Iteration 71 maximum change in gamma: 0.489406                                                                  \n",
      "Iteration 72 maximum change in gamma: 0.445412                                                                   \n",
      "Iteration 73 maximum change in gamma: 0.502289                                                                   \n",
      "Iteration 74 maximum change in gamma: 0.414881                                                                   \n",
      "Iteration 75 maximum change in gamma: 0.398019                                                                   \n",
      "Iteration 76 maximum change in gamma: 0.386696                                                                   \n",
      "Iteration 77 maximum change in gamma: 0.422947                                                                   \n",
      "Iteration 78 maximum change in gamma: 0.434179                                                                   \n",
      "Iteration 79 maximum change in gamma: 0.472409                                                                    \n",
      "Iteration 80 maximum change in gamma: 0.479261                                                                   \n",
      "Iteration 81 maximum change in gamma: 0.459748                                                                   \n",
      "Iteration 82 maximum change in gamma: 0.518515                                                                   \n",
      "Iteration 83 maximum change in gamma: 0.496036                                                                  \n",
      "Iteration 84 maximum change in gamma: 0.488158                                                                    \n",
      "Iteration 85 maximum change in gamma: 0.459407                                                                   \n",
      "Iteration 86 maximum change in gamma: 0.471303                                                                   \n",
      "Iteration 87 maximum change in gamma: 0.52978                                                                   \n",
      "Iteration 88 maximum change in gamma: 0.519432                                                                   \n",
      "Iteration 89 maximum change in gamma: 0.722008                                                                   \n",
      "Iteration 90 maximum change in gamma: 0.767736                                                                   \n",
      "Iteration 91 maximum change in gamma: 0.875943                                                                    \n",
      "Iteration 92 maximum change in gamma: 0.942931                                                                    \n",
      "Iteration 93 maximum change in gamma: 0.98342                                                                    \n",
      "Iteration 94 maximum change in gamma: 0.942964                                                                   \n",
      "Iteration 95 maximum change in gamma: 1.08767                                                                   \n",
      "Iteration 96 maximum change in gamma: 1.19666                                                                    \n",
      "Iteration 97 maximum change in gamma: 0.899946                                                                   \n",
      "Iteration 98 maximum change in gamma: 0.85337                                                                    \n",
      "Iteration 99 maximum change in gamma: 0.501575                                                                   \n",
      "Iteration 100 maximum change in gamma: 0.389807                                                                  \n",
      "1558279285: [info]     Finished maximum iterations, or found convergence! (C:/Users/appveyor/AppData/Local/Temp/1/pip-req-build-7ct0ssv5/deps/meta/src/topics/lda_cvb.cpp:60)\n"
     ]
    }
   ],
   "source": [
    "lda_inf = metapy.topics.LDACollapsedVB(dset, num_topics=10, alpha=1.0, beta=0.01)\n",
    "lda_inf.run(num_iters=100)"
   ]
  },
  {
   "cell_type": "markdown",
   "metadata": {
    "collapsed": true
   },
   "source": [
    "The above ran the CVB0 algorithm for 1000 iterations, or until an algorithm-specific convergence criterion was met. Now let's save the current estimate for our topics and topic proportions."
   ]
  },
  {
   "cell_type": "code",
   "execution_count": 8,
   "metadata": {},
   "outputs": [],
   "source": [
    "lda_inf.save('lda-cvb0')"
   ]
  },
  {
   "cell_type": "markdown",
   "metadata": {},
   "source": [
    "We can interrogate the topic inference results by using the `TopicModel` query class. Let's load our inference results back in."
   ]
  },
  {
   "cell_type": "code",
   "execution_count": 9,
   "metadata": {},
   "outputs": [
    {
     "name": "stderr",
     "output_type": "stream",
     "text": [
      " > Loading topic term probabilities: [=======================] 100% ETA 00:00:00 \n",
      " > Loading document topic probabilities: [===================] 100% ETA 00:00:00 \n"
     ]
    }
   ],
   "source": [
    "model = metapy.topics.TopicModel('lda-cvb0')"
   ]
  },
  {
   "cell_type": "markdown",
   "metadata": {},
   "source": [
    "Now, let's have a look at our topics. A typical way of doing this is to print the top $k$ words in each topic, so let's do that."
   ]
  },
  {
   "cell_type": "code",
   "execution_count": 10,
   "metadata": {},
   "outputs": [
    {
     "data": {
      "text/plain": [
       "[(65608, 0.02169470121983371),\n",
       " (50925, 0.021593963127798904),\n",
       " (74689, 0.021433829452810242),\n",
       " (10722, 0.018157006042275256),\n",
       " (49957, 0.015830883573488632),\n",
       " (88407, 0.013145897147562237),\n",
       " (26637, 0.012809181262481813),\n",
       " (90395, 0.011990212562659237),\n",
       " (42444, 0.01185693362520633),\n",
       " (44494, 0.011559300765737197)]"
      ]
     },
     "execution_count": 10,
     "metadata": {},
     "output_type": "execute_result"
    }
   ],
   "source": [
    "model.top_k(tid=0)"
   ]
  },
  {
   "cell_type": "markdown",
   "metadata": {},
   "source": [
    "The models operate on term ids instead of raw text strings, so let's convert this to a human readable format by using the vocabulary contained in our `ForwardIndex` to map the term ids to strings."
   ]
  },
  {
   "cell_type": "code",
   "execution_count": 11,
   "metadata": {},
   "outputs": [],
   "source": [
    "topic = [[(fidx.term_text(pr[0]), pr[1]) for pr in model.top_k(tid=id)] for id in range(0,10)]"
   ]
  },
  {
   "cell_type": "markdown",
   "metadata": {},
   "source": [
    "We can pretty clearly see that this particular dataset was about two major issues: smoking in public and part time jobs for students. This dataset is actually a collection of essays written by students, and there just so happen to be two different topics they can choose from!\n",
    "\n",
    "The topics are pretty clear in this case, but in some cases it is also useful to score the terms in a topic using some function of the probability of the word in the topic and the probability of the word in the other topics. Intuitively, we might want to select words from each topic that best reflect that topic's content by picking words that both have high probability in that topic **and** have low probability in the other topics. In other words, we want to balance between high probability terms and highly specific terms (this is kind of like a tf-idf weighting). One such scoring function is provided by the toolkit in `BLTermScorer`, which implements a scoring function proposed by Blei and Lafferty."
   ]
  },
  {
   "cell_type": "code",
   "execution_count": 12,
   "metadata": {},
   "outputs": [
    {
     "data": {
      "text/plain": [
       "{'Topic 0': [('sandwich', 0.22453031604072748),\n",
       "  ('breakfast', 0.21624518246080698),\n",
       "  ('lunch', 0.15868801891145246),\n",
       "  ('egg', 0.12804156499564953),\n",
       "  ('coffe', 0.11319242130427742),\n",
       "  ('locat', 0.09750457224002426),\n",
       "  ('place', 0.06950254951025886),\n",
       "  ('pancak', 0.059233436614966155),\n",
       "  ('shop', 0.049345013321590164),\n",
       "  ('love', 0.04757087439206664)],\n",
       " 'Topic 1': [('great', 0.7683970896050292),\n",
       "  ('food', 0.4408239393507806),\n",
       "  ('servic', 0.4287363300627014),\n",
       "  ('place', 0.21367771865620055),\n",
       "  ('love', 0.16825087306813202),\n",
       "  ('friend', 0.1627250227054333),\n",
       "  ('staff', 0.1612898450398487),\n",
       "  ('amaz', 0.14160499731568105),\n",
       "  ('atmospher', 0.12480218282213397),\n",
       "  ('excel', 0.1122930126276172)],\n",
       " 'Topic 2': [(\"don't\", 0.061208941108643),\n",
       "  ('custom', 0.06098670188148066),\n",
       "  ('review', 0.05670711140935136),\n",
       "  ('know', 0.0542926770240591),\n",
       "  ('guy', 0.04472296562954788),\n",
       "  ('bad', 0.044666589396489),\n",
       "  ('star', 0.04293761256266961),\n",
       "  ('manag', 0.03412672933801915),\n",
       "  (\"i'm\", 0.03307452459163551),\n",
       "  ('place', 0.03253541343671348)],\n",
       " 'Topic 3': [('chicken', 0.27864939751261053),\n",
       "  ('rice', 0.20129063092496538),\n",
       "  ('dish', 0.151680945264393),\n",
       "  ('soup', 0.1339312429074847),\n",
       "  ('spici', 0.1174946346117447),\n",
       "  ('thai', 0.11174010394474476),\n",
       "  ('noodl', 0.09698460980362383),\n",
       "  ('sauc', 0.09338706823350057),\n",
       "  ('pork', 0.09165301983973372),\n",
       "  ('chines', 0.08537940170110689)],\n",
       " 'Topic 4': [('pizza', 0.3954822972551497),\n",
       "  ('bread', 0.18326656096862398),\n",
       "  ('salad', 0.16949116802329808),\n",
       "  ('chees', 0.15398659563037076),\n",
       "  ('chocol', 0.09107507273495719),\n",
       "  ('sauc', 0.08726685946102074),\n",
       "  ('cream', 0.08473620194214845),\n",
       "  ('slice', 0.07478266726913119),\n",
       "  ('pasta', 0.07289472951244447),\n",
       "  ('crust', 0.06722110750997476)],\n",
       " 'Topic 5': [('order', 0.25054291511703136),\n",
       "  ('wait', 0.23268783001670457),\n",
       "  ('tabl', 0.2042977618433063),\n",
       "  ('minut', 0.17604630832682897),\n",
       "  ('ask', 0.1589272321061218),\n",
       "  ('came', 0.13979521963471753),\n",
       "  ('server', 0.12549301379337893),\n",
       "  ('took', 0.11074405358700773),\n",
       "  ('seat', 0.10318670180020195),\n",
       "  ('waitress', 0.10089346715647896)],\n",
       " 'Topic 6': [('burger', 0.3984331432632092),\n",
       "  ('fri', 0.33958800705692094),\n",
       "  ('taco', 0.1921839283270572),\n",
       "  ('chees', 0.14669873550034374),\n",
       "  ('chip', 0.11942345548589031),\n",
       "  ('mexican', 0.11245420662201507),\n",
       "  ('salsa', 0.09825868595828827),\n",
       "  ('bean', 0.07534099149671061),\n",
       "  ('burrito', 0.07275823429190444),\n",
       "  ('chicken', 0.07173867160440073)],\n",
       " 'Topic 7': [('bar', 0.2534589367927385),\n",
       "  ('beer', 0.1827190451880357),\n",
       "  ('drink', 0.14129191545543868),\n",
       "  ('night', 0.10278885660345516),\n",
       "  ('hour', 0.09322963556187418),\n",
       "  ('happi', 0.07108107310471203),\n",
       "  ('music', 0.06589095538222552),\n",
       "  ('patio', 0.057322939754278227),\n",
       "  ('play', 0.049922511506467336),\n",
       "  ('watch', 0.048020718063172214)],\n",
       " 'Topic 8': [('price', 0.2595499301303124),\n",
       "  ('vega', 0.24994154848316008),\n",
       "  ('buffet', 0.2123086357496078),\n",
       "  ('food', 0.1787567985454037),\n",
       "  ('it', 0.1645273531943172),\n",
       "  ('pretti', 0.11022136439865893),\n",
       "  ('good', 0.09226948685574188),\n",
       "  ('qualiti', 0.08586994244429746),\n",
       "  ('strip', 0.08267952622123147),\n",
       "  ('place', 0.0789237665385108)],\n",
       " 'Topic 9': [('sushi', 0.22202731343977666),\n",
       "  ('steak', 0.18346814134496656),\n",
       "  ('roll', 0.13499557924326708),\n",
       "  ('rib', 0.0963161559492911),\n",
       "  ('chef', 0.07893045463460943),\n",
       "  ('fish', 0.0762568731112257),\n",
       "  ('dish', 0.07521344688248922),\n",
       "  ('dinner', 0.07394888504731188),\n",
       "  ('lobster', 0.06683074557124336),\n",
       "  ('wine', 0.06569797961160405)]}"
      ]
     },
     "execution_count": 12,
     "metadata": {},
     "output_type": "execute_result"
    }
   ],
   "source": [
    "scorer = metapy.topics.BLTermScorer(model)\n",
    "topic_words = {'Topic ' + str(id) : [(fidx.term_text(pr[0]), pr[1]) for pr in model.top_k(tid=id, scorer=scorer)] for id in range(0,10)}\n",
    "topic_words"
   ]
  },
  {
   "cell_type": "markdown",
   "metadata": {},
   "source": [
    "Here we can see that the uninformative word stem \"think\" was downweighted from the word list from each topic, since it had relatively high probability in either topic."
   ]
  },
  {
   "cell_type": "markdown",
   "metadata": {},
   "source": [
    "We can also see the inferred topic distribution for each document."
   ]
  },
  {
   "cell_type": "code",
   "execution_count": null,
   "metadata": {},
   "outputs": [],
   "source": [
    "import json\n",
    "\n",
    "with open ( 'review_topic.json', 'w') as f:\n",
    "    json.dump(topic_words, f)"
   ]
  },
  {
   "cell_type": "markdown",
   "metadata": {},
   "source": [
    "Chinese Resturant Review Positive "
   ]
  },
  {
   "cell_type": "code",
   "execution_count": null,
   "metadata": {},
   "outputs": [],
   "source": [
    "fidx_pos = metapy.index.make_forward_index('chinese_review_pos.toml')\n",
    "dset_pos = metapy.learn.Dataset(fidx_pos)"
   ]
  },
  {
   "cell_type": "code",
   "execution_count": null,
   "metadata": {},
   "outputs": [],
   "source": [
    "lda_inf_pos = metapy.topics.LDACollapsedVB(dset_pos, num_topics=10, alpha=1.0, beta=0.01)\n",
    "lda_inf_pos.run(num_iters=1000)\n",
    "lda_inf_pos.save('lda-cvb0-pos')"
   ]
  },
  {
   "cell_type": "code",
   "execution_count": null,
   "metadata": {},
   "outputs": [],
   "source": [
    "model = metapy.topics.TopicModel('lda-cvb0-pos')\n",
    "\n",
    "scorer = metapy.topics.BLTermScorer(model)\n",
    "topic_words = {'Topic '+str(id): [(fidx_pos.term_text(pr[0]), pr[1]) for pr in model.top_k(tid=id, scorer=scorer)] for id in range(0,10)}"
   ]
  },
  {
   "cell_type": "code",
   "execution_count": null,
   "metadata": {},
   "outputs": [],
   "source": [
    "with open ( 'chinese_pos_topic.json', 'w') as f:\n",
    "    json.dump(topic_words, f)\n",
    "\n",
    "topic_words"
   ]
  },
  {
   "cell_type": "markdown",
   "metadata": {},
   "source": [
    "Chinese Restaurant Negative Reviews"
   ]
  },
  {
   "cell_type": "code",
   "execution_count": null,
   "metadata": {},
   "outputs": [],
   "source": [
    "fidx_neg = metapy.index.make_forward_index('chinese_review_neg.toml')\n",
    "dset_neg = metapy.learn.Dataset(fidx_neg)\n",
    "lda_inf_neg = metapy.topics.LDACollapsedVB(dset_neg, num_topics=10, alpha=1.0, beta=0.01)\n",
    "lda_inf_neg.run(num_iters=1000)\n",
    "lda_inf_neg.save('lda-cvb0-neg')"
   ]
  },
  {
   "cell_type": "code",
   "execution_count": null,
   "metadata": {},
   "outputs": [],
   "source": [
    "model = metapy.topics.TopicModel('lda-cvb0-neg')\n",
    "\n",
    "scorer = metapy.topics.BLTermScorer(model)\n",
    "topic_words = {'Topic '+str(id): [(fidx_neg.term_text(pr[0]), pr[1]) for pr in model.top_k(tid=id, scorer=scorer)] for id in range(0,10)}\n",
    "\n",
    "with open ( 'chinese_neg_topic.json', 'w') as f:\n",
    "    json.dump(topic_words, f)\n",
    "\n",
    "topic_words"
   ]
  },
  {
   "cell_type": "code",
   "execution_count": null,
   "metadata": {},
   "outputs": [],
   "source": [
    "model.topic_distribution(0)"
   ]
  },
  {
   "cell_type": "markdown",
   "metadata": {},
   "source": [
    "It looks like our first document was written by a student who chose the part-time job essay topic..."
   ]
  },
  {
   "cell_type": "code",
   "execution_count": null,
   "metadata": {},
   "outputs": [],
   "source": [
    "model.topic_distribution(900)"
   ]
  },
  {
   "cell_type": "markdown",
   "metadata": {},
   "source": [
    "...whereas this document looks like it was written by a student who chose the public smoking essay topic."
   ]
  },
  {
   "cell_type": "markdown",
   "metadata": {
    "collapsed": true
   },
   "source": [
    "We can also infer topics for a brand new document. First, let's create the document and use the forward index we loaded before to convert it to a feature vector:"
   ]
  },
  {
   "cell_type": "code",
   "execution_count": null,
   "metadata": {},
   "outputs": [],
   "source": [
    "doc = metapy.index.Document()\n",
    "doc.content(\"I think smoking in public is bad for others' health.\")\n",
    "fvec = fidx.tokenize(doc)"
   ]
  },
  {
   "cell_type": "markdown",
   "metadata": {},
   "source": [
    "Now, let's load a topic model inferencer that uses the same CVB inference method we used earlier:"
   ]
  },
  {
   "cell_type": "code",
   "execution_count": null,
   "metadata": {},
   "outputs": [],
   "source": [
    "inferencer = metapy.topics.CVBInferencer('lda-cvb0.phi.bin', alpha=1.0)"
   ]
  },
  {
   "cell_type": "markdown",
   "metadata": {
    "collapsed": true
   },
   "source": [
    "Now, let's infer the topic proportions for the new document:"
   ]
  },
  {
   "cell_type": "code",
   "execution_count": null,
   "metadata": {},
   "outputs": [],
   "source": [
    "proportions = inferencer.infer(fvec, max_iters=20, convergence=1e-4)\n",
    "print(proportions)"
   ]
  },
  {
   "cell_type": "code",
   "execution_count": null,
   "metadata": {},
   "outputs": [],
   "source": []
  }
 ],
 "metadata": {
  "kernelspec": {
   "display_name": "Python 3",
   "language": "python",
   "name": "python3"
  },
  "language_info": {
   "codemirror_mode": {
    "name": "ipython",
    "version": 3
   },
   "file_extension": ".py",
   "mimetype": "text/x-python",
   "name": "python",
   "nbconvert_exporter": "python",
   "pygments_lexer": "ipython3",
   "version": "3.6.8"
  }
 },
 "nbformat": 4,
 "nbformat_minor": 2
}
