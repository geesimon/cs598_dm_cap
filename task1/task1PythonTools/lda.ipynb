{
 "cells": [
  {
   "cell_type": "code",
   "execution_count": null,
   "metadata": {},
   "outputs": [],
   "source": [
    "# import gensim\n",
    "# from gensim.utils import simple_preprocess\n",
    "# from gensim.parsing.preprocessing import STOPWORDS\n",
    "# from nltk.stem import WordNetLemmatizer, SnowballStemmer\n",
    "# from nltk.stem.porter import *\n",
    "# import numpy as np\n",
    "# import nltk\n",
    "\n",
    "# np.random.seed(2018)\n",
    "# nltk.download('wordnet')"
   ]
  },
  {
   "cell_type": "code",
   "execution_count": null,
   "metadata": {},
   "outputs": [],
   "source": [
    "# import logging\n",
    "# from time import time\n",
    "# np.random.seed(2018)\n",
    "\n",
    "# #logging.basicConfig(format='%(asctime)s : %(levelname)s : %(message)s', level=logging.INFO)\n",
    "\n",
    "# #lda_model = gensim.models.LdaModel(bow_corpus, num_topics=10, id2word=dictionary,  eval_every=5, iterations = 1000, alpha='auto', gamma_threshold=0.01)\n",
    "# t0 = time()\n",
    "# #lda_model = gensim.models.LdaMulticore(bow_corpus, num_topics=10, id2word=dictionary, iterations = 1000, passes = 2)\n",
    "# lda_model = gensim.models.LdaModel(bow_corpus, num_topics=10, id2word=dictionary,  eval_every=5, iterations = 1000, alpha='auto', gamma_threshold=0.01)\n",
    "# print(\"done in %fs\" % (time() - t0))\n",
    "\n",
    "# for idx, topic in lda_model.print_topics(-1):\n",
    "#     print('Topic: {} \\nWords: {}'.format(idx, topic))"
   ]
  },
  {
   "cell_type": "code",
   "execution_count": 1,
   "metadata": {},
   "outputs": [
    {
     "name": "stderr",
     "output_type": "stream",
     "text": [
      "C:\\Users\\geesi\\Anaconda3\\envs\\dm_cap_mkl_py3\\lib\\site-packages\\gensim\\utils.py:1197: UserWarning: detected Windows; aliasing chunkize to chunkize_serial\n",
      "  warnings.warn(\"detected Windows; aliasing chunkize to chunkize_serial\")\n",
      "100%|█████████████████████████████████████████████████████████████████████████| 100181/100181 [03:02<00:00, 549.29it/s]\n"
     ]
    },
    {
     "name": "stdout",
     "output_type": "stream",
     "text": [
      "done in 97.105996s\n",
      "Topic: 0 Word: 0.010*\"dish\" + 0.009*\"rice\" + 0.009*\"pork\" + 0.009*\"roll\" + 0.008*\"thai\" + 0.008*\"spici\" + 0.008*\"noodl\" + 0.008*\"shrimp\" + 0.007*\"ramen\" + 0.007*\"chicken\"\n",
      "Topic: 1 Word: 0.056*\"pizza\" + 0.026*\"crust\" + 0.019*\"giada\" + 0.012*\"pepperoni\" + 0.012*\"sub\" + 0.012*\"zupa\" + 0.008*\"flatbread\" + 0.008*\"slice\" + 0.007*\"summerlin\" + 0.007*\"knot\"\n",
      "Topic: 2 Word: 0.064*\"sushi\" + 0.020*\"roll\" + 0.016*\"donut\" + 0.015*\"ayc\" + 0.013*\"rudi\" + 0.009*\"katsu\" + 0.009*\"nigiri\" + 0.008*\"nutella\" + 0.007*\"firehous\" + 0.006*\"margherita\"\n",
      "Topic: 3 Word: 0.015*\"tapa\" + 0.010*\"manag\" + 0.009*\"min\" + 0.007*\"minut\" + 0.006*\"applebe\" + 0.006*\"host\" + 0.006*\"tabl\" + 0.006*\"ask\" + 0.005*\"wait\" + 0.005*\"hair\"\n",
      "Topic: 4 Word: 0.045*\"crepe\" + 0.019*\"tonkatsu\" + 0.014*\"wifi\" + 0.013*\"monta\" + 0.013*\"grass\" + 0.012*\"papa\" + 0.009*\"smashburg\" + 0.009*\"chelsea\" + 0.008*\"escal\" + 0.007*\"peruvian\"\n",
      "Topic: 5 Word: 0.023*\"jelli\" + 0.021*\"boba\" + 0.015*\"wont\" + 0.014*\"thit\" + 0.013*\"nuong\" + 0.012*\"chilaquil\" + 0.010*\"burrata\" + 0.010*\"nervous\" + 0.009*\"toddler\" + 0.009*\"avondal\"\n",
      "Topic: 6 Word: 0.013*\"vega\" + 0.007*\"buffet\" + 0.007*\"indian\" + 0.006*\"smoothi\" + 0.005*\"syrup\" + 0.005*\"airport\" + 0.005*\"casino\" + 0.004*\"stack\" + 0.004*\"coffe\" + 0.004*\"vibe\"\n",
      "Topic: 7 Word: 0.007*\"great\" + 0.006*\"place\" + 0.006*\"good\" + 0.005*\"burger\" + 0.005*\"order\" + 0.005*\"servic\" + 0.005*\"friend\" + 0.005*\"time\" + 0.005*\"come\" + 0.005*\"taco\"\n",
      "Topic: 8 Word: 0.007*\"vega\" + 0.006*\"shake\" + 0.006*\"guacamol\" + 0.005*\"wine\" + 0.005*\"burger\" + 0.005*\"salad\" + 0.004*\"meatbal\" + 0.004*\"pizza\" + 0.004*\"strawberri\" + 0.004*\"great\"\n",
      "Topic: 9 Word: 0.013*\"filipino\" + 0.010*\"defiant\" + 0.009*\"schnitzel\" + 0.008*\"coney\" + 0.008*\"wick\" + 0.008*\"poke\" + 0.008*\"gumbo\" + 0.008*\"watermelon\" + 0.007*\"johnni\" + 0.007*\"barley\"\n"
     ]
    },
    {
     "name": "stderr",
     "output_type": "stream",
     "text": [
      "100%|███████████████████████████████████████████████████████████████████████████| 27830/27830 [00:45<00:00, 613.62it/s]\n"
     ]
    },
    {
     "name": "stdout",
     "output_type": "stream",
     "text": [
      "done in 28.546391s\n",
      "Topic: 0 Word: 0.051*\"ramen\" + 0.030*\"boba\" + 0.009*\"belli\" + 0.008*\"udon\" + 0.007*\"cevich\" + 0.007*\"shabu\" + 0.006*\"noodl\" + 0.006*\"slider\" + 0.006*\"georg\" + 0.006*\"fan\"\n",
      "Topic: 1 Word: 0.006*\"order\" + 0.005*\"chicken\" + 0.005*\"lunch\" + 0.005*\"time\" + 0.005*\"place\" + 0.005*\"come\" + 0.004*\"chines\" + 0.004*\"great\" + 0.004*\"rice\" + 0.004*\"restaur\"\n",
      "Topic: 2 Word: 0.012*\"noodl\" + 0.008*\"beef\" + 0.007*\"soup\" + 0.007*\"pork\" + 0.007*\"sauc\" + 0.007*\"dumpl\" + 0.007*\"spici\" + 0.006*\"chicken\" + 0.006*\"lamb\" + 0.006*\"fri\"\n",
      "Topic: 3 Word: 0.016*\"casino\" + 0.010*\"belli\" + 0.009*\"vega\" + 0.008*\"mango\" + 0.008*\"noodl\" + 0.007*\"great\" + 0.006*\"best\" + 0.006*\"place\" + 0.006*\"sandwich\" + 0.006*\"david\"\n",
      "Topic: 4 Word: 0.027*\"great\" + 0.019*\"servic\" + 0.017*\"love\" + 0.016*\"price\" + 0.015*\"fast\" + 0.014*\"best\" + 0.013*\"chines\" + 0.013*\"deliveri\" + 0.013*\"place\" + 0.012*\"staff\"\n",
      "Topic: 5 Word: 0.008*\"chines\" + 0.007*\"taiwanes\" + 0.007*\"restaur\" + 0.006*\"place\" + 0.006*\"authent\" + 0.006*\"shave\" + 0.005*\"buffet\" + 0.005*\"dumpl\" + 0.005*\"taro\" + 0.005*\"vega\"\n",
      "Topic: 6 Word: 0.020*\"sushi\" + 0.009*\"roll\" + 0.008*\"great\" + 0.008*\"happi\" + 0.007*\"vegan\" + 0.007*\"hour\" + 0.006*\"malaysian\" + 0.006*\"roti\" + 0.006*\"korean\" + 0.006*\"tuna\"\n",
      "Topic: 7 Word: 0.008*\"bao\" + 0.006*\"wendi\" + 0.006*\"bun\" + 0.005*\"tiger\" + 0.005*\"belli\" + 0.005*\"marrow\" + 0.004*\"noodl\" + 0.004*\"flavour\" + 0.004*\"tapa\" + 0.004*\"natur\"\n",
      "Topic: 8 Word: 0.008*\"walnut\" + 0.007*\"satay\" + 0.007*\"shrimp\" + 0.007*\"chicken\" + 0.006*\"breakfast\" + 0.006*\"chines\" + 0.006*\"great\" + 0.005*\"best\" + 0.005*\"afford\" + 0.005*\"beef\"\n",
      "Topic: 9 Word: 0.005*\"flavor\" + 0.005*\"order\" + 0.005*\"great\" + 0.004*\"like\" + 0.004*\"noodl\" + 0.004*\"dish\" + 0.004*\"restaur\" + 0.004*\"chicken\" + 0.004*\"place\" + 0.004*\"taco\"\n"
     ]
    },
    {
     "name": "stderr",
     "output_type": "stream",
     "text": [
      "100%|███████████████████████████████████████████████████████████████████████████| 10912/10912 [00:20<00:00, 543.53it/s]\n"
     ]
    },
    {
     "name": "stdout",
     "output_type": "stream",
     "text": [
      "done in 12.257504s\n",
      "Topic: 0 Word: 0.008*\"servic\" + 0.008*\"wait\" + 0.007*\"coupon\" + 0.006*\"order\" + 0.006*\"server\" + 0.006*\"minut\" + 0.005*\"good\" + 0.005*\"beer\" + 0.005*\"waitress\" + 0.005*\"time\"\n",
      "Topic: 1 Word: 0.008*\"chicken\" + 0.006*\"rice\" + 0.006*\"order\" + 0.006*\"noodl\" + 0.006*\"tast\" + 0.006*\"soup\" + 0.006*\"fri\" + 0.005*\"dish\" + 0.005*\"beef\" + 0.005*\"like\"\n",
      "Topic: 2 Word: 0.009*\"rude\" + 0.008*\"servic\" + 0.006*\"order\" + 0.006*\"custom\" + 0.006*\"come\" + 0.006*\"terribl\" + 0.006*\"server\" + 0.006*\"wait\" + 0.005*\"time\" + 0.005*\"groupon\"\n",
      "Topic: 3 Word: 0.005*\"time\" + 0.005*\"place\" + 0.005*\"restaur\" + 0.004*\"go\" + 0.004*\"servic\" + 0.004*\"buffet\" + 0.004*\"chines\" + 0.004*\"say\" + 0.004*\"come\" + 0.004*\"order\"\n",
      "Topic: 4 Word: 0.008*\"buffet\" + 0.008*\"comp\" + 0.007*\"slow\" + 0.005*\"profession\" + 0.005*\"choy\" + 0.005*\"servic\" + 0.005*\"execut\" + 0.005*\"space\" + 0.005*\"clue\" + 0.005*\"select\"\n",
      "Topic: 5 Word: 0.011*\"panda\" + 0.010*\"express\" + 0.009*\"smoke\" + 0.008*\"bake\" + 0.008*\"good\" + 0.006*\"better\" + 0.006*\"sushi\" + 0.006*\"mexican\" + 0.006*\"close\" + 0.006*\"creativ\"\n",
      "Topic: 6 Word: 0.008*\"wait\" + 0.008*\"order\" + 0.007*\"minut\" + 0.007*\"deliveri\" + 0.006*\"hour\" + 0.006*\"time\" + 0.006*\"tabl\" + 0.006*\"take\" + 0.005*\"custom\" + 0.005*\"come\"\n",
      "Topic: 7 Word: 0.009*\"taiwanes\" + 0.006*\"mexican\" + 0.006*\"mustard\" + 0.006*\"xiao\" + 0.006*\"chines\" + 0.006*\"fusion\" + 0.005*\"place\" + 0.005*\"price\" + 0.005*\"servic\" + 0.004*\"star\"\n",
      "Topic: 8 Word: 0.009*\"close\" + 0.008*\"sandwich\" + 0.008*\"smoothi\" + 0.008*\"curri\" + 0.007*\"ramen\" + 0.007*\"noodl\" + 0.007*\"kimchi\" + 0.006*\"stinki\" + 0.006*\"miso\" + 0.006*\"madison\"\n",
      "Topic: 9 Word: 0.008*\"servic\" + 0.007*\"place\" + 0.007*\"horribl\" + 0.006*\"come\" + 0.006*\"dimsum\" + 0.006*\"buffet\" + 0.006*\"boba\" + 0.006*\"prime\" + 0.005*\"good\" + 0.005*\"restaur\"\n"
     ]
    }
   ],
   "source": [
    "from gensim import corpora, models\n",
    "from gensim.utils import simple_preprocess\n",
    "from gensim.parsing.preprocessing import STOPWORDS\n",
    "from nltk.stem import WordNetLemmatizer, SnowballStemmer\n",
    "import numpy as np\n",
    "from tqdm import tqdm\n",
    "from time import time\n",
    "\n",
    "np.random.seed(2018)\n",
    "\n",
    "stemmer = SnowballStemmer('english')\n",
    "\n",
    "def lemmatize_stemming(text):\n",
    "    return stemmer.stem(WordNetLemmatizer().lemmatize(text, pos='v'))\n",
    "\n",
    "def preprocess(text):\n",
    "    result = []\n",
    "    for token in simple_preprocess(text, min_len = 4):\n",
    "        if token not in STOPWORDS:\n",
    "            result.append(lemmatize_stemming(token))\n",
    "    return result\n",
    "\n",
    "def get_topic_model(file_name, num_topics = 10, use_tfidf = True):\n",
    "    documents = []\n",
    "\n",
    "    with open (file_name, 'r') as f:\n",
    "        documents = f.readlines()\n",
    "    \n",
    "    processed_docs = [preprocess(text) for text in tqdm(documents)]\n",
    "    \n",
    "    dictionary = corpora.Dictionary(processed_docs)\n",
    "    dictionary.filter_extremes(no_below=15, no_above=0.5, keep_n=100000)\n",
    "    \n",
    "    corpus = [dictionary.doc2bow(doc) for doc in processed_docs]\n",
    "    if use_tfidf:\n",
    "        tfidf = models.TfidfModel(corpus)\n",
    "        corpus = tfidf[corpus]\n",
    "\n",
    "    t0 = time()\n",
    "    #lda_model = models.LdaMulticore(corpus, num_topics=num_topics, id2word=dictionary)\n",
    "    lda_model = models.LdaModel(corpus, num_topics=num_topics, id2word=dictionary,  eval_every=5, iterations = 1000, alpha='auto', gamma_threshold=0.01)\n",
    "    print(\"done in %fs\" % (time() - t0))\n",
    "    \n",
    "    return lda_model\n",
    "\n",
    "\n",
    "\n",
    "files = ['rest_review_sample_100000.txt', 'categories/Chinese_pos.txt', 'categories/Chinese_neg.txt']\n",
    "for f in files:\n",
    "    model = get_topic_model(f)\n",
    "    for idx, topic in model.print_topics(-1):\n",
    "        print('Topic: {} Word: {}'.format(idx, topic))"
   ]
  },
  {
   "cell_type": "code",
   "execution_count": null,
   "metadata": {},
   "outputs": [],
   "source": []
  }
 ],
 "metadata": {
  "kernelspec": {
   "display_name": "Python 3",
   "language": "python",
   "name": "python3"
  },
  "language_info": {
   "codemirror_mode": {
    "name": "ipython",
    "version": 3
   },
   "file_extension": ".py",
   "mimetype": "text/x-python",
   "name": "python",
   "nbconvert_exporter": "python",
   "pygments_lexer": "ipython3",
   "version": "3.6.8"
  }
 },
 "nbformat": 4,
 "nbformat_minor": 2
}
