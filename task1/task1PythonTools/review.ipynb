{
 "cells": [
  {
   "cell_type": "markdown",
   "metadata": {},
   "source": [
    "First, let's import the Python bindings, as usual."
   ]
  },
  {
   "cell_type": "code",
   "execution_count": 7,
   "metadata": {},
   "outputs": [],
   "source": [
    "import metapy"
   ]
  },
  {
   "cell_type": "code",
   "execution_count": 8,
   "metadata": {},
   "outputs": [
    {
     "data": {
      "text/plain": [
       "'0.2.13'"
      ]
     },
     "execution_count": 8,
     "metadata": {},
     "output_type": "execute_result"
    }
   ],
   "source": [
    "metapy.__version__ # you will want your version to be >= to this"
   ]
  },
  {
   "cell_type": "markdown",
   "metadata": {},
   "source": [
    "If you would like to, you can inform MeTA to output log data to stderr like so:"
   ]
  },
  {
   "cell_type": "code",
   "execution_count": 9,
   "metadata": {},
   "outputs": [],
   "source": [
    "metapy.log_to_stderr()"
   ]
  },
  {
   "cell_type": "markdown",
   "metadata": {},
   "source": [
    "Now, let's download a list of stopwords and a sample dataset to begin exploring MeTA's topic models."
   ]
  },
  {
   "cell_type": "code",
   "execution_count": 10,
   "metadata": {},
   "outputs": [
    {
     "name": "stdout",
     "output_type": "stream",
     "text": [
      "--2019-05-17 17:32:12--  https://raw.githubusercontent.com/meta-toolkit/meta/master/data/lemur-stopwords.txt\n",
      "Resolving raw.githubusercontent.com (raw.githubusercontent.com)... 151.101.76.133\n",
      "Connecting to raw.githubusercontent.com (raw.githubusercontent.com)|151.101.76.133|:443... connected.\n",
      "HTTP request sent, awaiting response... 200 OK\n",
      "Length: 2747 (2.7K) [text/plain]\n",
      "Saving to: ‘lemur-stopwords.txt’\n",
      "\n",
      "lemur-stopwords.txt 100%[===================>]   2.68K  --.-KB/s    in 0s      \n",
      "\n",
      "Last-modified header missing -- time-stamps turned off.\n",
      "2019-05-17 17:32:14 (12.3 MB/s) - ‘lemur-stopwords.txt’ saved [2747/2747]\n",
      "\n"
     ]
    }
   ],
   "source": [
    "!wget -N https://raw.githubusercontent.com/meta-toolkit/meta/master/data/lemur-stopwords.txt"
   ]
  },
  {
   "cell_type": "code",
   "execution_count": 11,
   "metadata": {},
   "outputs": [
    {
     "name": "stdout",
     "output_type": "stream",
     "text": [
      "--2019-05-17 17:32:16--  https://meta-toolkit.org/data/2016-01-26/ceeaus.tar.gz\n",
      "Resolving meta-toolkit.org (meta-toolkit.org)... 50.116.41.177\n",
      "Connecting to meta-toolkit.org (meta-toolkit.org)|50.116.41.177|:443... connected.\n",
      "HTTP request sent, awaiting response... 200 OK\n",
      "Length: 1182344 (1.1M) [application/octet-stream]\n",
      "Saving to: ‘ceeaus.tar.gz’\n",
      "\n",
      "ceeaus.tar.gz       100%[===================>]   1.13M   121KB/s    in 9.7s    \n",
      "\n",
      "2019-05-17 17:32:28 (120 KB/s) - ‘ceeaus.tar.gz’ saved [1182344/1182344]\n",
      "\n"
     ]
    }
   ],
   "source": [
    "!wget -N https://meta-toolkit.org/data/2016-01-26/ceeaus.tar.gz\n",
    "!tar xf ceeaus.tar.gz"
   ]
  },
  {
   "cell_type": "markdown",
   "metadata": {},
   "source": [
    "We will need to index our data to proceed. We eventually want to be able to extract the bag-of-words representation for our individual documents, so we will want a `ForwardIndex` in this case."
   ]
  },
  {
   "cell_type": "code",
   "execution_count": 30,
   "metadata": {},
   "outputs": [
    {
     "name": "stderr",
     "output_type": "stream",
     "text": [
      " > Counting lines in file: [=================================] 100% ETA 00:00:00 \n",
      " \n",
      "1558086132: [info]     Creating forward index: reviews-idx/fwd (/private/var/folders/nz/vv4_9tw56nv9k3tkvyszvwg80000gn/T/pip-req-build-nz_6bi23/deps/meta/src/index/forward_index.cpp:239)\n",
      "1558086132: [info]     Creating forward index: reviews-idx/fwd (/private/var/folders/nz/vv4_9tw56nv9k3tkvyszvwg80000gn/T/pip-req-build-nz_6bi23/deps/meta/src/index/forward_index.cpp:239)\n",
      " > Tokenizing Docs: [>                                       ]   0% ETA 00:00:00  \n",
      " \n",
      "1558086132: [warning]  Empty document (id = 5769) generated! (/private/var/folders/nz/vv4_9tw56nv9k3tkvyszvwg80000gn/T/pip-req-build-nz_6bi23/deps/meta/src/index/forward_index.cpp:335)\n",
      "1558086132: [warning]  Empty document (id = 5769) generated! (/private/var/folders/nz/vv4_9tw56nv9k3tkvyszvwg80000gn/T/pip-req-build-nz_6bi23/deps/meta/src/index/forward_index.cpp:335)\n",
      " > Tokenizing Docs: [================>                       ]  41% ETA 00:00:02    \n",
      " \n",
      "1558086134: [warning]  Empty document (id = 35331) generated! (/private/var/folders/nz/vv4_9tw56nv9k3tkvyszvwg80000gn/T/pip-req-build-nz_6bi23/deps/meta/src/index/forward_index.cpp:335)\n",
      "1558086134: [warning]  Empty document (id = 35331) generated! (/private/var/folders/nz/vv4_9tw56nv9k3tkvyszvwg80000gn/T/pip-req-build-nz_6bi23/deps/meta/src/index/forward_index.cpp:335)\n",
      " \n",
      " \n",
      "1558086134: [warning]  Empty document (id = 39143) generated! (/private/var/folders/nz/vv4_9tw56nv9k3tkvyszvwg80000gn/T/pip-req-build-nz_6bi23/deps/meta/src/index/forward_index.cpp:335)\n",
      "1558086134: [warning]  Empty document (id = 39143) generated! (/private/var/folders/nz/vv4_9tw56nv9k3tkvyszvwg80000gn/T/pip-req-build-nz_6bi23/deps/meta/src/index/forward_index.cpp:335)\n",
      " \n",
      " \n",
      "1558086134: [warning]  Empty document (id = 40494) generated! (/private/var/folders/nz/vv4_9tw56nv9k3tkvyszvwg80000gn/T/pip-req-build-nz_6bi23/deps/meta/src/index/forward_index.cpp:335)\n",
      "1558086134: [warning]  Empty document (id = 40494) generated! (/private/var/folders/nz/vv4_9tw56nv9k3tkvyszvwg80000gn/T/pip-req-build-nz_6bi23/deps/meta/src/index/forward_index.cpp:335)\n",
      " > Tokenizing Docs: [======================>                 ]  56% ETA 00:00:01  \n",
      " \n",
      "1558086134: [warning]  Empty document (id = 47705) generated! (/private/var/folders/nz/vv4_9tw56nv9k3tkvyszvwg80000gn/T/pip-req-build-nz_6bi23/deps/meta/src/index/forward_index.cpp:335)\n",
      "1558086134: [warning]  Empty document (id = 47705) generated! (/private/var/folders/nz/vv4_9tw56nv9k3tkvyszvwg80000gn/T/pip-req-build-nz_6bi23/deps/meta/src/index/forward_index.cpp:335)\n",
      " > Tokenizing Docs: [============================>           ]  72% ETA 00:00:00  \n",
      " \n",
      "1558086135: [warning]  Empty document (id = 62395) generated! (/private/var/folders/nz/vv4_9tw56nv9k3tkvyszvwg80000gn/T/pip-req-build-nz_6bi23/deps/meta/src/index/forward_index.cpp:335)\n",
      "1558086135: [warning]  Empty document (id = 62395) generated! (/private/var/folders/nz/vv4_9tw56nv9k3tkvyszvwg80000gn/T/pip-req-build-nz_6bi23/deps/meta/src/index/forward_index.cpp:335)\n",
      " \n",
      " \n",
      "1558086135: [warning]  Empty document (id = 62884) generated! (/private/var/folders/nz/vv4_9tw56nv9k3tkvyszvwg80000gn/T/pip-req-build-nz_6bi23/deps/meta/src/index/forward_index.cpp:335)\n",
      "1558086135: [warning]  Empty document (id = 62884) generated! (/private/var/folders/nz/vv4_9tw56nv9k3tkvyszvwg80000gn/T/pip-req-build-nz_6bi23/deps/meta/src/index/forward_index.cpp:335)\n",
      " > Tokenizing Docs: [==================================>     ]  86% ETA 00:00:00 \n",
      " \n",
      "1558086135: [warning]  Empty document (id = 65273) generated! (/private/var/folders/nz/vv4_9tw56nv9k3tkvyszvwg80000gn/T/pip-req-build-nz_6bi23/deps/meta/src/index/forward_index.cpp:335)\n",
      "1558086135: [warning]  Empty document (id = 65273) generated! (/private/var/folders/nz/vv4_9tw56nv9k3tkvyszvwg80000gn/T/pip-req-build-nz_6bi23/deps/meta/src/index/forward_index.cpp:335)\n",
      " \n",
      " \n",
      "1558086135: [warning]  Empty document (id = 67454) generated! (/private/var/folders/nz/vv4_9tw56nv9k3tkvyszvwg80000gn/T/pip-req-build-nz_6bi23/deps/meta/src/index/forward_index.cpp:335)\n",
      "1558086135: [warning]  Empty document (id = 67454) generated! (/private/var/folders/nz/vv4_9tw56nv9k3tkvyszvwg80000gn/T/pip-req-build-nz_6bi23/deps/meta/src/index/forward_index.cpp:335)\n",
      " > Tokenizing Docs: [========================================] 100% ETA 00:00:00 \n",
      " \n",
      " > Merging: [================================================] 100% ETA 00:00:00   \n",
      " \n",
      "1558086136: [info]     Done creating index: reviews-idx/fwd (/private/var/folders/nz/vv4_9tw56nv9k3tkvyszvwg80000gn/T/pip-req-build-nz_6bi23/deps/meta/src/index/forward_index.cpp:278)\n",
      "1558086136: [info]     Done creating index: reviews-idx/fwd (/private/var/folders/nz/vv4_9tw56nv9k3tkvyszvwg80000gn/T/pip-req-build-nz_6bi23/deps/meta/src/index/forward_index.cpp:278)\n"
     ]
    }
   ],
   "source": [
    "fidx = metapy.index.make_forward_index('review.toml')"
   ]
  },
  {
   "cell_type": "markdown",
   "metadata": {},
   "source": [
    "Just like in classification, the feature set used for the topic modeling will be the feature set used at the time of indexing, so if you want to play with a different set of features (like bigram words), you will need to re-index your data.\n",
    "\n",
    "For now, we've just stuck with the default filter chain for unigram words, so we're operating in the traditional bag-of-words space.\n",
    "\n",
    "Let's load our documents into memory to run the topic model inference now."
   ]
  },
  {
   "cell_type": "code",
   "execution_count": 31,
   "metadata": {},
   "outputs": [
    {
     "name": "stderr",
     "output_type": "stream",
     "text": [
      " \r",
      " > Loading instances into memory: [>                         ]   0% ETA 00:00:00 \r",
      " > Loading instances into memory: [>                         ]   0% ETA 00:00:00 \r",
      " > Loading instances into memory: [==========================] 100% ETA 00:00:00 \r",
      " > Loading instances into memory: [==========================] 100% ETA 00:00:00 \n",
      " \n"
     ]
    }
   ],
   "source": [
    "dset = metapy.learn.Dataset(fidx)"
   ]
  },
  {
   "cell_type": "markdown",
   "metadata": {},
   "source": [
    "Now, let's try to find some topics for this dataset. To do so, we're going to use a generative model called a topic model.\n",
    "\n",
    "There are many different topic models in the literature, but the most commonly used topic model is Latent Dirichlet Allocation. Here, we propose that there are K topics (represented with a categorical distribution over words) $\\phi_k$ from which all of our documents are genereated. These K topics are modeled as being sampled from a Dirichlet distribution with parameter $\\vec{\\alpha}$. Then, to generate a document $d$, we first sample a distribution over the K topics $\\theta_d$ from another Dirichlet distribution with parameter $\\vec{\\beta}$. Then, for each word in this document, we first sample a topic identifier $z \\sim \\theta_d$ and then the word by drawing from the topic we selected ($w \\sim \\phi_z$). Refer to the [Wikipedia article on LDA](https://en.wikipedia.org/wiki/Latent_Dirichlet_allocation) for more information.\n",
    "\n",
    "The goal of running inference for an LDA model is to infer the latent variables $\\phi_k$ and $\\theta_d$ for all of the $K$ topics and $D$ documents, respectively. MeTA provides a number of different inference algorithms for LDA, as each one entails a different set of trade-offs (inference in LDA is intractable, so all inference algorithms are approximations; different algorithms entail different approximation guarantees, running times, and required memroy consumption). For now, let's run a Variational Infernce algorithm called CVB0 to find two topics. (In practice you will likely be finding many more topics than just two, but this is a very small toy dataset.)"
   ]
  },
  {
   "cell_type": "code",
   "execution_count": null,
   "metadata": {},
   "outputs": [
    {
     "name": "stderr",
     "output_type": "stream",
     "text": [
      "Initialization: [============================================] 100% ETA 00:00:00                        \n",
      " \n",
      "Iteration 1 maximum change in gamma: 1.42598                                                                    \n",
      "Iteration 1 maximum change in gamma: 1.42598                                    \n",
      "Iteration 2 maximum change in gamma: 0.290918                                                                   \n",
      "Iteration 2 maximum change in gamma: 0.290918                                   \n",
      "Iteration 3 maximum change in gamma: 0.630436                                                                    \n",
      "Iteration 3 maximum change in gamma: 0.630436                                   \n",
      "Iteration 4 maximum change in gamma: 0.981627                                                                   \n",
      "Iteration 4 maximum change in gamma: 0.981627                                    \n",
      "Iteration 5 maximum change in gamma: 1.10921                                                                    \n",
      "Iteration 5 maximum change in gamma: 1.10921                                     \n",
      "Iteration 6 maximum change in gamma: 1.26665                                                                    \n",
      "Iteration 6 maximum change in gamma: 1.26665                                    \n",
      "Iteration 7 maximum change in gamma: 1.49816                                                                     \n",
      "Iteration 7 maximum change in gamma: 1.49816                                    \n",
      "Iteration 8 maximum change in gamma: 1.0138                                                                     \n",
      "Iteration 8 maximum change in gamma: 1.0138                                     \n",
      "Iteration 9 maximum change in gamma: 1.33505                                                                     \n",
      "Iteration 9 maximum change in gamma: 1.33505                                    \n",
      "Iteration 9: [======================>                        ]  48% ETA 00:00:08                "
     ]
    }
   ],
   "source": [
    "lda_inf = metapy.topics.LDACollapsedVB(dset, num_topics=10, alpha=1.0, beta=0.01)\n",
    "lda_inf.run(num_iters=1000)"
   ]
  },
  {
   "cell_type": "markdown",
   "metadata": {
    "collapsed": true
   },
   "source": [
    "The above ran the CVB0 algorithm for 1000 iterations, or until an algorithm-specific convergence criterion was met. Now let's save the current estimate for our topics and topic proportions."
   ]
  },
  {
   "cell_type": "code",
   "execution_count": 16,
   "metadata": {},
   "outputs": [],
   "source": [
    "lda_inf.save('lda-cvb0')"
   ]
  },
  {
   "cell_type": "markdown",
   "metadata": {},
   "source": [
    "We can interrogate the topic inference results by using the `TopicModel` query class. Let's load our inference results back in."
   ]
  },
  {
   "cell_type": "code",
   "execution_count": 17,
   "metadata": {},
   "outputs": [
    {
     "name": "stderr",
     "output_type": "stream",
     "text": [
      " \r",
      " > Loading topic term probabilities: [===========>           ]  50% ETA 00:00:00 \r",
      " > Loading topic term probabilities: [===========>           ]  50% ETA 00:00:00 \r",
      " > Loading topic term probabilities: [=======================] 100% ETA 00:00:00 \r",
      " > Loading topic term probabilities: [=======================] 100% ETA 00:00:00 \n",
      " \n",
      " \r",
      " > Loading document topic probabilities: [>                  ]   0% ETA 00:00:00 \r",
      " > Loading document topic probabilities: [>                  ]   0% ETA 00:00:00 \r",
      " > Loading document topic probabilities: [===================] 100% ETA 00:00:00 \r",
      " > Loading document topic probabilities: [===================] 100% ETA 00:00:00 \n",
      " \n"
     ]
    }
   ],
   "source": [
    "model = metapy.topics.TopicModel('lda-cvb0')"
   ]
  },
  {
   "cell_type": "markdown",
   "metadata": {},
   "source": [
    "Now, let's have a look at our topics. A typical way of doing this is to print the top $k$ words in each topic, so let's do that."
   ]
  },
  {
   "cell_type": "code",
   "execution_count": 18,
   "metadata": {},
   "outputs": [
    {
     "data": {
      "text/plain": [
       "[(3759, 0.06705638847185073),\n",
       " (1968, 0.05605922553333449),\n",
       " (2635, 0.05222299369860683),\n",
       " (3549, 0.046429323016541464),\n",
       " (665, 0.03488136097176335),\n",
       " (4157, 0.02906744262754168),\n",
       " (2322, 0.028850181393749164),\n",
       " (3729, 0.022331330009265446),\n",
       " (1790, 0.020755677124097673),\n",
       " (3554, 0.015483015030917832)]"
      ]
     },
     "execution_count": 18,
     "metadata": {},
     "output_type": "execute_result"
    }
   ],
   "source": [
    "model.top_k(tid=0)"
   ]
  },
  {
   "cell_type": "markdown",
   "metadata": {},
   "source": [
    "The models operate on term ids instead of raw text strings, so let's convert this to a human readable format by using the vocabulary contained in our `ForwardIndex` to map the term ids to strings."
   ]
  },
  {
   "cell_type": "code",
   "execution_count": 19,
   "metadata": {},
   "outputs": [
    {
     "data": {
      "text/plain": [
       "[('time', 0.06705638847185073),\n",
       " ('job', 0.05605922553333449),\n",
       " ('part', 0.05222299369860683),\n",
       " ('student', 0.046429323016541464),\n",
       " ('colleg', 0.03488136097176335),\n",
       " ('work', 0.02906744262754168),\n",
       " ('money', 0.028850181393749164),\n",
       " ('think', 0.022331330009265446),\n",
       " ('import', 0.020755677124097673),\n",
       " ('studi', 0.015483015030917832)]"
      ]
     },
     "execution_count": 19,
     "metadata": {},
     "output_type": "execute_result"
    }
   ],
   "source": [
    "[(fidx.term_text(pr[0]), pr[1]) for pr in model.top_k(tid=0)]"
   ]
  },
  {
   "cell_type": "code",
   "execution_count": 20,
   "metadata": {},
   "outputs": [
    {
     "data": {
      "text/plain": [
       "[('smoke', 0.13110415371161654),\n",
       " ('restaur', 0.054349396306202634),\n",
       " ('peopl', 0.03678012902347797),\n",
       " ('smoker', 0.033492686732128525),\n",
       " ('ban', 0.022530705207015563),\n",
       " ('think', 0.015620494401503484),\n",
       " ('japan', 0.012780936422655962),\n",
       " ('complet', 0.012635087335998278),\n",
       " ('cigarett', 0.01198720005093396),\n",
       " ('non', 0.011317756210677255)]"
      ]
     },
     "execution_count": 20,
     "metadata": {},
     "output_type": "execute_result"
    }
   ],
   "source": [
    "[(fidx.term_text(pr[0]), pr[1]) for pr in model.top_k(tid=1)]"
   ]
  },
  {
   "cell_type": "markdown",
   "metadata": {},
   "source": [
    "We can pretty clearly see that this particular dataset was about two major issues: smoking in public and part time jobs for students. This dataset is actually a collection of essays written by students, and there just so happen to be two different topics they can choose from!\n",
    "\n",
    "The topics are pretty clear in this case, but in some cases it is also useful to score the terms in a topic using some function of the probability of the word in the topic and the probability of the word in the other topics. Intuitively, we might want to select words from each topic that best reflect that topic's content by picking words that both have high probability in that topic **and** have low probability in the other topics. In other words, we want to balance between high probability terms and highly specific terms (this is kind of like a tf-idf weighting). One such scoring function is provided by the toolkit in `BLTermScorer`, which implements a scoring function proposed by Blei and Lafferty."
   ]
  },
  {
   "cell_type": "code",
   "execution_count": 21,
   "metadata": {},
   "outputs": [
    {
     "data": {
      "text/plain": [
       "[('job', 0.34821994022160396),\n",
       " ('part', 0.31311031896230457),\n",
       " ('student', 0.2832889530312013),\n",
       " ('colleg', 0.20808962299809064),\n",
       " ('time', 0.17797907086590925),\n",
       " ('money', 0.16234660557757263),\n",
       " ('work', 0.15585417209548247),\n",
       " ('studi', 0.08228282097843165),\n",
       " ('learn', 0.06491891126184335),\n",
       " ('experi', 0.05494481108549043)]"
      ]
     },
     "execution_count": 21,
     "metadata": {},
     "output_type": "execute_result"
    }
   ],
   "source": [
    "scorer = metapy.topics.BLTermScorer(model)\n",
    "[(fidx.term_text(pr[0]), pr[1]) for pr in model.top_k(tid=0, scorer=scorer)]"
   ]
  },
  {
   "cell_type": "code",
   "execution_count": 22,
   "metadata": {},
   "outputs": [
    {
     "data": {
      "text/plain": [
       "[('smoke', 0.8741657378126444),\n",
       " ('restaur', 0.31746084754386894),\n",
       " ('smoker', 0.20060312729691665),\n",
       " ('ban', 0.12853062376878555),\n",
       " ('cigarett', 0.0655761575981626),\n",
       " ('non', 0.061284307367810875),\n",
       " ('complet', 0.061053836988573806),\n",
       " ('japan', 0.05846410633716781),\n",
       " ('health', 0.050548412383300656),\n",
       " ('seat', 0.0453399574637634)]"
      ]
     },
     "execution_count": 22,
     "metadata": {},
     "output_type": "execute_result"
    }
   ],
   "source": [
    "[(fidx.term_text(pr[0]), pr[1]) for pr in model.top_k(tid=1, scorer=scorer)]"
   ]
  },
  {
   "cell_type": "markdown",
   "metadata": {},
   "source": [
    "Here we can see that the uninformative word stem \"think\" was downweighted from the word list from each topic, since it had relatively high probability in either topic."
   ]
  },
  {
   "cell_type": "markdown",
   "metadata": {},
   "source": [
    "We can also see the inferred topic distribution for each document."
   ]
  },
  {
   "cell_type": "code",
   "execution_count": 23,
   "metadata": {},
   "outputs": [
    {
     "data": {
      "text/plain": [
       "<metapy.stats.Multinomial {0: 0.978659, 1: 0.021341}>"
      ]
     },
     "execution_count": 23,
     "metadata": {},
     "output_type": "execute_result"
    }
   ],
   "source": [
    "model.topic_distribution(0)"
   ]
  },
  {
   "cell_type": "markdown",
   "metadata": {},
   "source": [
    "It looks like our first document was written by a student who chose the part-time job essay topic..."
   ]
  },
  {
   "cell_type": "code",
   "execution_count": 24,
   "metadata": {},
   "outputs": [
    {
     "data": {
      "text/plain": [
       "<metapy.stats.Multinomial {0: 0.021203, 1: 0.978797}>"
      ]
     },
     "execution_count": 24,
     "metadata": {},
     "output_type": "execute_result"
    }
   ],
   "source": [
    "model.topic_distribution(900)"
   ]
  },
  {
   "cell_type": "markdown",
   "metadata": {},
   "source": [
    "...whereas this document looks like it was written by a student who chose the public smoking essay topic."
   ]
  },
  {
   "cell_type": "markdown",
   "metadata": {
    "collapsed": true
   },
   "source": [
    "We can also infer topics for a brand new document. First, let's create the document and use the forward index we loaded before to convert it to a feature vector:"
   ]
  },
  {
   "cell_type": "code",
   "execution_count": 25,
   "metadata": {},
   "outputs": [],
   "source": [
    "doc = metapy.index.Document()\n",
    "doc.content(\"I think smoking in public is bad for others' health.\")\n",
    "fvec = fidx.tokenize(doc)"
   ]
  },
  {
   "cell_type": "markdown",
   "metadata": {},
   "source": [
    "Now, let's load a topic model inferencer that uses the same CVB inference method we used earlier:"
   ]
  },
  {
   "cell_type": "code",
   "execution_count": 26,
   "metadata": {},
   "outputs": [
    {
     "name": "stderr",
     "output_type": "stream",
     "text": [
      " \r",
      " > Loading topic term probabilities: [===========>           ]  50% ETA 00:00:00 \r",
      " > Loading topic term probabilities: [===========>           ]  50% ETA 00:00:00 \r",
      " > Loading topic term probabilities: [=======================] 100% ETA 00:00:00 \r",
      " > Loading topic term probabilities: [=======================] 100% ETA 00:00:00 \n",
      " \n"
     ]
    }
   ],
   "source": [
    "inferencer = metapy.topics.CVBInferencer('lda-cvb0.phi.bin', alpha=1.0)"
   ]
  },
  {
   "cell_type": "markdown",
   "metadata": {
    "collapsed": true
   },
   "source": [
    "Now, let's infer the topic proportions for the new document:"
   ]
  },
  {
   "cell_type": "code",
   "execution_count": 27,
   "metadata": {},
   "outputs": [
    {
     "name": "stdout",
     "output_type": "stream",
     "text": [
      "<metapy.stats.Multinomial {0: 0.185608, 1: 0.814392}>\n"
     ]
    }
   ],
   "source": [
    "proportions = inferencer.infer(fvec, max_iters=20, convergence=1e-4)\n",
    "print(proportions)"
   ]
  },
  {
   "cell_type": "code",
   "execution_count": null,
   "metadata": {},
   "outputs": [],
   "source": []
  }
 ],
 "metadata": {
  "kernelspec": {
   "display_name": "Python 3",
   "language": "python",
   "name": "python3"
  },
  "language_info": {
   "codemirror_mode": {
    "name": "ipython",
    "version": 3
   },
   "file_extension": ".py",
   "mimetype": "text/x-python",
   "name": "python",
   "nbconvert_exporter": "python",
   "pygments_lexer": "ipython3",
   "version": "3.6.8"
  }
 },
 "nbformat": 4,
 "nbformat_minor": 2
}
