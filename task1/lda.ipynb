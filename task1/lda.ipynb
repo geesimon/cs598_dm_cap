{
 "cells": [
  {
   "cell_type": "code",
   "execution_count": 1,
   "metadata": {},
   "outputs": [],
   "source": [
    "# import gensim\n",
    "# from gensim.utils import simple_preprocess\n",
    "# from gensim.parsing.preprocessing import STOPWORDS\n",
    "# from nltk.stem import WordNetLemmatizer, SnowballStemmer\n",
    "# from nltk.stem.porter import *\n",
    "# import numpy as np\n",
    "# import nltk\n",
    "\n",
    "# np.random.seed(2018)\n",
    "# nltk.download('wordnet')"
   ]
  },
  {
   "cell_type": "code",
   "execution_count": 2,
   "metadata": {},
   "outputs": [],
   "source": [
    "# import logging\n",
    "# from time import time\n",
    "# np.random.seed(2018)\n",
    "\n",
    "# #logging.basicConfig(format='%(asctime)s : %(levelname)s : %(message)s', level=logging.INFO)\n",
    "\n",
    "# #lda_model = gensim.models.LdaModel(bow_corpus, num_topics=10, id2word=dictionary,  eval_every=5, iterations = 1000, alpha='auto', gamma_threshold=0.01)\n",
    "# t0 = time()\n",
    "# #lda_model = gensim.models.LdaMulticore(bow_corpus, num_topics=10, id2word=dictionary, iterations = 1000, passes = 2)\n",
    "# lda_model = gensim.models.LdaModel(bow_corpus, num_topics=10, id2word=dictionary,  eval_every=5, iterations = 1000, alpha='auto', gamma_threshold=0.01)\n",
    "# print(\"done in %fs\" % (time() - t0))\n",
    "\n",
    "# for idx, topic in lda_model.print_topics(-1):\n",
    "#     print('Topic: {} \\nWords: {}'.format(idx, topic))"
   ]
  },
  {
   "cell_type": "code",
   "execution_count": 3,
   "metadata": {},
   "outputs": [
    {
     "name": "stderr",
     "output_type": "stream",
     "text": [
      "100%|██████████| 100000/100000 [02:20<00:00, 709.63it/s]\n",
      "  0%|          | 112/27804 [00:00<00:24, 1117.75it/s]"
     ]
    },
    {
     "name": "stdout",
     "output_type": "stream",
     "text": [
      "done in 44.268424s\n"
     ]
    },
    {
     "name": "stderr",
     "output_type": "stream",
     "text": [
      "100%|██████████| 27804/27804 [00:34<00:00, 808.61it/s]\n",
      "  1%|          | 70/10912 [00:00<00:15, 684.01it/s]"
     ]
    },
    {
     "name": "stdout",
     "output_type": "stream",
     "text": [
      "done in 12.001973s\n"
     ]
    },
    {
     "name": "stderr",
     "output_type": "stream",
     "text": [
      "100%|██████████| 10912/10912 [00:14<00:00, 757.22it/s]\n"
     ]
    },
    {
     "name": "stdout",
     "output_type": "stream",
     "text": [
      "done in 5.116647s\n"
     ]
    }
   ],
   "source": [
    "from gensim import corpora, models\n",
    "from gensim.utils import simple_preprocess\n",
    "from gensim.parsing.preprocessing import STOPWORDS\n",
    "from nltk.stem import WordNetLemmatizer, SnowballStemmer\n",
    "import numpy as np\n",
    "from tqdm import tqdm\n",
    "from time import time\n",
    "import json\n",
    "\n",
    "np.random.seed(2018)\n",
    "\n",
    "stemmer = SnowballStemmer('english')\n",
    "\n",
    "def lemmatize_stemming(text):\n",
    "    return stemmer.stem(WordNetLemmatizer().lemmatize(text, pos='v'))\n",
    "\n",
    "def preprocess(text):\n",
    "    result = []\n",
    "    for token in simple_preprocess(text, min_len = 4):\n",
    "        if token not in STOPWORDS:\n",
    "            result.append(lemmatize_stemming(token))\n",
    "    return result\n",
    "\n",
    "def get_topic_model(file_name, num_topics = 10, use_tfidf = True):\n",
    "    documents = []\n",
    "\n",
    "    with open (file_name, 'r') as f:\n",
    "        documents = f.readlines()\n",
    "    \n",
    "    processed_docs = [preprocess(text) for text in tqdm(documents)]\n",
    "    \n",
    "    dictionary = corpora.Dictionary(processed_docs)\n",
    "    dictionary.filter_extremes(no_below=15, no_above=0.5, keep_n=100000)\n",
    "    \n",
    "    corpus = [dictionary.doc2bow(doc) for doc in processed_docs]\n",
    "    if use_tfidf:\n",
    "        tfidf = models.TfidfModel(corpus)\n",
    "        corpus = tfidf[corpus]\n",
    "\n",
    "    t0 = time()\n",
    "    #lda_model = models.LdaMulticore(corpus, num_topics=num_topics, id2word=dictionary) #Bad!\n",
    "    #lda_model = models.LdaModel(corpus, num_topics=num_topics, id2word=dictionary,  eval_every=5, iterations = 1000, alpha='auto', gamma_threshold=0.01)\n",
    "    #lda_model = models.LdaModel(corpus, num_topics=num_topics, id2word=dictionary,  eval_every=5, alpha='auto') #Good enough\n",
    "    #lda_model = models.LdaModel(corpus, num_topics=num_topics, id2word=dictionary)\n",
    "\n",
    "    print(\"done in %fs\" % (time() - t0))\n",
    "    \n",
    "    return lda_model\n",
    "\n",
    "files = ['rest_review_sample_100000', 'categories/Chinese_pos', 'categories/Chinese_neg','categories/Chinese', 'categories/Mexican']\n",
    "model_1 = get_topic_model(files[0] + \".txt\", num_topics=20)\n",
    "model_2 = get_topic_model(files[1] + \".txt\")\n",
    "model_3 = get_topic_model(files[2] + \".txt\")\n",
    "# model_4 = get_topic_model(files[3] + \".txt\")\n",
    "# model_5 = get_topic_model(files[4] + \".txt\")"
   ]
  },
  {
   "cell_type": "code",
   "execution_count": 4,
   "metadata": {},
   "outputs": [],
   "source": [
    "Stock_Colors = ['black', 'maroon', 'red', 'purple', 'fuchsia', 'green', 'lime', 'olive', 'navy', 'blue', 'teal', 'aqua',\n",
    "               'black', 'maroon', 'red', 'purple', 'fuchsia', 'green', 'lime', 'olive']\n",
    "\n",
    "def get_topic_json(model, title, compare_words):\n",
    "    topic = model.show_topics(-1, formatted=False)\n",
    "    children_name = 'children'\n",
    "    name_name = 'name'\n",
    "    value_name = 'value'\n",
    "    color_name = 'color'    \n",
    "\n",
    "    topic_out = {name_name: title, children_name:[]}\n",
    "\n",
    "    for i in range(0, len(topic)):\n",
    "        topic_out[children_name].append({name_name: 'Topic ' + str(i), children_name:[]})\n",
    "        max_weight = topic[i][1][0][1]\n",
    "        for j in range(0, len(topic[i][1])):\n",
    "            topic_out[children_name][i][children_name].append({name_name:topic[i][1][j][0],\n",
    "                                                               value_name:\"{0:.2f}\".format(topic[i][1][j][1]/max_weight),\n",
    "                                                               color_name: Stock_Colors[i],\n",
    "                                                               'new_word': not (topic[i][1][j][0] in compare_words)})\n",
    "        \n",
    "    return topic_out\n",
    "\n",
    "\n",
    "def get_topic_words(model):\n",
    "    topic = model.show_topics(-1, formatted=False)\n",
    "    all_words = {}\n",
    "    for i in range(0, len(topic)):\n",
    "        for j in range(0, len(topic[i][1])):\n",
    "            if topic[i][1][j][0] in all_words:\n",
    "                all_words[topic[i][1][j][0]] += 1\n",
    "            else:\n",
    "                all_words[topic[i][1][j][0]] = 1\n",
    "    \n",
    "    return all_words\n",
    "    \n",
    "# with open(files[0] + '.json', 'w') as f:\n",
    "#     f.write(json.dumps(get_topic_json(model_1, '100000_Samples', {})))\n",
    "\n",
    "# pos_words = get_topic_words(model_2)\n",
    "# neg_words = get_topic_words(model_3)\n",
    "\n",
    "# topic2 = get_topic_json(model_2, 'Positive', neg_words)\n",
    "# topic3 = get_topic_json(model_3, 'Negative', pos_words)\n",
    "# topic = {'name':'Chinese Restaurant Reviews', 'children':[topic2, topic3]}\n",
    "# with open('compare' + '.json', 'w') as f:\n",
    "#     f.write(json.dumps(topic))\n",
    "    \n",
    "# topic4 = get_topic_json(model_4, 'Chinese')\n",
    "# topic5 = get_topic_json(model_5, 'Mexican')\n",
    "# topic = {'name':'Chinese vs. Mexican', 'children':[topic2, topic3]}\n",
    "# with open('compare_cn_mx' + '.json', 'w') as f:\n",
    "#     f.write(json.dumps(topic))"
   ]
  },
  {
   "cell_type": "code",
   "execution_count": 5,
   "metadata": {},
   "outputs": [
    {
     "name": "stdout",
     "output_type": "stream",
     "text": [
      "Topic: 0 Words: 0.005*\"great\" + 0.004*\"place\" + 0.004*\"good\" + 0.004*\"order\" + 0.004*\"time\" + 0.003*\"like\" + 0.003*\"servic\" + 0.003*\"come\" + 0.003*\"price\" + 0.003*\"pizza\"\n",
      "Topic: 1 Words: 0.006*\"great\" + 0.005*\"pasti\" + 0.005*\"servic\" + 0.005*\"bagel\" + 0.005*\"place\" + 0.004*\"good\" + 0.004*\"vegan\" + 0.003*\"love\" + 0.003*\"time\" + 0.003*\"breakfast\"\n",
      "Topic: 2 Words: 0.004*\"good\" + 0.004*\"great\" + 0.004*\"order\" + 0.004*\"like\" + 0.004*\"burger\" + 0.004*\"servic\" + 0.003*\"place\" + 0.003*\"crab\" + 0.003*\"come\" + 0.003*\"time\"\n",
      "Topic: 3 Words: 0.005*\"chicken\" + 0.004*\"good\" + 0.004*\"order\" + 0.004*\"like\" + 0.004*\"great\" + 0.003*\"place\" + 0.003*\"fri\" + 0.003*\"come\" + 0.003*\"sauc\" + 0.003*\"flavor\"\n",
      "Topic: 4 Words: 0.011*\"pizza\" + 0.005*\"great\" + 0.005*\"good\" + 0.005*\"place\" + 0.005*\"order\" + 0.004*\"sandwich\" + 0.004*\"time\" + 0.004*\"like\" + 0.004*\"friend\" + 0.004*\"love\"\n",
      "Topic: 5 Words: 0.005*\"servic\" + 0.005*\"great\" + 0.005*\"order\" + 0.005*\"time\" + 0.005*\"place\" + 0.004*\"wait\" + 0.004*\"come\" + 0.004*\"good\" + 0.004*\"friend\" + 0.004*\"minut\"\n",
      "Topic: 6 Words: 0.004*\"order\" + 0.004*\"good\" + 0.004*\"great\" + 0.004*\"chicken\" + 0.004*\"place\" + 0.003*\"servic\" + 0.003*\"like\" + 0.003*\"come\" + 0.003*\"time\" + 0.003*\"love\"\n",
      "Topic: 7 Words: 0.005*\"gyro\" + 0.005*\"great\" + 0.004*\"good\" + 0.004*\"place\" + 0.004*\"order\" + 0.003*\"time\" + 0.003*\"like\" + 0.003*\"pizza\" + 0.003*\"love\" + 0.003*\"sushi\"\n",
      "Topic: 8 Words: 0.008*\"taco\" + 0.007*\"pizza\" + 0.006*\"salsa\" + 0.005*\"great\" + 0.005*\"good\" + 0.005*\"burrito\" + 0.005*\"best\" + 0.004*\"place\" + 0.004*\"chicken\" + 0.004*\"like\"\n",
      "Topic: 9 Words: 0.010*\"love\" + 0.010*\"great\" + 0.006*\"amaz\" + 0.006*\"place\" + 0.006*\"servic\" + 0.005*\"good\" + 0.004*\"awesom\" + 0.004*\"price\" + 0.004*\"atmospher\" + 0.004*\"delici\"\n",
      "Topic: 10 Words: 0.006*\"taco\" + 0.005*\"great\" + 0.004*\"place\" + 0.004*\"good\" + 0.004*\"love\" + 0.004*\"order\" + 0.004*\"servic\" + 0.004*\"time\" + 0.004*\"burger\" + 0.003*\"come\"\n",
      "Topic: 11 Words: 0.005*\"burger\" + 0.005*\"good\" + 0.005*\"great\" + 0.004*\"place\" + 0.004*\"fri\" + 0.004*\"like\" + 0.004*\"order\" + 0.003*\"time\" + 0.003*\"servic\" + 0.003*\"love\"\n",
      "Topic: 12 Words: 0.007*\"pizza\" + 0.005*\"great\" + 0.005*\"good\" + 0.004*\"place\" + 0.004*\"servic\" + 0.004*\"price\" + 0.004*\"love\" + 0.004*\"time\" + 0.004*\"restaur\" + 0.003*\"happi\"\n",
      "Topic: 13 Words: 0.008*\"burger\" + 0.004*\"great\" + 0.004*\"good\" + 0.004*\"place\" + 0.004*\"servic\" + 0.004*\"order\" + 0.004*\"time\" + 0.004*\"fri\" + 0.004*\"wait\" + 0.004*\"come\"\n",
      "Topic: 14 Words: 0.006*\"pizza\" + 0.005*\"sandwich\" + 0.005*\"order\" + 0.004*\"great\" + 0.004*\"place\" + 0.004*\"good\" + 0.004*\"like\" + 0.004*\"time\" + 0.004*\"servic\" + 0.003*\"love\"\n",
      "Topic: 15 Words: 0.006*\"great\" + 0.006*\"thai\" + 0.005*\"place\" + 0.005*\"servic\" + 0.005*\"good\" + 0.004*\"time\" + 0.004*\"restaur\" + 0.004*\"love\" + 0.004*\"like\" + 0.003*\"sushi\"\n",
      "Topic: 16 Words: 0.005*\"good\" + 0.005*\"great\" + 0.004*\"place\" + 0.004*\"come\" + 0.004*\"time\" + 0.004*\"servic\" + 0.004*\"buffet\" + 0.004*\"order\" + 0.003*\"like\" + 0.003*\"restaur\"\n",
      "Topic: 17 Words: 0.008*\"great\" + 0.007*\"sushi\" + 0.006*\"servic\" + 0.006*\"place\" + 0.006*\"good\" + 0.005*\"love\" + 0.005*\"friend\" + 0.005*\"taco\" + 0.005*\"awesom\" + 0.004*\"amaz\"\n",
      "Topic: 18 Words: 0.005*\"ramen\" + 0.005*\"place\" + 0.004*\"good\" + 0.004*\"great\" + 0.004*\"time\" + 0.004*\"servic\" + 0.004*\"order\" + 0.004*\"burger\" + 0.003*\"like\" + 0.003*\"come\"\n",
      "Topic: 19 Words: 0.004*\"great\" + 0.004*\"good\" + 0.004*\"place\" + 0.004*\"breakfast\" + 0.004*\"time\" + 0.004*\"come\" + 0.003*\"order\" + 0.003*\"servic\" + 0.003*\"restaur\" + 0.003*\"like\"\n",
      "-------------------------------------------------------------------\n",
      "Topic: 0 Words: 0.007*\"noodl\" + 0.005*\"soup\" + 0.005*\"place\" + 0.005*\"chines\" + 0.005*\"chicken\" + 0.005*\"lunch\" + 0.005*\"great\" + 0.005*\"order\" + 0.005*\"time\" + 0.004*\"like\"\n",
      "Topic: 1 Words: 0.006*\"chines\" + 0.006*\"chicken\" + 0.005*\"great\" + 0.005*\"place\" + 0.005*\"noodl\" + 0.005*\"restaur\" + 0.004*\"price\" + 0.004*\"like\" + 0.004*\"order\" + 0.004*\"servic\"\n",
      "Topic: 2 Words: 0.006*\"chines\" + 0.005*\"place\" + 0.005*\"great\" + 0.005*\"best\" + 0.005*\"chicken\" + 0.005*\"servic\" + 0.004*\"like\" + 0.004*\"price\" + 0.004*\"excel\" + 0.004*\"love\"\n",
      "Topic: 3 Words: 0.006*\"chicken\" + 0.006*\"great\" + 0.006*\"chines\" + 0.006*\"love\" + 0.006*\"place\" + 0.005*\"order\" + 0.005*\"soup\" + 0.005*\"best\" + 0.005*\"rice\" + 0.004*\"delici\"\n",
      "Topic: 4 Words: 0.006*\"best\" + 0.006*\"place\" + 0.006*\"chines\" + 0.006*\"servic\" + 0.006*\"chicken\" + 0.005*\"great\" + 0.005*\"vega\" + 0.005*\"order\" + 0.005*\"restaur\" + 0.004*\"time\"\n",
      "Topic: 5 Words: 0.008*\"great\" + 0.006*\"chicken\" + 0.005*\"place\" + 0.005*\"order\" + 0.005*\"servic\" + 0.004*\"price\" + 0.004*\"like\" + 0.004*\"chines\" + 0.004*\"shrimp\" + 0.004*\"rice\"\n",
      "Topic: 6 Words: 0.008*\"great\" + 0.006*\"time\" + 0.006*\"place\" + 0.005*\"noodl\" + 0.005*\"chines\" + 0.005*\"come\" + 0.005*\"servic\" + 0.005*\"order\" + 0.005*\"love\" + 0.004*\"soup\"\n",
      "Topic: 7 Words: 0.007*\"love\" + 0.006*\"place\" + 0.006*\"servic\" + 0.006*\"great\" + 0.006*\"chicken\" + 0.006*\"thai\" + 0.006*\"chines\" + 0.005*\"recommend\" + 0.005*\"order\" + 0.005*\"restaur\"\n",
      "Topic: 8 Words: 0.006*\"chicken\" + 0.005*\"place\" + 0.005*\"lunch\" + 0.005*\"chines\" + 0.005*\"great\" + 0.005*\"order\" + 0.005*\"price\" + 0.005*\"soup\" + 0.005*\"servic\" + 0.004*\"roll\"\n",
      "Topic: 9 Words: 0.006*\"chines\" + 0.005*\"place\" + 0.005*\"great\" + 0.005*\"best\" + 0.005*\"restaur\" + 0.005*\"chicken\" + 0.004*\"like\" + 0.004*\"order\" + 0.004*\"lunch\" + 0.004*\"noodl\"\n",
      "-------------------------------------------------------------------\n",
      "Topic: 0 Words: 0.005*\"order\" + 0.005*\"place\" + 0.004*\"come\" + 0.004*\"like\" + 0.004*\"noodl\" + 0.004*\"chicken\" + 0.004*\"servic\" + 0.004*\"good\" + 0.004*\"restaur\" + 0.004*\"chines\"\n",
      "Topic: 1 Words: 0.006*\"chicken\" + 0.005*\"place\" + 0.005*\"order\" + 0.005*\"good\" + 0.005*\"chines\" + 0.004*\"rice\" + 0.004*\"time\" + 0.004*\"fri\" + 0.004*\"buffet\" + 0.004*\"restaur\"\n",
      "Topic: 2 Words: 0.005*\"chicken\" + 0.005*\"order\" + 0.005*\"place\" + 0.004*\"good\" + 0.004*\"like\" + 0.004*\"better\" + 0.004*\"chines\" + 0.004*\"tast\" + 0.004*\"time\" + 0.004*\"servic\"\n",
      "Topic: 3 Words: 0.005*\"good\" + 0.005*\"place\" + 0.005*\"chicken\" + 0.005*\"chines\" + 0.004*\"time\" + 0.004*\"servic\" + 0.004*\"like\" + 0.004*\"tast\" + 0.004*\"go\" + 0.004*\"come\"\n",
      "Topic: 4 Words: 0.007*\"good\" + 0.005*\"place\" + 0.005*\"order\" + 0.005*\"chicken\" + 0.005*\"chines\" + 0.004*\"dish\" + 0.004*\"servic\" + 0.004*\"like\" + 0.004*\"rice\" + 0.004*\"price\"\n",
      "Topic: 5 Words: 0.005*\"order\" + 0.005*\"good\" + 0.005*\"servic\" + 0.005*\"place\" + 0.005*\"chicken\" + 0.004*\"like\" + 0.004*\"chines\" + 0.004*\"go\" + 0.004*\"price\" + 0.004*\"come\"\n",
      "Topic: 6 Words: 0.005*\"place\" + 0.005*\"order\" + 0.005*\"chicken\" + 0.005*\"chines\" + 0.005*\"restaur\" + 0.004*\"time\" + 0.004*\"good\" + 0.004*\"go\" + 0.004*\"noodl\" + 0.004*\"servic\"\n",
      "Topic: 7 Words: 0.006*\"chicken\" + 0.005*\"order\" + 0.005*\"good\" + 0.005*\"chines\" + 0.005*\"rice\" + 0.005*\"noodl\" + 0.005*\"like\" + 0.005*\"time\" + 0.005*\"dish\" + 0.005*\"fri\"\n",
      "Topic: 8 Words: 0.005*\"order\" + 0.005*\"chicken\" + 0.005*\"chines\" + 0.005*\"place\" + 0.005*\"servic\" + 0.005*\"dish\" + 0.004*\"good\" + 0.004*\"soup\" + 0.004*\"like\" + 0.004*\"tast\"\n",
      "Topic: 9 Words: 0.006*\"chines\" + 0.005*\"order\" + 0.005*\"soup\" + 0.005*\"chicken\" + 0.005*\"servic\" + 0.005*\"good\" + 0.005*\"place\" + 0.005*\"come\" + 0.004*\"time\" + 0.004*\"restaur\"\n",
      "-------------------------------------------------------------------\n"
     ]
    }
   ],
   "source": [
    "for idx, topic in model_1.print_topics(-1):\n",
    "    print('Topic: {} Words: {}'.format(idx, topic))\n",
    "print('-------------------------------------------------------------------')\n",
    "for idx, topic in model_2.print_topics(-1):\n",
    "    print('Topic: {} Words: {}'.format(idx, topic))\n",
    "print('-------------------------------------------------------------------')\n",
    "for idx, topic in model_3.print_topics(-1):\n",
    "    print('Topic: {} Words: {}'.format(idx, topic))\n",
    "print('-------------------------------------------------------------------')\n",
    "# for idx, topic in model_4.print_topics(-1):\n",
    "#     print('Topic: {} Words: {}'.format(idx, topic))\n",
    "# print('-------------------------------------------------------------------')\n",
    "# for idx, topic in model_5.print_topics(-1):\n",
    "#     print('Topic: {} Words: {}'.format(idx, topic))"
   ]
  },
  {
   "cell_type": "code",
   "execution_count": null,
   "metadata": {},
   "outputs": [],
   "source": []
  }
 ],
 "metadata": {
  "kernelspec": {
   "display_name": "Python 3",
   "language": "python",
   "name": "python3"
  },
  "language_info": {
   "codemirror_mode": {
    "name": "ipython",
    "version": 3
   },
   "file_extension": ".py",
   "mimetype": "text/x-python",
   "name": "python",
   "nbconvert_exporter": "python",
   "pygments_lexer": "ipython3",
   "version": "3.6.8"
  }
 },
 "nbformat": 4,
 "nbformat_minor": 2
}
