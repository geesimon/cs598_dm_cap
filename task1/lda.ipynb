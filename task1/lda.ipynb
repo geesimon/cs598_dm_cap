{
 "cells": [
  {
   "cell_type": "code",
   "execution_count": 1,
   "metadata": {},
   "outputs": [],
   "source": [
    "# import gensim\n",
    "# from gensim.utils import simple_preprocess\n",
    "# from gensim.parsing.preprocessing import STOPWORDS\n",
    "# from nltk.stem import WordNetLemmatizer, SnowballStemmer\n",
    "# from nltk.stem.porter import *\n",
    "# import numpy as np\n",
    "# import nltk\n",
    "\n",
    "# np.random.seed(2018)\n",
    "# nltk.download('wordnet')"
   ]
  },
  {
   "cell_type": "code",
   "execution_count": 2,
   "metadata": {},
   "outputs": [],
   "source": [
    "# import logging\n",
    "# from time import time\n",
    "# np.random.seed(2018)\n",
    "\n",
    "# #logging.basicConfig(format='%(asctime)s : %(levelname)s : %(message)s', level=logging.INFO)\n",
    "\n",
    "# #lda_model = gensim.models.LdaModel(bow_corpus, num_topics=10, id2word=dictionary,  eval_every=5, iterations = 1000, alpha='auto', gamma_threshold=0.01)\n",
    "# t0 = time()\n",
    "# #lda_model = gensim.models.LdaMulticore(bow_corpus, num_topics=10, id2word=dictionary, iterations = 1000, passes = 2)\n",
    "# lda_model = gensim.models.LdaModel(bow_corpus, num_topics=10, id2word=dictionary,  eval_every=5, iterations = 1000, alpha='auto', gamma_threshold=0.01)\n",
    "# print(\"done in %fs\" % (time() - t0))\n",
    "\n",
    "# for idx, topic in lda_model.print_topics(-1):\n",
    "#     print('Topic: {} \\nWords: {}'.format(idx, topic))"
   ]
  },
  {
   "cell_type": "code",
   "execution_count": 3,
   "metadata": {},
   "outputs": [
    {
     "name": "stderr",
     "output_type": "stream",
     "text": [
      "100%|██████████| 100000/100000 [02:22<00:00, 702.54it/s]\n"
     ]
    },
    {
     "name": "stdout",
     "output_type": "stream",
     "text": [
      "done in 57.729951s\n"
     ]
    },
    {
     "name": "stderr",
     "output_type": "stream",
     "text": [
      "  0%|          | 109/27804 [00:00<00:25, 1086.49it/s]"
     ]
    },
    {
     "name": "stdout",
     "output_type": "stream",
     "text": [
      "done in 25.898016s\n"
     ]
    },
    {
     "name": "stderr",
     "output_type": "stream",
     "text": [
      "100%|██████████| 27804/27804 [00:34<00:00, 816.13it/s] \n",
      "  1%|          | 70/10912 [00:00<00:16, 674.29it/s]"
     ]
    },
    {
     "name": "stdout",
     "output_type": "stream",
     "text": [
      "done in 16.458354s\n"
     ]
    },
    {
     "name": "stderr",
     "output_type": "stream",
     "text": [
      "100%|██████████| 10912/10912 [00:14<00:00, 750.34it/s]\n"
     ]
    },
    {
     "name": "stdout",
     "output_type": "stream",
     "text": [
      "done in 7.258822s\n"
     ]
    }
   ],
   "source": [
    "from gensim import corpora, models\n",
    "from gensim.utils import simple_preprocess\n",
    "from gensim.parsing.preprocessing import STOPWORDS\n",
    "from nltk.stem import WordNetLemmatizer, SnowballStemmer\n",
    "import numpy as np\n",
    "from tqdm import tqdm\n",
    "from time import time\n",
    "import json\n",
    "\n",
    "np.random.seed(2018)\n",
    "\n",
    "stemmer = SnowballStemmer('english')\n",
    "\n",
    "def lemmatize_stemming(text):\n",
    "    return stemmer.stem(WordNetLemmatizer().lemmatize(text, pos='v'))\n",
    "\n",
    "def preprocess(text):\n",
    "    result = []\n",
    "    for token in simple_preprocess(text, min_len = 4):\n",
    "        if token not in STOPWORDS:\n",
    "            result.append(lemmatize_stemming(token))\n",
    "    return result\n",
    "\n",
    "def get_corpus(file_name, use_tfidf = True):\n",
    "    documents = []\n",
    "\n",
    "    with open (file_name, 'r') as f:\n",
    "        documents = f.readlines()\n",
    "\n",
    "    processed_docs = [preprocess(text) for text in tqdm(documents)]\n",
    "\n",
    "    dictionary = corpora.Dictionary(processed_docs)\n",
    "    dictionary.filter_extremes(no_below=15, no_above=0.5, keep_n=100000)\n",
    "    corpus = [dictionary.doc2bow(doc) for doc in processed_docs]\n",
    "    if use_tfidf:\n",
    "        tfidf = models.TfidfModel(corpus)\n",
    "        corpus = tfidf[corpus]\n",
    "        \n",
    "    return (corpus, dictionary)\n",
    "\n",
    "def get_lda_topic_model(corpus, dictionary, num_topics = 10, use_tfidf = True):\n",
    "    t0 = time()\n",
    "    #lda_model = models.LdaMulticore(corpus, num_topics=num_topics, id2word=dictionary) #Bad!\n",
    "    lda_model = models.LdaModel(corpus, num_topics=num_topics, id2word=dictionary,  eval_every=5, alpha='auto', gamma_threshold=0.01)\n",
    "    #lda_model = models.LdaModel(corpus, num_topics=num_topics, id2word=dictionary,  eval_every=5, iterations = 1000, alpha='auto', gamma_threshold=0.01)\n",
    "    #lda_model = models.LdaModel(corpus, num_topics=num_topics, id2word=dictionary,  eval_every=5, alpha='auto') #Good enough\n",
    "    #lda_model = models.LdaModel(corpus, num_topics=num_topics, id2word=dictionary)\n",
    "\n",
    "    print(\"done in %fs\" % (time() - t0))\n",
    "    \n",
    "    return lda_model\n",
    "\n",
    "def get_lsi_topic_model(corpus, dictionary, num_topics = 10):\n",
    "    t0 = time()\n",
    "    lsi_model = models.LsiModel(corpus, num_topics = num_topics, id2word = dictionary)\n",
    "    print(\"done in %fs\" % (time() - t0))\n",
    "    \n",
    "    return lsi_model\n",
    "\n",
    "files = ['rest_review_sample_100000', 'categories/Chinese_pos', 'categories/Chinese_neg','categories/Chinese', 'categories/Mexican']\n",
    "(corpus, dictionary) = get_corpus(files[0] + \".txt\")\n",
    "model_1 = get_lda_topic_model(corpus, dictionary, num_topics=20)\n",
    "model_1_1 = get_lsi_topic_model(corpus, dictionary, num_topics=20)\n",
    "\n",
    "corpus, dictionary = get_corpus(files[1] + \".txt\")\n",
    "model_2 = get_lda_topic_model(corpus, dictionary)\n",
    "\n",
    "corpus, dictionary = get_corpus(files[2] + \".txt\")\n",
    "model_3 = get_lda_topic_model(corpus, dictionary)\n",
    "# model_4 = get_topic_model(files[3] + \".txt\")\n",
    "# model_5 = get_topic_model(files[4] + \".txt\")"
   ]
  },
  {
   "cell_type": "code",
   "execution_count": 4,
   "metadata": {},
   "outputs": [],
   "source": [
    "Stock_Colors = ['black', 'maroon', 'red', 'purple', 'fuchsia', 'green', 'lime', 'olive', 'navy', 'blue', 'teal', 'aqua',\n",
    "               'black', 'maroon', 'red', 'purple', 'fuchsia', 'green', 'lime', 'olive']\n",
    "\n",
    "def get_topic_json(model, title, compare_words):\n",
    "    topic = model.show_topics(-1, formatted=False)\n",
    "    children_name = 'children'\n",
    "    name_name = 'name'\n",
    "    value_name = 'value'\n",
    "    color_name = 'color'    \n",
    "\n",
    "    topic_out = {name_name: title, children_name:[]}\n",
    "\n",
    "    for i in range(0, len(topic)):\n",
    "        topic_out[children_name].append({name_name: 'Topic ' + str(i), children_name:[]})\n",
    "        max_weight = topic[i][1][0][1]\n",
    "        for j in range(0, len(topic[i][1])):\n",
    "            topic_out[children_name][i][children_name].append({name_name:topic[i][1][j][0],\n",
    "                                                               value_name:\"{0:.2f}\".format(topic[i][1][j][1]/max_weight),\n",
    "                                                               color_name: Stock_Colors[i],\n",
    "                                                               'new_word': not (topic[i][1][j][0] in compare_words)})\n",
    "        \n",
    "    return topic_out\n",
    "\n",
    "\n",
    "def get_topic_words(model):\n",
    "    topic = model.show_topics(-1, formatted=False)\n",
    "    all_words = {}\n",
    "    for i in range(0, len(topic)):\n",
    "        for j in range(0, len(topic[i][1])):\n",
    "            if topic[i][1][j][0] in all_words:\n",
    "                all_words[topic[i][1][j][0]] += 1\n",
    "            else:\n",
    "                all_words[topic[i][1][j][0]] = 1\n",
    "    \n",
    "    return all_words\n",
    "    \n",
    "# with open(files[0] + '.json', 'w') as f:\n",
    "#     f.write(json.dumps(get_topic_json(model_1, '100000_Samples', {})))\n",
    "\n",
    "# pos_words = get_topic_words(model_2)\n",
    "# neg_words = get_topic_words(model_3)\n",
    "\n",
    "# topic2 = get_topic_json(model_2, 'Positive', neg_words)\n",
    "# topic3 = get_topic_json(model_3, 'Negative', pos_words)\n",
    "# topic = {'name':'Chinese Restaurant Reviews', 'children':[topic2, topic3]}\n",
    "# with open('compare' + '.json', 'w') as f:\n",
    "#     f.write(json.dumps(topic))\n",
    "    \n",
    "# topic4 = get_topic_json(model_4, 'Chinese')\n",
    "# topic5 = get_topic_json(model_5, 'Mexican')\n",
    "# topic = {'name':'Chinese vs. Mexican', 'children':[topic2, topic3]}\n",
    "# with open('compare_cn_mx' + '.json', 'w') as f:\n",
    "#     f.write(json.dumps(topic))"
   ]
  },
  {
   "cell_type": "code",
   "execution_count": 5,
   "metadata": {},
   "outputs": [
    {
     "name": "stdout",
     "output_type": "stream",
     "text": [
      "Topic: 0 Words: 0.011*\"truffl\" + 0.011*\"crepe\" + 0.010*\"chocol\" + 0.007*\"dessert\" + 0.007*\"concept\" + 0.006*\"cake\" + 0.006*\"kale\" + 0.006*\"appl\" + 0.006*\"wine\" + 0.006*\"lamb\"\n",
      "Topic: 1 Words: 0.052*\"pancak\" + 0.043*\"breakfast\" + 0.034*\"egg\" + 0.031*\"coffe\" + 0.021*\"omelet\" + 0.021*\"hash\" + 0.019*\"benedict\" + 0.019*\"tot\" + 0.018*\"bagel\" + 0.016*\"toast\"\n",
      "Topic: 2 Words: 0.019*\"crawfish\" + 0.016*\"blast\" + 0.015*\"cupcak\" + 0.014*\"reward\" + 0.014*\"yard\" + 0.013*\"scrambl\" + 0.012*\"alot\" + 0.012*\"loco\" + 0.010*\"uncomfort\" + 0.010*\"accept\"\n",
      "Topic: 3 Words: 0.008*\"great\" + 0.007*\"good\" + 0.007*\"place\" + 0.007*\"burger\" + 0.006*\"love\" + 0.005*\"friend\" + 0.005*\"fri\" + 0.005*\"order\" + 0.005*\"like\" + 0.005*\"servic\"\n",
      "Topic: 4 Words: 0.011*\"slider\" + 0.009*\"ketchup\" + 0.007*\"spoon\" + 0.007*\"ignor\" + 0.007*\"tasteless\" + 0.007*\"milk\" + 0.006*\"negat\" + 0.006*\"train\" + 0.005*\"horribl\" + 0.005*\"brat\"\n",
      "Topic: 5 Words: 0.009*\"minut\" + 0.008*\"wait\" + 0.007*\"tabl\" + 0.007*\"manag\" + 0.007*\"ask\" + 0.006*\"custom\" + 0.006*\"take\" + 0.006*\"say\" + 0.006*\"server\" + 0.006*\"order\"\n",
      "Topic: 6 Words: 0.022*\"brussel\" + 0.021*\"naan\" + 0.017*\"hibachi\" + 0.016*\"calzon\" + 0.015*\"wifi\" + 0.014*\"gras\" + 0.013*\"grimaldi\" + 0.013*\"mister\" + 0.013*\"foie\" + 0.012*\"crew\"\n",
      "Topic: 7 Words: 0.054*\"gyro\" + 0.037*\"pita\" + 0.025*\"hummus\" + 0.024*\"greek\" + 0.024*\"falafel\" + 0.018*\"kabob\" + 0.017*\"donut\" + 0.012*\"ipad\" + 0.012*\"blood\" + 0.011*\"jungl\"\n",
      "Topic: 8 Words: 0.028*\"gordon\" + 0.024*\"ramsay\" + 0.020*\"filipino\" + 0.019*\"katsu\" + 0.018*\"tonkatsu\" + 0.018*\"bacchan\" + 0.013*\"ramsey\" + 0.013*\"watermelon\" + 0.012*\"upset\" + 0.012*\"lechon\"\n",
      "Topic: 9 Words: 0.034*\"great\" + 0.020*\"servic\" + 0.020*\"creativ\" + 0.017*\"staff\" + 0.017*\"atmospher\" + 0.016*\"excel\" + 0.014*\"awesom\" + 0.013*\"marrow\" + 0.013*\"love\" + 0.012*\"mojito\"\n",
      "Topic: 10 Words: 0.073*\"taco\" + 0.037*\"asada\" + 0.034*\"carn\" + 0.024*\"burrito\" + 0.022*\"salsa\" + 0.018*\"pastor\" + 0.018*\"mexican\" + 0.016*\"fajita\" + 0.013*\"knot\" + 0.011*\"quinoa\"\n",
      "Topic: 11 Words: 0.016*\"music\" + 0.014*\"vietnames\" + 0.012*\"vibe\" + 0.012*\"game\" + 0.010*\"beer\" + 0.008*\"play\" + 0.008*\"danc\" + 0.008*\"bartend\" + 0.007*\"section\" + 0.007*\"patio\"\n",
      "Topic: 12 Words: 0.028*\"smoothi\" + 0.015*\"birthday\" + 0.014*\"leg\" + 0.013*\"crab\" + 0.012*\"king\" + 0.010*\"steak\" + 0.009*\"filet\" + 0.009*\"skinni\" + 0.008*\"steakhous\" + 0.008*\"lobster\"\n",
      "Topic: 13 Words: 0.022*\"indian\" + 0.019*\"monta\" + 0.019*\"wick\" + 0.018*\"gilbert\" + 0.018*\"masala\" + 0.018*\"mike\" + 0.014*\"postino\" + 0.013*\"tikka\" + 0.011*\"margherita\" + 0.011*\"puppi\"\n",
      "Topic: 14 Words: 0.031*\"pizza\" + 0.012*\"crust\" + 0.009*\"meatbal\" + 0.008*\"pepperoni\" + 0.007*\"belli\" + 0.007*\"dough\" + 0.006*\"station\" + 0.006*\"support\" + 0.006*\"pesto\" + 0.006*\"philli\"\n",
      "Topic: 15 Words: 0.028*\"text\" + 0.020*\"horchata\" + 0.017*\"raspberri\" + 0.015*\"boneless\" + 0.015*\"termin\" + 0.012*\"milkshak\" + 0.012*\"taiwanes\" + 0.011*\"echo\" + 0.011*\"pari\" + 0.011*\"interrupt\"\n",
      "Topic: 16 Words: 0.118*\"sushi\" + 0.042*\"roll\" + 0.032*\"ayc\" + 0.020*\"nigiri\" + 0.016*\"tempura\" + 0.016*\"kink\" + 0.015*\"tuna\" + 0.012*\"sake\" + 0.010*\"cut\" + 0.009*\"mochi\"\n",
      "Topic: 17 Words: 0.027*\"casino\" + 0.021*\"bloodi\" + 0.020*\"mari\" + 0.013*\"grit\" + 0.012*\"flatbread\" + 0.011*\"sooooo\" + 0.010*\"butcher\" + 0.010*\"hawaii\" + 0.009*\"chinatown\" + 0.009*\"ribey\"\n",
      "Topic: 18 Words: 0.037*\"korean\" + 0.031*\"boba\" + 0.023*\"bulgogi\" + 0.019*\"detroit\" + 0.017*\"kimchi\" + 0.015*\"seawe\" + 0.014*\"root\" + 0.013*\"tonkotsu\" + 0.013*\"mein\" + 0.013*\"firehous\"\n",
      "Topic: 19 Words: 0.021*\"tapa\" + 0.014*\"jalapeo\" + 0.012*\"fusion\" + 0.010*\"undercook\" + 0.009*\"skewer\" + 0.008*\"coke\" + 0.008*\"bachi\" + 0.007*\"draft\" + 0.007*\"risotto\" + 0.007*\"tequila\"\n",
      "-------------------------------------------------------------------\n",
      "Topic: 0 Words: 0.006*\"condens\" + 0.005*\"snow\" + 0.005*\"milk\" + 0.005*\"buffet\" + 0.004*\"skewer\" + 0.004*\"toast\" + 0.004*\"breakfast\" + 0.004*\"snoh\" + 0.004*\"tomato\" + 0.004*\"beef\"\n",
      "Topic: 1 Words: 0.007*\"chicken\" + 0.007*\"order\" + 0.006*\"great\" + 0.006*\"place\" + 0.005*\"chines\" + 0.005*\"love\" + 0.005*\"time\" + 0.005*\"rice\" + 0.005*\"like\" + 0.005*\"lunch\"\n",
      "Topic: 2 Words: 0.008*\"competit\" + 0.007*\"luxor\" + 0.007*\"great\" + 0.006*\"vega\" + 0.006*\"price\" + 0.006*\"afford\" + 0.006*\"thin\" + 0.006*\"prici\" + 0.006*\"servic\" + 0.006*\"vacat\"\n",
      "Topic: 3 Words: 0.094*\"ramen\" + 0.024*\"groupon\" + 0.015*\"great\" + 0.015*\"ichiban\" + 0.014*\"haus\" + 0.012*\"wanton\" + 0.012*\"mian\" + 0.008*\"servic\" + 0.008*\"cheap\" + 0.008*\"faux\"\n",
      "Topic: 4 Words: 0.039*\"vegan\" + 0.015*\"island\" + 0.013*\"hotpot\" + 0.012*\"tiger\" + 0.008*\"kimchi\" + 0.008*\"mekong\" + 0.008*\"fugu\" + 0.008*\"takeaway\" + 0.008*\"conge\" + 0.006*\"southern\"\n",
      "Topic: 5 Words: 0.016*\"hotel\" + 0.013*\"roti\" + 0.013*\"boba\" + 0.010*\"mango\" + 0.009*\"excel\" + 0.008*\"portion\" + 0.007*\"salsa\" + 0.007*\"price\" + 0.007*\"great\" + 0.007*\"servic\"\n",
      "Topic: 6 Words: 0.019*\"great\" + 0.017*\"boba\" + 0.013*\"awesom\" + 0.013*\"price\" + 0.011*\"love\" + 0.011*\"lunch\" + 0.010*\"servic\" + 0.010*\"fresh\" + 0.010*\"staff\" + 0.009*\"friend\"\n",
      "Topic: 7 Words: 0.046*\"casino\" + 0.018*\"salon\" + 0.018*\"margarita\" + 0.016*\"servic\" + 0.014*\"vega\" + 0.011*\"pricey\" + 0.011*\"best\" + 0.008*\"great\" + 0.008*\"restur\" + 0.008*\"price\"\n",
      "Topic: 8 Words: 0.012*\"avocado\" + 0.010*\"miso\" + 0.009*\"sushi\" + 0.009*\"cevich\" + 0.009*\"blend\" + 0.008*\"georg\" + 0.007*\"samba\" + 0.007*\"everyday\" + 0.007*\"favourit\" + 0.007*\"newli\"\n",
      "Topic: 9 Words: 0.011*\"noodl\" + 0.007*\"dumpl\" + 0.006*\"duck\" + 0.006*\"pork\" + 0.005*\"dish\" + 0.005*\"soup\" + 0.005*\"beef\" + 0.004*\"restaur\" + 0.004*\"belli\" + 0.004*\"like\"\n",
      "-------------------------------------------------------------------\n",
      "Topic: 0 Words: 0.006*\"order\" + 0.005*\"servic\" + 0.005*\"place\" + 0.005*\"horribl\" + 0.005*\"restaur\" + 0.004*\"time\" + 0.004*\"like\" + 0.004*\"worst\" + 0.004*\"poison\" + 0.004*\"go\"\n",
      "Topic: 1 Words: 0.006*\"thai\" + 0.006*\"groupon\" + 0.006*\"chines\" + 0.005*\"servic\" + 0.005*\"place\" + 0.005*\"bartend\" + 0.005*\"time\" + 0.005*\"busi\" + 0.004*\"good\" + 0.004*\"restaur\"\n",
      "Topic: 2 Words: 0.007*\"sushi\" + 0.005*\"noodl\" + 0.005*\"order\" + 0.005*\"ramen\" + 0.005*\"roll\" + 0.005*\"rice\" + 0.005*\"beef\" + 0.005*\"fish\" + 0.004*\"chicken\" + 0.004*\"good\"\n",
      "Topic: 3 Words: 0.016*\"taco\" + 0.011*\"taiwan\" + 0.010*\"good\" + 0.009*\"ragoon\" + 0.009*\"hawaii\" + 0.008*\"better\" + 0.006*\"servic\" + 0.006*\"worst\" + 0.006*\"chines\" + 0.006*\"imperi\"\n",
      "Topic: 4 Words: 0.011*\"chicken\" + 0.010*\"soup\" + 0.010*\"noodl\" + 0.008*\"rice\" + 0.008*\"beef\" + 0.008*\"fri\" + 0.007*\"pork\" + 0.007*\"flavor\" + 0.006*\"wonton\" + 0.006*\"sauc\"\n",
      "Topic: 5 Words: 0.007*\"wait\" + 0.006*\"order\" + 0.006*\"come\" + 0.006*\"servic\" + 0.006*\"time\" + 0.005*\"minut\" + 0.005*\"tabl\" + 0.005*\"place\" + 0.005*\"server\" + 0.005*\"restaur\"\n",
      "Topic: 6 Words: 0.008*\"servic\" + 0.007*\"order\" + 0.006*\"wait\" + 0.006*\"restaur\" + 0.006*\"custom\" + 0.006*\"minut\" + 0.006*\"say\" + 0.005*\"time\" + 0.005*\"place\" + 0.005*\"card\"\n",
      "Topic: 7 Words: 0.008*\"chicken\" + 0.006*\"rice\" + 0.006*\"dish\" + 0.006*\"fri\" + 0.006*\"sauc\" + 0.006*\"order\" + 0.005*\"tast\" + 0.005*\"flavor\" + 0.005*\"good\" + 0.005*\"like\"\n",
      "Topic: 8 Words: 0.013*\"buffet\" + 0.007*\"time\" + 0.006*\"sushi\" + 0.006*\"go\" + 0.006*\"good\" + 0.005*\"place\" + 0.005*\"select\" + 0.005*\"panda\" + 0.005*\"chines\" + 0.005*\"lunch\"\n",
      "Topic: 9 Words: 0.007*\"lamb\" + 0.006*\"close\" + 0.006*\"good\" + 0.005*\"servic\" + 0.005*\"chines\" + 0.005*\"noodl\" + 0.005*\"place\" + 0.004*\"order\" + 0.004*\"beef\" + 0.004*\"price\"\n",
      "-------------------------------------------------------------------\n"
     ]
    }
   ],
   "source": [
    "for idx, topic in model_1.print_topics(-1):\n",
    "    print('Topic: {} Words: {}'.format(idx, topic))\n",
    "print('-------------------------------------------------------------------')\n",
    "\n",
    "# for idx, topic in model_1_1.print_topics(-1):\n",
    "#     print('Topic: {} Words: {}'.format(idx, topic))\n",
    "# print('-------------------------------------------------------------------')\n",
    "\n",
    "for idx, topic in model_2.print_topics(-1):\n",
    "    print('Topic: {} Words: {}'.format(idx, topic))\n",
    "print('-------------------------------------------------------------------')\n",
    "\n",
    "for idx, topic in model_3.print_topics(-1):\n",
    "    print('Topic: {} Words: {}'.format(idx, topic))\n",
    "print('-------------------------------------------------------------------')\n",
    "# for idx, topic in model_4.print_topics(-1):\n",
    "#     print('Topic: {} Words: {}'.format(idx, topic))\n",
    "# print('-------------------------------------------------------------------')\n",
    "# for idx, topic in model_5.print_topics(-1):\n",
    "#     print('Topic: {} Words: {}'.format(idx, topic))"
   ]
  },
  {
   "cell_type": "markdown",
   "metadata": {},
   "source": [
    "http://qpleple.com/topic-coherence-to-evaluate-topic-models/"
   ]
  }
 ],
 "metadata": {
  "kernelspec": {
   "display_name": "Python 3",
   "language": "python",
   "name": "python3"
  },
  "language_info": {
   "codemirror_mode": {
    "name": "ipython",
    "version": 3
   },
   "file_extension": ".py",
   "mimetype": "text/x-python",
   "name": "python",
   "nbconvert_exporter": "python",
   "pygments_lexer": "ipython3",
   "version": "3.6.8"
  }
 },
 "nbformat": 4,
 "nbformat_minor": 2
}
