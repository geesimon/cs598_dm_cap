{
 "cells": [
  {
   "cell_type": "markdown",
   "metadata": {},
   "source": [
    "https://towardsdatascience.com/topic-modeling-and-latent-dirichlet-allocation-in-python-9bf156893c24"
   ]
  },
  {
   "cell_type": "code",
   "execution_count": 1,
   "metadata": {},
   "outputs": [],
   "source": [
    "# import gensim\n",
    "# from gensim.utils import simple_preprocess\n",
    "# from gensim.parsing.preprocessing import STOPWORDS\n",
    "# from nltk.stem import WordNetLemmatizer, SnowballStemmer\n",
    "# from nltk.stem.porter import *\n",
    "# import numpy as np\n",
    "# import nltk\n",
    "\n",
    "# np.random.seed(2018)\n",
    "# nltk.download('wordnet')"
   ]
  },
  {
   "cell_type": "code",
   "execution_count": 2,
   "metadata": {},
   "outputs": [],
   "source": [
    "# import logging\n",
    "# from time import time\n",
    "# np.random.seed(2018)\n",
    "\n",
    "# #logging.basicConfig(format='%(asctime)s : %(levelname)s : %(message)s', level=logging.INFO)\n",
    "\n",
    "# #lda_model = gensim.models.LdaModel(bow_corpus, num_topics=10, id2word=dictionary,  eval_every=5, iterations = 1000, alpha='auto', gamma_threshold=0.01)\n",
    "# t0 = time()\n",
    "# #lda_model = gensim.models.LdaMulticore(bow_corpus, num_topics=10, id2word=dictionary, iterations = 1000, passes = 2)\n",
    "# lda_model = gensim.models.LdaModel(bow_corpus, num_topics=10, id2word=dictionary,  eval_every=5, iterations = 1000, alpha='auto', gamma_threshold=0.01)\n",
    "# print(\"done in %fs\" % (time() - t0))\n",
    "\n",
    "# for idx, topic in lda_model.print_topics(-1):\n",
    "#     print('Topic: {} \\nWords: {}'.format(idx, topic))"
   ]
  },
  {
   "cell_type": "code",
   "execution_count": 3,
   "metadata": {},
   "outputs": [
    {
     "name": "stderr",
     "output_type": "stream",
     "text": [
      "100%|██████████| 100000/100000 [02:18<00:00, 721.53it/s]\n"
     ]
    },
    {
     "name": "stdout",
     "output_type": "stream",
     "text": [
      "done in 54.596851s\n",
      "done in 53.589476s\n",
      "k=5 coherence=-8.711588\n",
      "done in 55.356229s\n",
      "k=6 coherence=-6.006455\n",
      "done in 53.863223s\n",
      "k=7 coherence=-6.830794\n",
      "done in 53.929561s\n",
      "k=8 coherence=-9.040357\n",
      "done in 52.581625s\n",
      "k=9 coherence=-9.111941\n",
      "done in 53.819305s\n",
      "k=10 coherence=-7.393406\n",
      "done in 52.411267s\n",
      "k=11 coherence=-9.348815\n",
      "done in 52.211808s\n",
      "k=12 coherence=-9.748305\n",
      "done in 53.122221s\n",
      "k=13 coherence=-9.353274\n",
      "done in 120.260599s\n",
      "k=14 coherence=-8.486139\n",
      "done in 56.933982s\n",
      "k=15 coherence=-8.616813\n",
      "done in 53.562596s\n",
      "k=16 coherence=-9.407344\n",
      "done in 52.509920s\n",
      "k=17 coherence=-8.954476\n",
      "done in 53.434786s\n",
      "k=18 coherence=-8.718664\n",
      "done in 54.582902s\n",
      "k=19 coherence=-8.635861\n",
      "done in 55.931944s\n",
      "k=20 coherence=-8.205251\n",
      "done in 54.137989s\n",
      "k=21 coherence=-9.358789\n",
      "done in 56.326857s\n",
      "k=22 coherence=-8.500321\n",
      "done in 54.698021s\n",
      "k=23 coherence=-8.155904\n",
      "done in 55.101050s\n",
      "k=24 coherence=-8.248734\n",
      "done in 53.858708s\n",
      "k=25 coherence=-8.718934\n",
      "done in 53.723265s\n",
      "k=26 coherence=-8.272773\n",
      "done in 55.207964s\n",
      "k=27 coherence=-8.452026\n",
      "done in 55.003779s\n",
      "k=28 coherence=-8.067849\n",
      "done in 55.376185s\n"
     ]
    },
    {
     "name": "stderr",
     "output_type": "stream",
     "text": [
      "  0%|          | 118/27804 [00:00<00:23, 1173.14it/s]"
     ]
    },
    {
     "name": "stdout",
     "output_type": "stream",
     "text": [
      "k=29 coherence=-9.057965\n"
     ]
    },
    {
     "name": "stderr",
     "output_type": "stream",
     "text": [
      "100%|██████████| 27804/27804 [00:35<00:00, 789.65it/s]\n",
      "  1%|          | 71/10912 [00:00<00:15, 679.88it/s]"
     ]
    },
    {
     "name": "stdout",
     "output_type": "stream",
     "text": [
      "done in 16.402430s\n"
     ]
    },
    {
     "name": "stderr",
     "output_type": "stream",
     "text": [
      "100%|██████████| 10912/10912 [00:14<00:00, 764.19it/s]\n"
     ]
    },
    {
     "name": "stdout",
     "output_type": "stream",
     "text": [
      "done in 7.212865s\n"
     ]
    }
   ],
   "source": [
    "from gensim import corpora, models\n",
    "from gensim.utils import simple_preprocess\n",
    "from gensim.parsing.preprocessing import STOPWORDS\n",
    "from nltk.stem import WordNetLemmatizer, SnowballStemmer\n",
    "import numpy as np\n",
    "from tqdm import tqdm\n",
    "from time import time\n",
    "import json\n",
    "\n",
    "np.random.seed(2018)\n",
    "\n",
    "stemmer = SnowballStemmer('english')\n",
    "\n",
    "def lemmatize_stemming(text):\n",
    "    return stemmer.stem(WordNetLemmatizer().lemmatize(text, pos='v'))\n",
    "\n",
    "def preprocess(text):\n",
    "    result = []\n",
    "    for token in simple_preprocess(text, min_len = 4):\n",
    "        if token not in STOPWORDS:\n",
    "            result.append(lemmatize_stemming(token))\n",
    "    return result\n",
    "\n",
    "def get_corpus(file_name, use_tfidf = True):\n",
    "    documents = []\n",
    "\n",
    "    with open (file_name, 'r') as f:\n",
    "        documents = f.readlines()\n",
    "\n",
    "    processed_docs = [preprocess(text) for text in tqdm(documents)]\n",
    "\n",
    "    dictionary = corpora.Dictionary(processed_docs)\n",
    "    dictionary.filter_extremes(no_below=15, no_above=0.5, keep_n=100000)\n",
    "    corpus = [dictionary.doc2bow(doc) for doc in processed_docs]\n",
    "    if use_tfidf:\n",
    "        tfidf = models.TfidfModel(corpus)\n",
    "        corpus = tfidf[corpus]\n",
    "        \n",
    "    return (corpus, dictionary)\n",
    "\n",
    "def get_lda_topic_model(corpus, dictionary, num_topics = 10):\n",
    "    t0 = time()\n",
    "    #lda_model = models.LdaMulticore(corpus, num_topics=num_topics, id2word=dictionary) #Bad!\n",
    "    lda_model = models.LdaModel(corpus, num_topics=num_topics, id2word=dictionary,  eval_every=5, alpha='auto', gamma_threshold=0.01)\n",
    "    #lda_model = models.LdaModel(corpus, num_topics=num_topics, id2word=dictionary,  eval_every=5, iterations = 1000, alpha='auto', gamma_threshold=0.01)\n",
    "    #lda_model = models.LdaModel(corpus, num_topics=num_topics, id2word=dictionary,  eval_every=5, alpha='auto') #Good enough\n",
    "    #lda_model = models.LdaModel(corpus, num_topics=num_topics, id2word=dictionary)\n",
    "\n",
    "    print(\"done in %fs\" % (time() - t0))\n",
    "    \n",
    "    return lda_model\n",
    "\n",
    "def get_lsi_topic_model(corpus, dictionary, num_topics = 10):\n",
    "    t0 = time()\n",
    "    lsi_model = models.LsiModel(corpus, num_topics = num_topics, id2word = dictionary)\n",
    "    print(\"done in %fs\" % (time() - t0))\n",
    "    \n",
    "    return lsi_model\n",
    "\n",
    "files = ['rest_review_sample_100000', 'categories/Chinese_pos', 'categories/Chinese_neg','categories/Chinese', 'categories/Mexican']\n",
    "(corpus, dictionary) = get_corpus(files[0] + \".txt\")\n",
    "model_1 = get_lda_topic_model(corpus, dictionary, num_topics=20)\n",
    "#model_1_1 = get_lsi_topic_model(corpus, dictionary, num_topics=20)\n",
    "largest_coherence = -1e20\n",
    "for k in range(5, 30):\n",
    "    model = get_lda_topic_model(corpus, dictionary, num_topics=k)    \n",
    "    cm = models.coherencemodel.CoherenceModel(model=model, corpus=corpus, coherence='u_mass')\n",
    "    coherence = cm.get_coherence()\n",
    "    print(\"k=%d coherence=%f\"%(k, coherence))\n",
    "    if (coherence > largest_coherence):\n",
    "        largest_coherence = coherence\n",
    "        model_1 = model\n",
    "    \n",
    "corpus, dictionary = get_corpus(files[1] + \".txt\")\n",
    "model_2 = get_lda_topic_model(corpus, dictionary)\n",
    "\n",
    "corpus, dictionary = get_corpus(files[2] + \".txt\")\n",
    "model_3 = get_lda_topic_model(corpus, dictionary)\n",
    "# model_4 = get_topic_model(files[3] + \".txt\")\n",
    "# model_5 = get_topic_model(files[4] + \".txt\")"
   ]
  },
  {
   "cell_type": "code",
   "execution_count": 30,
   "metadata": {},
   "outputs": [
    {
     "name": "stderr",
     "output_type": "stream",
     "text": [
      "100%|██████████| 100000/100000 [02:19<00:00, 718.40it/s]\n"
     ]
    }
   ],
   "source": [
    "corpus, dictionary = get_corpus(files[0] + \".txt\")"
   ]
  },
  {
   "cell_type": "code",
   "execution_count": 38,
   "metadata": {},
   "outputs": [
    {
     "ename": "KeyError",
     "evalue": "1",
     "output_type": "error",
     "traceback": [
      "\u001b[0;31m--------------------------------------------------------------------\u001b[0m",
      "\u001b[0;31mKeyError\u001b[0m                           Traceback (most recent call last)",
      "\u001b[0;32m<ipython-input-38-3f6d4984874a>\u001b[0m in \u001b[0;36m<module>\u001b[0;34m()\u001b[0m\n\u001b[0;32m----> 1\u001b[0;31m \u001b[0mdictionary\u001b[0m\u001b[0;34m.\u001b[0m\u001b[0mid2token\u001b[0m\u001b[0;34m[\u001b[0m\u001b[0;36m1\u001b[0m\u001b[0;34m]\u001b[0m\u001b[0;34m\u001b[0m\u001b[0;34m\u001b[0m\u001b[0m\n\u001b[0m",
      "\u001b[0;31mKeyError\u001b[0m: 1"
     ]
    }
   ],
   "source": [
    "dictionary.id2token[corpus[0]]"
   ]
  },
  {
   "cell_type": "code",
   "execution_count": 31,
   "metadata": {},
   "outputs": [
    {
     "ename": "TypeError",
     "evalue": "'dict' object is not callable",
     "output_type": "error",
     "traceback": [
      "\u001b[0;31m--------------------------------------------------------------------\u001b[0m",
      "\u001b[0;31mTypeError\u001b[0m                          Traceback (most recent call last)",
      "\u001b[0;32m<ipython-input-31-2c653681fe8a>\u001b[0m in \u001b[0;36m<module>\u001b[0;34m()\u001b[0m\n\u001b[1;32m      1\u001b[0m \u001b[0;32mfor\u001b[0m \u001b[0mi\u001b[0m \u001b[0;32min\u001b[0m \u001b[0mcorpus\u001b[0m\u001b[0;34m[\u001b[0m\u001b[0;36m0\u001b[0m\u001b[0;34m]\u001b[0m\u001b[0;34m:\u001b[0m\u001b[0;34m\u001b[0m\u001b[0;34m\u001b[0m\u001b[0m\n\u001b[0;32m----> 2\u001b[0;31m     \u001b[0mdictionary\u001b[0m\u001b[0;34m.\u001b[0m\u001b[0mid2token\u001b[0m\u001b[0;34m(\u001b[0m\u001b[0mi\u001b[0m\u001b[0;34m[\u001b[0m\u001b[0;36m0\u001b[0m\u001b[0;34m]\u001b[0m\u001b[0;34m)\u001b[0m\u001b[0;34m\u001b[0m\u001b[0;34m\u001b[0m\u001b[0m\n\u001b[0m",
      "\u001b[0;31mTypeError\u001b[0m: 'dict' object is not callable"
     ]
    }
   ],
   "source": [
    "for i in corpus[0]:\n",
    "    dictionary.id2token(i[0])"
   ]
  },
  {
   "cell_type": "code",
   "execution_count": 4,
   "metadata": {},
   "outputs": [],
   "source": [
    "Stock_Colors = ['black', 'maroon', 'red', 'purple', 'fuchsia', 'green', 'lime', 'olive', 'navy', 'blue', 'teal', 'aqua',\n",
    "               'black', 'maroon', 'red', 'purple', 'fuchsia', 'green', 'lime', 'olive']\n",
    "\n",
    "def get_topic_json(model, title, compare_words):\n",
    "    topic = model.show_topics(-1, formatted=False)\n",
    "    children_name = 'children'\n",
    "    name_name = 'name'\n",
    "    value_name = 'value'\n",
    "    color_name = 'color'    \n",
    "\n",
    "    topic_out = {name_name: title, children_name:[]}\n",
    "\n",
    "    for i in range(0, len(topic)):\n",
    "        topic_out[children_name].append({name_name: 'Topic ' + str(i), children_name:[]})\n",
    "        max_weight = topic[i][1][0][1]\n",
    "        for j in range(0, len(topic[i][1])):\n",
    "            topic_out[children_name][i][children_name].append({name_name:topic[i][1][j][0],\n",
    "                                                               value_name:\"{0:.2f}\".format(topic[i][1][j][1]/max_weight),\n",
    "                                                               color_name: Stock_Colors[i],\n",
    "                                                               'new_word': not (topic[i][1][j][0] in compare_words)})\n",
    "        \n",
    "    return topic_out\n",
    "\n",
    "\n",
    "def get_topic_words(model):\n",
    "    topic = model.show_topics(-1, formatted=False)\n",
    "    all_words = {}\n",
    "    for i in range(0, len(topic)):\n",
    "        for j in range(0, len(topic[i][1])):\n",
    "            if topic[i][1][j][0] in all_words:\n",
    "                all_words[topic[i][1][j][0]] += 1\n",
    "            else:\n",
    "                all_words[topic[i][1][j][0]] = 1\n",
    "    \n",
    "    return all_words\n",
    "    \n",
    "# with open(files[0] + '.json', 'w') as f:\n",
    "#     f.write(json.dumps(get_topic_json(model_1, '100000_Samples', {})))\n",
    "\n",
    "# pos_words = get_topic_words(model_2)\n",
    "# neg_words = get_topic_words(model_3)\n",
    "\n",
    "# topic2 = get_topic_json(model_2, 'Positive', neg_words)\n",
    "# topic3 = get_topic_json(model_3, 'Negative', pos_words)\n",
    "# topic = {'name':'Chinese Restaurant Reviews', 'children':[topic2, topic3]}\n",
    "# with open('compare' + '.json', 'w') as f:\n",
    "#     f.write(json.dumps(topic))\n",
    "    \n",
    "# topic4 = get_topic_json(model_4, 'Chinese')\n",
    "# topic5 = get_topic_json(model_5, 'Mexican')\n",
    "# topic = {'name':'Chinese vs. Mexican', 'children':[topic2, topic3]}\n",
    "# with open('compare_cn_mx' + '.json', 'w') as f:\n",
    "#     f.write(json.dumps(topic))"
   ]
  },
  {
   "cell_type": "code",
   "execution_count": 5,
   "metadata": {},
   "outputs": [
    {
     "name": "stdout",
     "output_type": "stream",
     "text": [
      "Topic: 0 Words: 0.006*\"great\" + 0.006*\"burger\" + 0.006*\"fri\" + 0.006*\"amaz\" + 0.006*\"delici\" + 0.005*\"love\" + 0.005*\"chicken\" + 0.005*\"order\" + 0.005*\"good\" + 0.005*\"salad\"\n",
      "Topic: 1 Words: 0.051*\"pizza\" + 0.011*\"crust\" + 0.008*\"wing\" + 0.006*\"minut\" + 0.005*\"manag\" + 0.005*\"pepperoni\" + 0.005*\"phone\" + 0.004*\"wait\" + 0.004*\"oven\" + 0.003*\"boba\"\n",
      "Topic: 2 Words: 0.007*\"place\" + 0.006*\"taco\" + 0.005*\"great\" + 0.005*\"good\" + 0.005*\"time\" + 0.005*\"drink\" + 0.004*\"friend\" + 0.004*\"like\" + 0.004*\"servic\" + 0.004*\"beer\"\n",
      "Topic: 3 Words: 0.013*\"cheesesteak\" + 0.010*\"brat\" + 0.008*\"flavour\" + 0.008*\"marrow\" + 0.008*\"gorgeous\" + 0.008*\"macaroon\" + 0.007*\"biz_photo\" + 0.007*\"firehous\" + 0.006*\"church\" + 0.006*\"termin\"\n",
      "Topic: 4 Words: 0.030*\"pancak\" + 0.028*\"breakfast\" + 0.025*\"egg\" + 0.017*\"crepe\" + 0.012*\"hash\" + 0.010*\"biscuit\" + 0.009*\"omelet\" + 0.009*\"benedict\" + 0.009*\"coffe\" + 0.009*\"waffl\"\n",
      "Topic: 5 Words: 0.050*\"sushi\" + 0.023*\"ayc\" + 0.020*\"indian\" + 0.017*\"roll\" + 0.015*\"sashimi\" + 0.014*\"nigiri\" + 0.014*\"katsu\" + 0.013*\"naan\" + 0.010*\"masala\" + 0.008*\"tempura\"\n",
      "-------------------------------------------------------------------\n",
      "Topic: 0 Words: 0.011*\"noodl\" + 0.009*\"soup\" + 0.008*\"chicken\" + 0.008*\"dumpl\" + 0.007*\"beef\" + 0.007*\"rice\" + 0.006*\"fri\" + 0.006*\"order\" + 0.006*\"boba\" + 0.005*\"pork\"\n",
      "Topic: 1 Words: 0.012*\"casino\" + 0.009*\"taro\" + 0.007*\"vega\" + 0.007*\"chines\" + 0.007*\"place\" + 0.007*\"beij\" + 0.006*\"restaur\" + 0.006*\"truck\" + 0.006*\"pricey\" + 0.006*\"panda\"\n",
      "Topic: 2 Words: 0.017*\"great\" + 0.012*\"servic\" + 0.010*\"love\" + 0.010*\"price\" + 0.010*\"lunch\" + 0.009*\"place\" + 0.009*\"fast\" + 0.009*\"chines\" + 0.009*\"fresh\" + 0.009*\"staff\"\n",
      "Topic: 3 Words: 0.014*\"margarita\" + 0.010*\"taco\" + 0.010*\"drunken\" + 0.008*\"totti\" + 0.005*\"ling\" + 0.005*\"competit\" + 0.005*\"hibachi\" + 0.005*\"shanghaines\" + 0.005*\"favourit\" + 0.004*\"toni\"\n",
      "Topic: 4 Words: 0.013*\"great\" + 0.010*\"avocado\" + 0.009*\"price\" + 0.009*\"recommend\" + 0.009*\"cheap\" + 0.009*\"servic\" + 0.008*\"coast\" + 0.008*\"east\" + 0.007*\"outstand\" + 0.007*\"high\"\n",
      "Topic: 5 Words: 0.018*\"salon\" + 0.016*\"chive\" + 0.010*\"everyday\" + 0.009*\"tapa\" + 0.009*\"massaman\" + 0.009*\"clay\" + 0.008*\"hotel\" + 0.008*\"scratch\" + 0.008*\"hainan\" + 0.008*\"zhou\"\n",
      "Topic: 6 Words: 0.007*\"pork\" + 0.007*\"noodl\" + 0.006*\"dish\" + 0.006*\"duck\" + 0.006*\"sauc\" + 0.005*\"beef\" + 0.005*\"spici\" + 0.005*\"shrimp\" + 0.005*\"order\" + 0.005*\"chines\"\n",
      "Topic: 7 Words: 0.006*\"bun\" + 0.006*\"noodl\" + 0.005*\"dumpl\" + 0.005*\"pork\" + 0.005*\"flavor\" + 0.004*\"top\" + 0.004*\"bacon\" + 0.004*\"udon\" + 0.004*\"beef\" + 0.004*\"dish\"\n",
      "Topic: 8 Words: 0.012*\"vegan\" + 0.008*\"buffet\" + 0.007*\"thai\" + 0.006*\"great\" + 0.006*\"sushi\" + 0.006*\"place\" + 0.005*\"curri\" + 0.005*\"love\" + 0.005*\"chines\" + 0.005*\"awesom\"\n",
      "Topic: 9 Words: 0.006*\"time\" + 0.006*\"great\" + 0.005*\"sushi\" + 0.005*\"order\" + 0.005*\"place\" + 0.005*\"servic\" + 0.005*\"restaur\" + 0.005*\"come\" + 0.004*\"go\" + 0.004*\"like\"\n",
      "-------------------------------------------------------------------\n",
      "Topic: 0 Words: 0.007*\"noodl\" + 0.006*\"buffet\" + 0.006*\"taco\" + 0.006*\"chines\" + 0.005*\"groupon\" + 0.005*\"good\" + 0.005*\"price\" + 0.005*\"place\" + 0.005*\"sushi\" + 0.004*\"dish\"\n",
      "Topic: 1 Words: 0.009*\"close\" + 0.007*\"buffet\" + 0.006*\"busi\" + 0.006*\"sushi\" + 0.006*\"servic\" + 0.005*\"place\" + 0.005*\"time\" + 0.005*\"tuna\" + 0.005*\"go\" + 0.005*\"tabl\"\n",
      "Topic: 2 Words: 0.009*\"wait\" + 0.008*\"servic\" + 0.008*\"horribl\" + 0.007*\"order\" + 0.006*\"come\" + 0.006*\"minut\" + 0.006*\"custom\" + 0.006*\"ask\" + 0.006*\"say\" + 0.006*\"worst\"\n",
      "Topic: 3 Words: 0.009*\"chicken\" + 0.007*\"rice\" + 0.007*\"order\" + 0.006*\"fri\" + 0.005*\"tast\" + 0.005*\"beef\" + 0.005*\"like\" + 0.005*\"roll\" + 0.005*\"sauc\" + 0.005*\"soup\"\n",
      "Topic: 4 Words: 0.010*\"clever\" + 0.008*\"chicken\" + 0.007*\"gold\" + 0.006*\"better\" + 0.006*\"good\" + 0.006*\"panda\" + 0.006*\"tapa\" + 0.005*\"aw\" + 0.005*\"chines\" + 0.005*\"student\"\n",
      "Topic: 5 Words: 0.008*\"deliveri\" + 0.007*\"phone\" + 0.006*\"driver\" + 0.006*\"smoothi\" + 0.006*\"order\" + 0.006*\"luke\" + 0.006*\"panda\" + 0.006*\"express\" + 0.006*\"coupon\" + 0.006*\"time\"\n",
      "Topic: 6 Words: 0.009*\"wait\" + 0.008*\"time\" + 0.008*\"order\" + 0.008*\"servic\" + 0.007*\"tabl\" + 0.007*\"take\" + 0.007*\"say\" + 0.007*\"come\" + 0.007*\"manag\" + 0.006*\"server\"\n",
      "Topic: 7 Words: 0.008*\"noodl\" + 0.008*\"soup\" + 0.006*\"chicken\" + 0.006*\"dish\" + 0.006*\"ramen\" + 0.005*\"tast\" + 0.005*\"pork\" + 0.005*\"rice\" + 0.005*\"flavor\" + 0.005*\"dumpl\"\n",
      "Topic: 8 Words: 0.006*\"good\" + 0.006*\"chines\" + 0.005*\"dish\" + 0.005*\"noodl\" + 0.005*\"restaur\" + 0.005*\"place\" + 0.005*\"menu\" + 0.005*\"tast\" + 0.005*\"like\" + 0.004*\"price\"\n",
      "Topic: 9 Words: 0.011*\"ling\" + 0.007*\"louie\" + 0.007*\"order\" + 0.006*\"address\" + 0.005*\"deliveri\" + 0.005*\"profession\" + 0.005*\"minut\" + 0.005*\"lamb\" + 0.005*\"hour\" + 0.005*\"servic\"\n",
      "-------------------------------------------------------------------\n"
     ]
    }
   ],
   "source": [
    "for idx, topic in model_1.print_topics(-1):\n",
    "    print('Topic: {} Words: {}'.format(idx, topic))\n",
    "print('-------------------------------------------------------------------')\n",
    "\n",
    "# for idx, topic in model_1_1.print_topics(-1):\n",
    "#     print('Topic: {} Words: {}'.format(idx, topic))\n",
    "# print('-------------------------------------------------------------------')\n",
    "\n",
    "for idx, topic in model_2.print_topics(-1):\n",
    "    print('Topic: {} Words: {}'.format(idx, topic))\n",
    "print('-------------------------------------------------------------------')\n",
    "\n",
    "for idx, topic in model_3.print_topics(-1):\n",
    "    print('Topic: {} Words: {}'.format(idx, topic))\n",
    "print('-------------------------------------------------------------------')\n",
    "# for idx, topic in model_4.print_topics(-1):\n",
    "#     print('Topic: {} Words: {}'.format(idx, topic))\n",
    "# print('-------------------------------------------------------------------')\n",
    "# for idx, topic in model_5.print_topics(-1):\n",
    "#     print('Topic: {} Words: {}'.format(idx, topic))"
   ]
  },
  {
   "cell_type": "code",
   "execution_count": 6,
   "metadata": {},
   "outputs": [],
   "source": [
    "# (corpus, dictionary) = get_corpus(files[0] + \".txt\")\n",
    "\n",
    "# for k in range(5, 20):\n",
    "#     model = get_lda_topic_model(corpus, dictionary, num_topics=k)    \n",
    "#     cm = models.coherencemodel.CoherenceModel(model=model, corpus=corpus, coherence='u_mass')\n",
    "#     print(\"k=%d coherence=%f\"%(k,cm.get_coherence()))"
   ]
  },
  {
   "cell_type": "code",
   "execution_count": 7,
   "metadata": {},
   "outputs": [],
   "source": [
    "# (corpus, dictionary) = get_corpus(files[1] + \".txt\")\n",
    "# hdp_2 = models.HdpModel(corpus, dictionary)\n",
    "# l=hdp_2.suggested_lda_model()\n",
    "# l.show_topics(20)\n",
    "\n",
    "# (corpus, dictionary) = get_corpus(files[2] + \".txt\")\n",
    "# hdp_3 = models.HdpModel(corpus, dictionary)\n",
    "# l=hdp_3.suggested_lda_model()\n",
    "# l.show_topics(20)"
   ]
  },
  {
   "cell_type": "markdown",
   "metadata": {},
   "source": [
    "http://qpleple.com/topic-coherence-to-evaluate-topic-models/\n",
    "\n",
    "Select number of topics for LDA model: https://cran.r-project.org/web/packages/ldatuning/vignettes/topics.html"
   ]
  },
  {
   "cell_type": "code",
   "execution_count": null,
   "metadata": {},
   "outputs": [],
   "source": []
  }
 ],
 "metadata": {
  "kernelspec": {
   "display_name": "Python 3",
   "language": "python",
   "name": "python3"
  },
  "language_info": {
   "codemirror_mode": {
    "name": "ipython",
    "version": 3
   },
   "file_extension": ".py",
   "mimetype": "text/x-python",
   "name": "python",
   "nbconvert_exporter": "python",
   "pygments_lexer": "ipython3",
   "version": "3.6.8"
  }
 },
 "nbformat": 4,
 "nbformat_minor": 2
}
