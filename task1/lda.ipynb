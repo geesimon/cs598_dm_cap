{
 "cells": [
  {
   "cell_type": "markdown",
   "metadata": {},
   "source": [
    "https://towardsdatascience.com/topic-modeling-and-latent-dirichlet-allocation-in-python-9bf156893c24"
   ]
  },
  {
   "cell_type": "code",
   "execution_count": 1,
   "metadata": {},
   "outputs": [],
   "source": [
    "# import gensim\n",
    "# from gensim.utils import simple_preprocess\n",
    "# from gensim.parsing.preprocessing import STOPWORDS\n",
    "# from nltk.stem import WordNetLemmatizer, SnowballStemmer\n",
    "# from nltk.stem.porter import *\n",
    "# import numpy as np\n",
    "# import nltk\n",
    "\n",
    "# np.random.seed(2018)\n",
    "# nltk.download('wordnet')"
   ]
  },
  {
   "cell_type": "code",
   "execution_count": 2,
   "metadata": {},
   "outputs": [],
   "source": [
    "# import logging\n",
    "# from time import time\n",
    "# np.random.seed(2018)\n",
    "\n",
    "# #logging.basicConfig(format='%(asctime)s : %(levelname)s : %(message)s', level=logging.INFO)\n",
    "\n",
    "# #lda_model = gensim.models.LdaModel(bow_corpus, num_topics=10, id2word=dictionary,  eval_every=5, iterations = 1000, alpha='auto', gamma_threshold=0.01)\n",
    "# t0 = time()\n",
    "# #lda_model = gensim.models.LdaMulticore(bow_corpus, num_topics=10, id2word=dictionary, iterations = 1000, passes = 2)\n",
    "# lda_model = gensim.models.LdaModel(bow_corpus, num_topics=10, id2word=dictionary,  eval_every=5, iterations = 1000, alpha='auto', gamma_threshold=0.01)\n",
    "# print(\"done in %fs\" % (time() - t0))\n",
    "\n",
    "# for idx, topic in lda_model.print_topics(-1):\n",
    "#     print('Topic: {} \\nWords: {}'.format(idx, topic))"
   ]
  },
  {
   "cell_type": "code",
   "execution_count": 3,
   "metadata": {},
   "outputs": [
    {
     "name": "stderr",
     "output_type": "stream",
     "text": [
      "C:\\Users\\geesi\\Anaconda3\\envs\\dm_cap_mkl_py3\\lib\\site-packages\\gensim\\utils.py:1197: UserWarning: detected Windows; aliasing chunkize to chunkize_serial\n",
      "  warnings.warn(\"detected Windows; aliasing chunkize to chunkize_serial\")\n",
      "100%|█████████████████████████████████████████████████████████████████████████| 100000/100000 [02:38<00:00, 629.87it/s]\n"
     ]
    },
    {
     "name": "stdout",
     "output_type": "stream",
     "text": [
      "done in 79.711755s\n"
     ]
    },
    {
     "name": "stderr",
     "output_type": "stream",
     "text": [
      "100%|███████████████████████████████████████████████████████████████████████████| 27804/27804 [00:39<00:00, 710.52it/s]\n"
     ]
    },
    {
     "name": "stdout",
     "output_type": "stream",
     "text": [
      "done in 24.066141s\n"
     ]
    },
    {
     "name": "stderr",
     "output_type": "stream",
     "text": [
      "100%|███████████████████████████████████████████████████████████████████████████| 10912/10912 [00:16<00:00, 649.54it/s]\n"
     ]
    },
    {
     "name": "stdout",
     "output_type": "stream",
     "text": [
      "done in 10.577471s\n"
     ]
    }
   ],
   "source": [
    "from gensim import corpora, models\n",
    "from gensim.utils import simple_preprocess\n",
    "from gensim.parsing.preprocessing import STOPWORDS\n",
    "from nltk.stem import WordNetLemmatizer, SnowballStemmer\n",
    "import numpy as np\n",
    "from tqdm import tqdm\n",
    "from time import time\n",
    "import json\n",
    "\n",
    "np.random.seed(2018)\n",
    "\n",
    "stemmer = SnowballStemmer('english')\n",
    "\n",
    "def lemmatize_stemming(text):\n",
    "    return stemmer.stem(WordNetLemmatizer().lemmatize(text, pos='v'))\n",
    "\n",
    "def preprocess(text):\n",
    "    result = []\n",
    "    for token in simple_preprocess(text, min_len = 4):\n",
    "        if token not in STOPWORDS:\n",
    "            result.append(lemmatize_stemming(token))\n",
    "    return result\n",
    "\n",
    "def get_corpus(file_name, use_tfidf = True):\n",
    "    documents = []\n",
    "\n",
    "    with open (file_name, 'r') as f:\n",
    "        documents = f.readlines()\n",
    "\n",
    "    processed_docs = [preprocess(text) for text in tqdm(documents)]\n",
    "\n",
    "    dictionary = corpora.Dictionary(processed_docs)\n",
    "    dictionary.filter_extremes(no_below=15, no_above=0.5, keep_n=100000)\n",
    "    corpus = [dictionary.doc2bow(doc) for doc in processed_docs]\n",
    "    if use_tfidf:\n",
    "        tfidf = models.TfidfModel(corpus)\n",
    "        corpus = tfidf[corpus]\n",
    "        \n",
    "    return (corpus, dictionary)\n",
    "\n",
    "def get_lda_topic_model(corpus, dictionary, num_topics = 10, use_tfidf = True):\n",
    "    t0 = time()\n",
    "    #lda_model = models.LdaMulticore(corpus, num_topics=num_topics, id2word=dictionary) #Bad!\n",
    "    lda_model = models.LdaModel(corpus, num_topics=num_topics, id2word=dictionary,  eval_every=5, alpha='auto', gamma_threshold=0.01)\n",
    "    #lda_model = models.LdaModel(corpus, num_topics=num_topics, id2word=dictionary,  eval_every=5, iterations = 1000, alpha='auto', gamma_threshold=0.01)\n",
    "    #lda_model = models.LdaModel(corpus, num_topics=num_topics, id2word=dictionary,  eval_every=5, alpha='auto') #Good enough\n",
    "    #lda_model = models.LdaModel(corpus, num_topics=num_topics, id2word=dictionary)\n",
    "\n",
    "    print(\"done in %fs\" % (time() - t0))\n",
    "    \n",
    "    return lda_model\n",
    "\n",
    "def get_lsi_topic_model(corpus, dictionary, num_topics = 10):\n",
    "    t0 = time()\n",
    "    lsi_model = models.LsiModel(corpus, num_topics = num_topics, id2word = dictionary)\n",
    "    print(\"done in %fs\" % (time() - t0))\n",
    "    \n",
    "    return lsi_model\n",
    "\n",
    "files = ['rest_review_sample_100000', 'categories/Chinese_pos', 'categories/Chinese_neg','categories/Chinese', 'categories/Mexican']\n",
    "(corpus, dictionary) = get_corpus(files[0] + \".txt\")\n",
    "model_1 = get_lda_topic_model(corpus, dictionary, num_topics=20)\n",
    "#model_1_1 = get_lsi_topic_model(corpus, dictionary, num_topics=20)\n",
    "cm = CoherenceModel(model=model, corpus=common_corpus, coherence='u_mass')\n",
    "\n",
    "corpus, dictionary = get_corpus(files[1] + \".txt\")\n",
    "model_2 = get_lda_topic_model(corpus, dictionary)\n",
    "\n",
    "corpus, dictionary = get_corpus(files[2] + \".txt\")\n",
    "model_3 = get_lda_topic_model(corpus, dictionary)\n",
    "# model_4 = get_topic_model(files[3] + \".txt\")\n",
    "# model_5 = get_topic_model(files[4] + \".txt\")"
   ]
  },
  {
   "cell_type": "code",
   "execution_count": 4,
   "metadata": {},
   "outputs": [],
   "source": [
    "Stock_Colors = ['black', 'maroon', 'red', 'purple', 'fuchsia', 'green', 'lime', 'olive', 'navy', 'blue', 'teal', 'aqua',\n",
    "               'black', 'maroon', 'red', 'purple', 'fuchsia', 'green', 'lime', 'olive']\n",
    "\n",
    "def get_topic_json(model, title, compare_words):\n",
    "    topic = model.show_topics(-1, formatted=False)\n",
    "    children_name = 'children'\n",
    "    name_name = 'name'\n",
    "    value_name = 'value'\n",
    "    color_name = 'color'    \n",
    "\n",
    "    topic_out = {name_name: title, children_name:[]}\n",
    "\n",
    "    for i in range(0, len(topic)):\n",
    "        topic_out[children_name].append({name_name: 'Topic ' + str(i), children_name:[]})\n",
    "        max_weight = topic[i][1][0][1]\n",
    "        for j in range(0, len(topic[i][1])):\n",
    "            topic_out[children_name][i][children_name].append({name_name:topic[i][1][j][0],\n",
    "                                                               value_name:\"{0:.2f}\".format(topic[i][1][j][1]/max_weight),\n",
    "                                                               color_name: Stock_Colors[i],\n",
    "                                                               'new_word': not (topic[i][1][j][0] in compare_words)})\n",
    "        \n",
    "    return topic_out\n",
    "\n",
    "\n",
    "def get_topic_words(model):\n",
    "    topic = model.show_topics(-1, formatted=False)\n",
    "    all_words = {}\n",
    "    for i in range(0, len(topic)):\n",
    "        for j in range(0, len(topic[i][1])):\n",
    "            if topic[i][1][j][0] in all_words:\n",
    "                all_words[topic[i][1][j][0]] += 1\n",
    "            else:\n",
    "                all_words[topic[i][1][j][0]] = 1\n",
    "    \n",
    "    return all_words\n",
    "    \n",
    "# with open(files[0] + '.json', 'w') as f:\n",
    "#     f.write(json.dumps(get_topic_json(model_1, '100000_Samples', {})))\n",
    "\n",
    "# pos_words = get_topic_words(model_2)\n",
    "# neg_words = get_topic_words(model_3)\n",
    "\n",
    "# topic2 = get_topic_json(model_2, 'Positive', neg_words)\n",
    "# topic3 = get_topic_json(model_3, 'Negative', pos_words)\n",
    "# topic = {'name':'Chinese Restaurant Reviews', 'children':[topic2, topic3]}\n",
    "# with open('compare' + '.json', 'w') as f:\n",
    "#     f.write(json.dumps(topic))\n",
    "    \n",
    "# topic4 = get_topic_json(model_4, 'Chinese')\n",
    "# topic5 = get_topic_json(model_5, 'Mexican')\n",
    "# topic = {'name':'Chinese vs. Mexican', 'children':[topic2, topic3]}\n",
    "# with open('compare_cn_mx' + '.json', 'w') as f:\n",
    "#     f.write(json.dumps(topic))"
   ]
  },
  {
   "cell_type": "code",
   "execution_count": 5,
   "metadata": {},
   "outputs": [
    {
     "name": "stdout",
     "output_type": "stream",
     "text": [
      "Topic: 0 Words: 0.011*\"truffl\" + 0.011*\"crepe\" + 0.010*\"chocol\" + 0.007*\"dessert\" + 0.007*\"concept\" + 0.006*\"cake\" + 0.006*\"kale\" + 0.006*\"appl\" + 0.006*\"wine\" + 0.006*\"lamb\"\n",
      "Topic: 1 Words: 0.052*\"pancak\" + 0.042*\"breakfast\" + 0.033*\"egg\" + 0.032*\"coffe\" + 0.021*\"omelet\" + 0.019*\"benedict\" + 0.019*\"tot\" + 0.018*\"hash\" + 0.018*\"bagel\" + 0.016*\"toast\"\n",
      "Topic: 2 Words: 0.019*\"crawfish\" + 0.016*\"blast\" + 0.015*\"cupcak\" + 0.014*\"reward\" + 0.014*\"yard\" + 0.013*\"scrambl\" + 0.012*\"alot\" + 0.010*\"uncomfort\" + 0.010*\"loco\" + 0.010*\"accept\"\n",
      "Topic: 3 Words: 0.008*\"great\" + 0.007*\"good\" + 0.007*\"place\" + 0.007*\"burger\" + 0.006*\"love\" + 0.005*\"friend\" + 0.005*\"order\" + 0.005*\"fri\" + 0.005*\"like\" + 0.005*\"servic\"\n",
      "Topic: 4 Words: 0.011*\"slider\" + 0.009*\"ketchup\" + 0.007*\"spoon\" + 0.007*\"ignor\" + 0.007*\"tasteless\" + 0.007*\"milk\" + 0.006*\"negat\" + 0.006*\"train\" + 0.005*\"brat\" + 0.005*\"horribl\"\n",
      "Topic: 5 Words: 0.009*\"minut\" + 0.008*\"wait\" + 0.007*\"tabl\" + 0.007*\"manag\" + 0.007*\"ask\" + 0.006*\"custom\" + 0.006*\"take\" + 0.006*\"say\" + 0.006*\"server\" + 0.006*\"order\"\n",
      "Topic: 6 Words: 0.022*\"brussel\" + 0.021*\"naan\" + 0.016*\"hibachi\" + 0.016*\"calzon\" + 0.015*\"wifi\" + 0.015*\"gras\" + 0.015*\"foie\" + 0.013*\"grimaldi\" + 0.013*\"mister\" + 0.012*\"crew\"\n",
      "Topic: 7 Words: 0.055*\"gyro\" + 0.038*\"pita\" + 0.025*\"hummus\" + 0.024*\"greek\" + 0.024*\"falafel\" + 0.018*\"kabob\" + 0.018*\"donut\" + 0.012*\"ipad\" + 0.012*\"blood\" + 0.011*\"jungl\"\n",
      "Topic: 8 Words: 0.028*\"gordon\" + 0.024*\"ramsay\" + 0.020*\"filipino\" + 0.018*\"tonkatsu\" + 0.018*\"bacchan\" + 0.013*\"ramsey\" + 0.013*\"watermelon\" + 0.012*\"upset\" + 0.012*\"lechon\" + 0.011*\"verd\"\n",
      "Topic: 9 Words: 0.035*\"great\" + 0.021*\"servic\" + 0.020*\"creativ\" + 0.017*\"atmospher\" + 0.017*\"staff\" + 0.016*\"excel\" + 0.014*\"awesom\" + 0.013*\"love\" + 0.013*\"marrow\" + 0.012*\"mojito\"\n",
      "Topic: 10 Words: 0.071*\"taco\" + 0.038*\"asada\" + 0.034*\"carn\" + 0.024*\"burrito\" + 0.020*\"salsa\" + 0.018*\"pastor\" + 0.017*\"mexican\" + 0.016*\"fajita\" + 0.014*\"knot\" + 0.011*\"quinoa\"\n",
      "Topic: 11 Words: 0.016*\"music\" + 0.014*\"vietnames\" + 0.012*\"game\" + 0.012*\"vibe\" + 0.011*\"beer\" + 0.008*\"play\" + 0.008*\"danc\" + 0.008*\"bartend\" + 0.007*\"section\" + 0.007*\"chill\"\n",
      "Topic: 12 Words: 0.028*\"smoothi\" + 0.016*\"birthday\" + 0.014*\"leg\" + 0.013*\"crab\" + 0.012*\"king\" + 0.010*\"steak\" + 0.009*\"filet\" + 0.008*\"skinni\" + 0.008*\"steakhous\" + 0.008*\"char\"\n",
      "Topic: 13 Words: 0.023*\"indian\" + 0.020*\"monta\" + 0.019*\"wick\" + 0.019*\"gilbert\" + 0.018*\"masala\" + 0.018*\"mike\" + 0.014*\"postino\" + 0.013*\"tikka\" + 0.011*\"margherita\" + 0.011*\"puppi\"\n",
      "Topic: 14 Words: 0.028*\"pizza\" + 0.010*\"crust\" + 0.009*\"meatbal\" + 0.008*\"pepperoni\" + 0.007*\"belli\" + 0.007*\"dough\" + 0.006*\"station\" + 0.006*\"support\" + 0.006*\"pesto\" + 0.006*\"philli\"\n",
      "Topic: 15 Words: 0.028*\"text\" + 0.020*\"horchata\" + 0.017*\"raspberri\" + 0.015*\"boneless\" + 0.015*\"termin\" + 0.012*\"taiwanes\" + 0.012*\"milkshak\" + 0.012*\"pari\" + 0.011*\"echo\" + 0.011*\"interrupt\"\n",
      "Topic: 16 Words: 0.118*\"sushi\" + 0.042*\"roll\" + 0.032*\"ayc\" + 0.020*\"nigiri\" + 0.016*\"tempura\" + 0.016*\"kink\" + 0.015*\"tuna\" + 0.012*\"sake\" + 0.010*\"cut\" + 0.009*\"mochi\"\n",
      "Topic: 17 Words: 0.027*\"casino\" + 0.021*\"bloodi\" + 0.020*\"mari\" + 0.013*\"grit\" + 0.012*\"flatbread\" + 0.012*\"katsu\" + 0.012*\"sooooo\" + 0.010*\"butcher\" + 0.010*\"hawaii\" + 0.009*\"chinatown\"\n",
      "Topic: 18 Words: 0.037*\"korean\" + 0.030*\"boba\" + 0.023*\"bulgogi\" + 0.019*\"detroit\" + 0.017*\"kimchi\" + 0.015*\"seawe\" + 0.015*\"pizza\" + 0.014*\"root\" + 0.013*\"tonkotsu\" + 0.013*\"mein\"\n",
      "Topic: 19 Words: 0.021*\"tapa\" + 0.014*\"jalapeo\" + 0.012*\"fusion\" + 0.010*\"undercook\" + 0.009*\"skewer\" + 0.008*\"coke\" + 0.007*\"bachi\" + 0.007*\"draft\" + 0.007*\"risotto\" + 0.007*\"tequila\"\n",
      "-------------------------------------------------------------------\n",
      "Topic: 0 Words: 0.019*\"great\" + 0.013*\"servic\" + 0.012*\"love\" + 0.011*\"price\" + 0.010*\"fresh\" + 0.010*\"friend\" + 0.010*\"lunch\" + 0.009*\"place\" + 0.009*\"fast\" + 0.009*\"chicken\"\n",
      "Topic: 1 Words: 0.009*\"groupon\" + 0.007*\"mexican\" + 0.006*\"tiger\" + 0.006*\"chicken\" + 0.006*\"tortilla\" + 0.005*\"kenni\" + 0.005*\"fri\" + 0.005*\"rice\" + 0.005*\"court\" + 0.005*\"spicier\"\n",
      "Topic: 2 Words: 0.012*\"bun\" + 0.010*\"belli\" + 0.010*\"dumpl\" + 0.009*\"duck\" + 0.009*\"pork\" + 0.007*\"pancak\" + 0.007*\"bao\" + 0.007*\"condens\" + 0.006*\"pud\" + 0.006*\"snoh\"\n",
      "Topic: 3 Words: 0.017*\"clever\" + 0.012*\"happi\" + 0.010*\"hour\" + 0.009*\"highlight\" + 0.009*\"close\" + 0.007*\"mama\" + 0.006*\"sad\" + 0.006*\"stretch\" + 0.005*\"banh\" + 0.005*\"sushi\"\n",
      "Topic: 4 Words: 0.008*\"breakfast\" + 0.007*\"smoke\" + 0.006*\"bacon\" + 0.006*\"pickl\" + 0.005*\"wendi\" + 0.005*\"cumin\" + 0.005*\"tongu\" + 0.004*\"gilbert\" + 0.004*\"hospit\" + 0.004*\"hill\"\n",
      "Topic: 5 Words: 0.011*\"casino\" + 0.011*\"vega\" + 0.008*\"chines\" + 0.007*\"best\" + 0.007*\"buffet\" + 0.007*\"noodl\" + 0.006*\"restaur\" + 0.006*\"authent\" + 0.005*\"place\" + 0.005*\"hotel\"\n",
      "Topic: 6 Words: 0.006*\"noodl\" + 0.006*\"order\" + 0.005*\"chicken\" + 0.005*\"dish\" + 0.005*\"like\" + 0.005*\"place\" + 0.005*\"soup\" + 0.005*\"sauc\" + 0.004*\"come\" + 0.004*\"chines\"\n",
      "Topic: 7 Words: 0.022*\"ramen\" + 0.007*\"sushi\" + 0.005*\"noodl\" + 0.005*\"price\" + 0.005*\"island\" + 0.005*\"servic\" + 0.005*\"vega\" + 0.005*\"great\" + 0.005*\"time\" + 0.004*\"miso\"\n",
      "Topic: 8 Words: 0.032*\"taco\" + 0.007*\"shabu\" + 0.007*\"georg\" + 0.007*\"samba\" + 0.007*\"slider\" + 0.006*\"mekong\" + 0.006*\"pig\" + 0.006*\"peruvian\" + 0.005*\"ocean\" + 0.005*\"sampler\"\n",
      "Topic: 9 Words: 0.023*\"boba\" + 0.011*\"thai\" + 0.010*\"malaysian\" + 0.008*\"salon\" + 0.008*\"margarita\" + 0.006*\"umami\" + 0.006*\"curri\" + 0.006*\"great\" + 0.005*\"love\" + 0.005*\"henri\"\n",
      "-------------------------------------------------------------------\n",
      "Topic: 0 Words: 0.008*\"prime\" + 0.007*\"birthday\" + 0.006*\"time\" + 0.005*\"krazi\" + 0.005*\"place\" + 0.005*\"servic\" + 0.005*\"cheap\" + 0.005*\"horribl\" + 0.005*\"dont\" + 0.005*\"come\"\n",
      "Topic: 1 Words: 0.006*\"taco\" + 0.006*\"order\" + 0.006*\"comp\" + 0.006*\"time\" + 0.006*\"tour\" + 0.005*\"say\" + 0.004*\"noodl\" + 0.004*\"rice\" + 0.004*\"servic\" + 0.004*\"cold\"\n",
      "Topic: 2 Words: 0.007*\"noodl\" + 0.007*\"chicken\" + 0.006*\"lamb\" + 0.006*\"flavor\" + 0.006*\"dish\" + 0.006*\"soup\" + 0.006*\"beef\" + 0.005*\"order\" + 0.005*\"sauc\" + 0.005*\"good\"\n",
      "Topic: 3 Words: 0.009*\"buffet\" + 0.008*\"chines\" + 0.007*\"good\" + 0.006*\"place\" + 0.006*\"price\" + 0.005*\"like\" + 0.005*\"restaur\" + 0.005*\"better\" + 0.004*\"lunch\" + 0.004*\"asian\"\n",
      "Topic: 4 Words: 0.006*\"come\" + 0.006*\"cart\" + 0.006*\"servic\" + 0.005*\"restaur\" + 0.005*\"place\" + 0.005*\"tabl\" + 0.004*\"order\" + 0.004*\"ramen\" + 0.004*\"like\" + 0.004*\"noodl\"\n",
      "Topic: 5 Words: 0.009*\"chicken\" + 0.009*\"noodl\" + 0.009*\"fri\" + 0.008*\"rice\" + 0.008*\"beef\" + 0.008*\"taiwanes\" + 0.008*\"soup\" + 0.007*\"pork\" + 0.007*\"bun\" + 0.006*\"tast\"\n",
      "Topic: 6 Words: 0.008*\"taco\" + 0.007*\"slow\" + 0.006*\"servic\" + 0.005*\"panda\" + 0.005*\"place\" + 0.005*\"rude\" + 0.005*\"cockroach\" + 0.005*\"want\" + 0.005*\"femal\" + 0.005*\"tapa\"\n",
      "Topic: 7 Words: 0.008*\"order\" + 0.005*\"chicken\" + 0.005*\"time\" + 0.005*\"sushi\" + 0.005*\"servic\" + 0.004*\"wait\" + 0.004*\"roll\" + 0.004*\"come\" + 0.004*\"deliveri\" + 0.004*\"minut\"\n",
      "Topic: 8 Words: 0.005*\"wait\" + 0.005*\"order\" + 0.005*\"place\" + 0.005*\"come\" + 0.005*\"go\" + 0.004*\"servic\" + 0.004*\"restaur\" + 0.004*\"smoothi\" + 0.004*\"price\" + 0.004*\"charg\"\n",
      "Topic: 9 Words: 0.020*\"close\" + 0.012*\"tendon\" + 0.009*\"subway\" + 0.009*\"locat\" + 0.008*\"cocktail\" + 0.008*\"bistro\" + 0.008*\"student\" + 0.007*\"beij\" + 0.007*\"mini\" + 0.006*\"worst\"\n",
      "-------------------------------------------------------------------\n"
     ]
    }
   ],
   "source": [
    "for idx, topic in model_1.print_topics(-1):\n",
    "    print('Topic: {} Words: {}'.format(idx, topic))\n",
    "print('-------------------------------------------------------------------')\n",
    "\n",
    "# for idx, topic in model_1_1.print_topics(-1):\n",
    "#     print('Topic: {} Words: {}'.format(idx, topic))\n",
    "# print('-------------------------------------------------------------------')\n",
    "\n",
    "for idx, topic in model_2.print_topics(-1):\n",
    "    print('Topic: {} Words: {}'.format(idx, topic))\n",
    "print('-------------------------------------------------------------------')\n",
    "\n",
    "for idx, topic in model_3.print_topics(-1):\n",
    "    print('Topic: {} Words: {}'.format(idx, topic))\n",
    "print('-------------------------------------------------------------------')\n",
    "# for idx, topic in model_4.print_topics(-1):\n",
    "#     print('Topic: {} Words: {}'.format(idx, topic))\n",
    "# print('-------------------------------------------------------------------')\n",
    "# for idx, topic in model_5.print_topics(-1):\n",
    "#     print('Topic: {} Words: {}'.format(idx, topic))"
   ]
  },
  {
   "cell_type": "code",
   "execution_count": null,
   "metadata": {},
   "outputs": [
    {
     "name": "stderr",
     "output_type": "stream",
     "text": [
      "  5%|███▋                                                                       | 4853/100000 [00:06<02:09, 732.53it/s]"
     ]
    }
   ],
   "source": [
    "(corpus, dictionary) = get_corpus(files[0] + \".txt\")\n",
    "\n",
    "for k in range(5, 20):\n",
    "    model = get_lda_topic_model(corpus, dictionary, num_topics=k)    \n",
    "    cm = models.coherencemodel.CoherenceModel(model=model, corpus=corpus, coherence='u_mass')\n",
    "    print(\"k={} coherence={}\"%(k,cm.get_coherence()))"
   ]
  },
  {
   "cell_type": "code",
   "execution_count": 25,
   "metadata": {},
   "outputs": [
    {
     "name": "stderr",
     "output_type": "stream",
     "text": [
      "100%|███████████████████████████████████████████████████████████████████████████| 27804/27804 [00:39<00:00, 704.78it/s]\n"
     ]
    },
    {
     "data": {
      "text/plain": [
       "[(112,\n",
       "  '0.000*\"oxtail\" + 0.000*\"inconveni\" + 0.000*\"huge\" + 0.000*\"dip\" + 0.000*\"snow\" + 0.000*\"prevent\" + 0.000*\"chill\" + 0.000*\"truli\" + 0.000*\"imperi\" + 0.000*\"act\"'),\n",
       " (120,\n",
       "  '0.000*\"storm\" + 0.000*\"what\" + 0.000*\"supper\" + 0.000*\"brocolli\" + 0.000*\"disgust\" + 0.000*\"japan\" + 0.000*\"spici\" + 0.000*\"vinegar\" + 0.000*\"arent\" + 0.000*\"tasteless\"'),\n",
       " (142,\n",
       "  '0.000*\"true\" + 0.000*\"tradit\" + 0.000*\"length\" + 0.000*\"pull\" + 0.000*\"element\" + 0.000*\"habit\" + 0.000*\"vicin\" + 0.000*\"flawless\" + 0.000*\"signag\" + 0.000*\"brule\"'),\n",
       " (13,\n",
       "  '0.000*\"seldom\" + 0.000*\"world\" + 0.000*\"piec\" + 0.000*\"tie\" + 0.000*\"everytim\" + 0.000*\"king\" + 0.000*\"rout\" + 0.000*\"spin\" + 0.000*\"huge\" + 0.000*\"hottest\"'),\n",
       " (148,\n",
       "  '0.000*\"everytim\" + 0.000*\"tsingtao\" + 0.000*\"rule\" + 0.000*\"stuffi\" + 0.000*\"turkey\" + 0.000*\"proper\" + 0.000*\"trap\" + 0.000*\"insan\" + 0.000*\"italian\" + 0.000*\"qualifi\"'),\n",
       " (35,\n",
       "  '0.000*\"melon\" + 0.000*\"southwest\" + 0.000*\"arcadia\" + 0.000*\"fiance\" + 0.000*\"recomend\" + 0.000*\"star\" + 0.000*\"franchis\" + 0.000*\"clam\" + 0.000*\"flavorless\" + 0.000*\"xiang\"'),\n",
       " (33,\n",
       "  '0.000*\"closest\" + 0.000*\"justin\" + 0.000*\"spacious\" + 0.000*\"satisfi\" + 0.000*\"nasti\" + 0.000*\"dave\" + 0.000*\"ravioli\" + 0.000*\"strawberri\" + 0.000*\"restroom\" + 0.000*\"giant\"'),\n",
       " (96,\n",
       "  '0.000*\"credit\" + 0.000*\"agre\" + 0.000*\"california\" + 0.000*\"gilbert\" + 0.000*\"archi\" + 0.000*\"fli\" + 0.000*\"kitchen\" + 0.000*\"thee\" + 0.000*\"pedestrian\" + 0.000*\"includ\"'),\n",
       " (105,\n",
       "  '0.000*\"crew\" + 0.000*\"quicker\" + 0.000*\"trend\" + 0.000*\"packag\" + 0.000*\"brother\" + 0.000*\"bobo\" + 0.000*\"mixtur\" + 0.000*\"work\" + 0.000*\"grab\" + 0.000*\"wine\"'),\n",
       " (20,\n",
       "  '0.000*\"asham\" + 0.000*\"coconut\" + 0.000*\"shellfish\" + 0.000*\"super\" + 0.000*\"fair\" + 0.000*\"ketchup\" + 0.000*\"defin\" + 0.000*\"interest\" + 0.000*\"letter\" + 0.000*\"decor\"'),\n",
       " (5,\n",
       "  '0.000*\"lot\" + 0.000*\"capac\" + 0.000*\"unlv\" + 0.000*\"have\" + 0.000*\"fix\" + 0.000*\"outstand\" + 0.000*\"korean\" + 0.000*\"china\" + 0.000*\"automat\" + 0.000*\"screen\"'),\n",
       " (3,\n",
       "  '0.000*\"hot\" + 0.000*\"dice\" + 0.000*\"unlik\" + 0.000*\"post\" + 0.000*\"buffalo\" + 0.000*\"actual\" + 0.000*\"sombrero\" + 0.000*\"pasta\" + 0.000*\"reccomend\" + 0.000*\"visibl\"'),\n",
       " (53,\n",
       "  '0.000*\"model\" + 0.000*\"brunch\" + 0.000*\"capac\" + 0.000*\"face\" + 0.000*\"colleagu\" + 0.000*\"barbecu\" + 0.000*\"admit\" + 0.000*\"snap\" + 0.000*\"anticucho\" + 0.000*\"secur\"'),\n",
       " (69,\n",
       "  '0.000*\"bus\" + 0.000*\"prais\" + 0.000*\"curious\" + 0.000*\"southern\" + 0.000*\"linger\" + 0.000*\"introduc\" + 0.000*\"dozen\" + 0.000*\"sampler\" + 0.000*\"overr\" + 0.000*\"babi\"'),\n",
       " (37,\n",
       "  '0.000*\"describ\" + 0.000*\"strict\" + 0.000*\"alongsid\" + 0.000*\"genuin\" + 0.000*\"overbear\" + 0.000*\"kid\" + 0.000*\"coupl\" + 0.000*\"lord\" + 0.000*\"hall\" + 0.000*\"cali\"'),\n",
       " (8,\n",
       "  '0.000*\"driver\" + 0.000*\"tomato\" + 0.000*\"easier\" + 0.000*\"feast\" + 0.000*\"incorrect\" + 0.000*\"extend\" + 0.000*\"mesa\" + 0.000*\"allerg\" + 0.000*\"hmmm\" + 0.000*\"starch\"'),\n",
       " (27,\n",
       "  '0.000*\"access\" + 0.000*\"friend\" + 0.000*\"malaysia\" + 0.000*\"aisl\" + 0.000*\"exchang\" + 0.000*\"doubt\" + 0.000*\"porkchop\" + 0.000*\"explor\" + 0.000*\"profession\" + 0.000*\"sketchi\"'),\n",
       " (44,\n",
       "  '0.000*\"waffl\" + 0.000*\"salon\" + 0.000*\"cram\" + 0.000*\"gold\" + 0.000*\"caribbean\" + 0.000*\"lemongrass\" + 0.000*\"poblano\" + 0.000*\"pineappl\" + 0.000*\"http\" + 0.000*\"proud\"'),\n",
       " (4,\n",
       "  '0.000*\"spicey\" + 0.000*\"plastic\" + 0.000*\"squeez\" + 0.000*\"term\" + 0.000*\"client\" + 0.000*\"stone\" + 0.000*\"scallop\" + 0.000*\"monday\" + 0.000*\"fri\" + 0.000*\"tangi\"'),\n",
       " (47,\n",
       "  '0.000*\"nephew\" + 0.000*\"nice\" + 0.000*\"outer\" + 0.000*\"shout\" + 0.000*\"peep\" + 0.000*\"brother\" + 0.000*\"one\" + 0.000*\"malaysia\" + 0.000*\"gear\" + 0.000*\"pasta\"')]"
      ]
     },
     "execution_count": 25,
     "metadata": {},
     "output_type": "execute_result"
    }
   ],
   "source": [
    "(corpus, dictionary) = get_corpus(files[1] + \".txt\")\n",
    "hdp_2 = models.HdpModel(corpus, dictionary)\n",
    "l=hdp_2.suggested_lda_model()\n",
    "l.show_topics(20)"
   ]
  },
  {
   "cell_type": "code",
   "execution_count": 26,
   "metadata": {},
   "outputs": [
    {
     "name": "stderr",
     "output_type": "stream",
     "text": [
      "100%|███████████████████████████████████████████████████████████████████████████| 10912/10912 [00:17<00:00, 634.63it/s]\n"
     ]
    },
    {
     "data": {
      "text/plain": [
       "[(120,\n",
       "  '0.001*\"trap\" + 0.001*\"atroci\" + 0.001*\"amaz\" + 0.001*\"sing\" + 0.001*\"odd\" + 0.001*\"ridicul\" + 0.001*\"substitut\" + 0.001*\"concern\" + 0.001*\"southern\" + 0.001*\"hoisin\"'),\n",
       " (119,\n",
       "  '0.001*\"warm\" + 0.001*\"cashew\" + 0.001*\"anticip\" + 0.001*\"littl\" + 0.001*\"addit\" + 0.001*\"compens\" + 0.001*\"sum\" + 0.001*\"busi\" + 0.001*\"semi\" + 0.001*\"mini\"'),\n",
       " (40,\n",
       "  '0.001*\"comparison\" + 0.001*\"eye\" + 0.001*\"udon\" + 0.001*\"wave\" + 0.001*\"courteous\" + 0.001*\"express\" + 0.001*\"refresh\" + 0.001*\"instant\" + 0.001*\"eastern\" + 0.001*\"line\"'),\n",
       " (68,\n",
       "  '0.001*\"thought\" + 0.001*\"finish\" + 0.001*\"record\" + 0.001*\"standard\" + 0.001*\"turn\" + 0.001*\"friend\" + 0.001*\"ach\" + 0.001*\"shumai\" + 0.001*\"seattl\" + 0.001*\"custom\"'),\n",
       " (100,\n",
       "  '0.001*\"combin\" + 0.001*\"menu\" + 0.001*\"assist\" + 0.001*\"unapp\" + 0.001*\"ball\" + 0.001*\"anymor\" + 0.001*\"wing\" + 0.001*\"coke\" + 0.001*\"yeah\" + 0.001*\"hour\"'),\n",
       " (141,\n",
       "  '0.001*\"viet\" + 0.001*\"sweet\" + 0.001*\"dress\" + 0.001*\"member\" + 0.001*\"interior\" + 0.001*\"soupi\" + 0.001*\"mere\" + 0.001*\"famili\" + 0.001*\"wood\" + 0.001*\"appeal\"'),\n",
       " (28,\n",
       "  '0.001*\"monday\" + 0.001*\"uninspir\" + 0.001*\"carrot\" + 0.001*\"liter\" + 0.001*\"bright\" + 0.001*\"ambianc\" + 0.001*\"appreci\" + 0.001*\"disagre\" + 0.001*\"switch\" + 0.001*\"chili\"'),\n",
       " (96,\n",
       "  '0.001*\"manner\" + 0.001*\"udon\" + 0.001*\"haha\" + 0.001*\"wild\" + 0.001*\"individu\" + 0.001*\"alot\" + 0.001*\"bear\" + 0.001*\"nest\" + 0.001*\"yellow\" + 0.001*\"laugh\"'),\n",
       " (145,\n",
       "  '0.001*\"shumai\" + 0.001*\"fli\" + 0.001*\"signatur\" + 0.001*\"bathroom\" + 0.001*\"decad\" + 0.001*\"shove\" + 0.001*\"doughi\" + 0.001*\"racist\" + 0.001*\"jose\" + 0.001*\"vinegar\"'),\n",
       " (147,\n",
       "  '0.001*\"pretenti\" + 0.001*\"challeng\" + 0.001*\"offic\" + 0.001*\"scrap\" + 0.001*\"initi\" + 0.001*\"awkward\" + 0.001*\"rainbow\" + 0.001*\"accommod\" + 0.001*\"atmospher\" + 0.001*\"fine\"'),\n",
       " (47,\n",
       "  '0.001*\"realiti\" + 0.001*\"crappi\" + 0.001*\"packet\" + 0.001*\"sear\" + 0.001*\"gooey\" + 0.001*\"meat\" + 0.001*\"francisco\" + 0.001*\"nice\" + 0.001*\"card\" + 0.001*\"dice\"'),\n",
       " (51,\n",
       "  '0.001*\"liquid\" + 0.001*\"readi\" + 0.001*\"diamond\" + 0.001*\"mediocr\" + 0.001*\"major\" + 0.001*\"buddha\" + 0.001*\"cart\" + 0.001*\"ethnic\" + 0.001*\"sprout\" + 0.001*\"support\"'),\n",
       " (1,\n",
       "  '0.001*\"opinion\" + 0.001*\"hangov\" + 0.001*\"opposit\" + 0.001*\"hire\" + 0.001*\"shift\" + 0.001*\"mayo\" + 0.001*\"shred\" + 0.001*\"hang\" + 0.001*\"water\" + 0.001*\"see\"'),\n",
       " (62,\n",
       "  '0.001*\"repli\" + 0.001*\"cozi\" + 0.001*\"women\" + 0.001*\"surviv\" + 0.001*\"their\" + 0.001*\"essenti\" + 0.001*\"road\" + 0.001*\"mussel\" + 0.001*\"restaur\" + 0.001*\"underneath\"'),\n",
       " (64,\n",
       "  '0.001*\"toast\" + 0.001*\"greasi\" + 0.001*\"identifi\" + 0.001*\"gyoza\" + 0.001*\"month\" + 0.001*\"confront\" + 0.001*\"tini\" + 0.001*\"imit\" + 0.001*\"fork\" + 0.001*\"eye\"'),\n",
       " (25,\n",
       "  '0.001*\"appetit\" + 0.001*\"fuss\" + 0.001*\"inflat\" + 0.001*\"knock\" + 0.001*\"skewer\" + 0.001*\"pasta\" + 0.001*\"drag\" + 0.001*\"distanc\" + 0.001*\"nice\" + 0.001*\"filthi\"'),\n",
       " (4,\n",
       "  '0.001*\"sweet\" + 0.001*\"longer\" + 0.001*\"extrem\" + 0.001*\"limit\" + 0.001*\"difficult\" + 0.001*\"clam\" + 0.001*\"take\" + 0.001*\"asham\" + 0.001*\"minut\" + 0.001*\"sticker\"'),\n",
       " (27,\n",
       "  '0.001*\"like\" + 0.001*\"combin\" + 0.001*\"grace\" + 0.001*\"rough\" + 0.001*\"recommend\" + 0.001*\"forth\" + 0.001*\"assort\" + 0.001*\"assur\" + 0.001*\"alcohol\" + 0.001*\"better\"'),\n",
       " (86,\n",
       "  '0.001*\"advanc\" + 0.001*\"timer\" + 0.001*\"trash\" + 0.001*\"scrap\" + 0.001*\"doubl\" + 0.001*\"notifi\" + 0.001*\"delish\" + 0.001*\"cantones\" + 0.001*\"lowest\" + 0.001*\"xiao\"'),\n",
       " (80,\n",
       "  '0.001*\"waitress\" + 0.001*\"layout\" + 0.001*\"concept\" + 0.001*\"tapioca\" + 0.001*\"pang\" + 0.001*\"dead\" + 0.001*\"freez\" + 0.001*\"credit\" + 0.001*\"steamer\" + 0.001*\"dissapoint\"')]"
      ]
     },
     "execution_count": 26,
     "metadata": {},
     "output_type": "execute_result"
    }
   ],
   "source": [
    "(corpus, dictionary) = get_corpus(files[2] + \".txt\")\n",
    "hdp_3 = models.HdpModel(corpus, dictionary)\n",
    "l=hdp_3.suggested_lda_model()\n",
    "l.show_topics(20)"
   ]
  },
  {
   "cell_type": "code",
   "execution_count": 20,
   "metadata": {},
   "outputs": [],
   "source": [
    "hdp.optimal_ordering()"
   ]
  },
  {
   "cell_type": "code",
   "execution_count": null,
   "metadata": {},
   "outputs": [],
   "source": [
    "def UMassScore(model, dictionary):\n",
    "    score = 0\n",
    "    topic = model.show_topics(-1, formatted=False)\n",
    "    for i in range(0, len(topic)):\n",
    "        for j in range(0, len(topic[i][1]) - 1):\n",
    "            p = "
   ]
  },
  {
   "cell_type": "markdown",
   "metadata": {},
   "source": [
    "http://qpleple.com/topic-coherence-to-evaluate-topic-models/\n",
    "\n",
    "Select number of topics for LDA model: https://cran.r-project.org/web/packages/ldatuning/vignettes/topics.html"
   ]
  },
  {
   "cell_type": "code",
   "execution_count": null,
   "metadata": {},
   "outputs": [],
   "source": []
  }
 ],
 "metadata": {
  "kernelspec": {
   "display_name": "Python 3",
   "language": "python",
   "name": "python3"
  },
  "language_info": {
   "codemirror_mode": {
    "name": "ipython",
    "version": 3
   },
   "file_extension": ".py",
   "mimetype": "text/x-python",
   "name": "python",
   "nbconvert_exporter": "python",
   "pygments_lexer": "ipython3",
   "version": "3.6.8"
  }
 },
 "nbformat": 4,
 "nbformat_minor": 2
}
