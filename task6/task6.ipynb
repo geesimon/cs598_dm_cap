{
 "cells": [
  {
   "cell_type": "markdown",
   "metadata": {},
   "source": [
    "Packages:\n",
    "* [NLTK](http://www.nltk.org/howto/classify.html)\n",
    "* [SpaCy](https://spacy.io/)\n",
    "* [AllenNLP](https://allennlp.org/tutorials)\n",
    "\n",
    "Articles:\n",
    "* [A Comprehensive Guide to Understand and Implement Text Classification in Python](https://www.analyticsvidhya.com/blog/2018/04/a-comprehensive-guide-to-understand-and-implement-text-classification-in-python/)\n",
    "* [Machine Learning, NLP: Text Classification using scikit-learn, python and NLTK](https://towardsdatascience.com/machine-learning-nlp-text-classification-using-scikit-learn-python-and-nltk-c52b92a7c73a)\n",
    "* [State-of-the-Art Text Classification using BERT model: “Predict the Happiness” Challenge](https://appliedmachinelearning.blog/2019/03/04/state-of-the-art-text-classification-using-bert-model-predict-the-happiness-hackerearth-challenge/)"
   ]
  },
  {
   "cell_type": "code",
   "execution_count": 1,
   "metadata": {},
   "outputs": [
    {
     "name": "stderr",
     "output_type": "stream",
     "text": [
      "100%|██████████| 13299/13299 [15:03<00:00, 14.73it/s]  \n"
     ]
    }
   ],
   "source": [
    "from gensim.utils import simple_preprocess\n",
    "from gensim.parsing.preprocessing import STOPWORDS\n",
    "from sklearn import model_selection, preprocessing\n",
    "from sklearn.feature_extraction.text import TfidfVectorizer, CountVectorizer\n",
    "from sklearn import decomposition, ensemble\n",
    "from nltk.stem import WordNetLemmatizer, SnowballStemmer\n",
    "from tqdm import tqdm\n",
    "import numpy as np\n",
    "import pandas as pd\n",
    "import string\n",
    "import time\n",
    "\n",
    "\n",
    "stemmer = SnowballStemmer('english')\n",
    "def lemmatize_stemming(text):\n",
    "    return stemmer.stem(WordNetLemmatizer().lemmatize(text, pos='v'))\n",
    "\n",
    "def preprocess(text):\n",
    "    result = []\n",
    "    result_stemmed = []\n",
    "    for token in simple_preprocess(text, min_len = 2):\n",
    "        result.append(token)\n",
    "#         if token not in STOPWORDS:\n",
    "        result_stemmed.append(lemmatize_stemming(token))\n",
    "    \n",
    "    return (result, result_stemmed)\n",
    "\n",
    "with open(\"./data/raw/Hygiene/hygiene.dat.labels\") as f:\n",
    "    LABELS = [int(l) for l in f.readlines() if l[0].isdigit()]\n",
    "\n",
    "ALL_RAW_TEXTS = []\n",
    "ALL_TEXTS = []\n",
    "ALL_STEMMED_TEXTS = []\n",
    "ALL_CONCAT_STEMMED_TEXTS = []\n",
    "LABELED_TEXTS = []\n",
    "LABELED_CONCAT_TEXTS = []\n",
    "LABELED_STEMMED_TEXTS = []\n",
    "LABELED_CONCAT_STEMMED_TEXTS = []\n",
    "\n",
    "with open(\"./data/raw/Hygiene/hygiene.dat\") as f:\n",
    "    ALL_RAW_TEXTS = f.readlines()\n",
    "\n",
    "for _text in tqdm(ALL_RAW_TEXTS):\n",
    "    _result, _result_stemmed = preprocess(_text)\n",
    "    ALL_TEXTS.append(_result)\n",
    "    ALL_STEMMED_TEXTS.append(_result_stemmed)\n",
    "\n",
    "ALL_CONCAT_STEMMED_TEXTS = [\" \".join(_text) for _text in ALL_STEMMED_TEXTS]\n",
    "\n",
    "LABELED_TEXTS = ALL_TEXTS[0:len(LABELS)]\n",
    "LABELED_CONCAT_TEXTS = [\" \".join(_text) for _text in LABELED_TEXTS]\n",
    "\n",
    "LABELED_STEMMED_TEXTS = ALL_STEMMED_TEXTS[0:len(LABELS)]\n",
    "LABELED_CONCAT_STEMMED_TEXTS = [\" \".join(_text) for _text in LABELED_STEMMED_TEXTS]\n",
    "\n",
    "FEATURE_MORE =pd.read_csv(\"./data/raw/Hygiene/hygiene.dat.additional\", header=None)"
   ]
  },
  {
   "cell_type": "code",
   "execution_count": 2,
   "metadata": {},
   "outputs": [],
   "source": [
    "# create a dataframe using texts and lables\n",
    "labeled_df = pd.DataFrame()\n",
    "labeled_df['concat_stemmed_text'] = LABELED_CONCAT_STEMMED_TEXTS\n",
    "labeled_df['stemmed_text'] = LABELED_STEMMED_TEXTS\n",
    "# labeled_df['concat_stemmed_text'] = LABELED_CONCAT_TEXTS\n",
    "# labeled_df['stemmed_text'] = LABELED_TEXTS\n",
    "labeled_df['label'] = LABELS\n",
    "\n",
    "# split the dataset into training and validation datasets \n",
    "train_concat_stemmed_text, test_concat_stemmed_text, train_label, test_label = model_selection.train_test_split(labeled_df['concat_stemmed_text'], \n",
    "                                                                                  labeled_df['label'],\n",
    "                                                                                  test_size = 0.2)\n",
    "train_stemmed_text = labeled_df['stemmed_text'][train_concat_stemmed_text.index]\n",
    "test_stemmed_text = labeled_df['stemmed_text'][test_concat_stemmed_text.index]\n",
    "\n",
    "# # label encode the target variable \n",
    "# encoder = preprocessing.LabelEncoder()\n",
    "# train_label = encoder.fit_transform(train_label)\n",
    "# test_label = encoder.fit_transform(test_label)"
   ]
  },
  {
   "cell_type": "code",
   "execution_count": 3,
   "metadata": {},
   "outputs": [],
   "source": [
    "# dictionary = corpora.Dictionary(processed_docs)\n",
    "# print(\"Before prunn:%d\"%(len(dictionary)))\n",
    "# dictionary.filter_extremes(no_below = 2, no_above = 0.5)\n",
    "# print(\"After prunn:%d\"%(len(dictionary)))\n",
    "# corpus = [dictionary.doc2bow(doc) for doc in processed_docs]"
   ]
  },
  {
   "cell_type": "markdown",
   "metadata": {},
   "source": [
    "# Feature Engineering"
   ]
  },
  {
   "cell_type": "markdown",
   "metadata": {},
   "source": [
    "## Count Vectors as features"
   ]
  },
  {
   "cell_type": "code",
   "execution_count": 4,
   "metadata": {},
   "outputs": [],
   "source": [
    "class MyCountVectorizer:\n",
    "    def __init__(self, max_df = 0.5):\n",
    "        self.vect_model = CountVectorizer(analyzer='word', max_df = max_df)\n",
    "        \n",
    "    def fit(self, texts_concat):\n",
    "        self.vect_model.fit(texts_concat)\n",
    "    \n",
    "    def transform(self, texts_concat):\n",
    "        return self.vect_model.transform(texts_concat)\n",
    "\n",
    "count_vect = MyCountVectorizer()\n",
    "count_vect.fit(train_concat_stemmed_text)\n",
    "train_count = count_vect.transform(train_concat_stemmed_text)\n",
    "test_count =  count_vect.transform(test_concat_stemmed_text)"
   ]
  },
  {
   "cell_type": "markdown",
   "metadata": {},
   "source": [
    "## TF-IDF Vectors as features"
   ]
  },
  {
   "cell_type": "code",
   "execution_count": 5,
   "metadata": {},
   "outputs": [
    {
     "name": "stdout",
     "output_type": "stream",
     "text": [
      "CPU times: user 14.4 s, sys: 227 ms, total: 14.6 s\n",
      "Wall time: 14.1 s\n"
     ]
    }
   ],
   "source": [
    "%%time\n",
    "\n",
    "# word level tf-idf\n",
    "class MyTfidfVectorizer(MyCountVectorizer):\n",
    "    def __init__(self, analyzer='word', ngram_range = None, max_features=5000):\n",
    "        if ngram_range is None:\n",
    "            self.vect_model = TfidfVectorizer(analyzer = analyzer, max_features = max_features)\n",
    "        else:\n",
    "            self.vect_model = TfidfVectorizer(analyzer = analyzer, ngram_range = ngram_range, \n",
    "                                              max_features = max_features)\n",
    "            \n",
    "    def fit(self, texts_concat):   \n",
    "        self.vect_model.fit(texts_concat)\n",
    "        self.vocabulary = self.vect_model.vocabulary_\n",
    "\n",
    "\n",
    "tfidf_vect = MyTfidfVectorizer()\n",
    "tfidf_vect.fit(train_concat_stemmed_text)\n",
    "train_tfidf =  tfidf_vect.transform(train_concat_stemmed_text)\n",
    "test_tfidf =  tfidf_vect.transform(test_concat_stemmed_text)\n",
    "\n",
    "# ngram level tf-idf \n",
    "tfidf_vect_ngram = MyTfidfVectorizer(ngram_range=(2,3))\n",
    "tfidf_vect_ngram.fit(train_concat_stemmed_text)\n",
    "train_tfidf_ngram =  tfidf_vect_ngram.transform(train_concat_stemmed_text)\n",
    "test_tfidf_ngram =  tfidf_vect_ngram.transform(test_concat_stemmed_text)\n",
    "\n",
    "# characters level tf-idf\n",
    "tfidf_vect_ngram_chars = MyTfidfVectorizer(analyzer='char', ngram_range=(2,3))\n",
    "tfidf_vect_ngram_chars.fit(train_concat_stemmed_text)\n",
    "train_tfidf_ngram_chars =  tfidf_vect_ngram_chars.transform(train_concat_stemmed_text) \n",
    "test_tfidf_ngram_chars =  tfidf_vect_ngram_chars.transform(test_concat_stemmed_text) "
   ]
  },
  {
   "cell_type": "markdown",
   "metadata": {},
   "source": [
    "## Word Embeddings"
   ]
  },
  {
   "cell_type": "markdown",
   "metadata": {},
   "source": [
    "### Build from review corpus"
   ]
  },
  {
   "cell_type": "code",
   "execution_count": 6,
   "metadata": {},
   "outputs": [
    {
     "name": "stderr",
     "output_type": "stream",
     "text": [
      "/anaconda3/envs/dm_cap_py3/lib/python3.6/site-packages/ipykernel_launcher.py:15: DeprecationWarning: Call to deprecated `__getitem__` (Method will be removed in 4.0.0, use self.wv.__getitem__() instead).\n",
      "  from ipykernel import kernelapp as app\n"
     ]
    },
    {
     "name": "stdout",
     "output_type": "stream",
     "text": [
      "CPU times: user 22min 36s, sys: 13 s, total: 22min 49s\n",
      "Wall time: 10min 29s\n"
     ]
    }
   ],
   "source": [
    "# %%time\n",
    "\n",
    "# from gensim.models.fasttext import FastText\n",
    "\n",
    "# class MyFastTextTfidfVectorizer(MyCountVectorizer):\n",
    "#     def __init__(self, tfidf_vectorizer, size = 100):\n",
    "#         self.embedding_size = size\n",
    "#         self.tfidf_vectorizer = tfidf_vectorizer\n",
    "#         self.fasttext_model = FastText(size = size, window = 5, min_count = 5)\n",
    "\n",
    "#     def tfidf2embedding(self, value_vector):\n",
    "#         _weighted_value = np.zeros(self.embedding_size)\n",
    "#         for key in self.tfidf_vectorizer.vocabulary:\n",
    "#             _index = self.tfidf_vectorizer.vocabulary[key]\n",
    "#             if value_vector[_index] != 0:\n",
    "#                 _weighted_value += self.fasttext_model[key] * value_vector[_index]\n",
    "\n",
    "#         return _weighted_value\n",
    "    \n",
    "#     def fit(self, texts):\n",
    "#         _texts_concat = [\" \".join(_text) for _text in texts]\n",
    "#         self.tfidf_vectorizer = MyTfidfVectorizer()\n",
    "#         self.tfidf_vectorizer.fit(_texts_concat)\n",
    "        \n",
    "#         self.fasttext_model.build_vocab(sentences = texts)\n",
    "#         self.fasttext_model.train(sentences = texts, \n",
    "#                                   total_examples = len(texts), \n",
    "#                                   epochs=10)\n",
    "        \n",
    "#     def transform(self, texts):\n",
    "#         _texts_concat = [\" \".join(_text) for _text in texts]\n",
    "#         _tfidf_values = self.tfidf_vectorizer.transform(_texts_concat)\n",
    "#         return np.asarray([self.tfidf2embedding(_value.toarray()[0]) for _value in _tfidf_values])\n",
    "\n",
    "# fasttext_tfidf_vect = MyFastTextTfidfVectorizer(tfidf_vect)\n",
    "# fasttext_tfidf_vect.fit(ALL_STEMMED_TEXTS)\n",
    "# train_fasttext_embedding = fasttext_tfidf_vect.transform(train_stemmed_text)\n",
    "# test_fasttext_embedding = fasttext_tfidf_vect.transform(test_stemmed_text)"
   ]
  },
  {
   "cell_type": "markdown",
   "metadata": {},
   "source": [
    "### Prebuilt Embedding"
   ]
  },
  {
   "cell_type": "code",
   "execution_count": 7,
   "metadata": {},
   "outputs": [],
   "source": [
    "# %%time\n",
    "# from keras.preprocessing import text, sequence\n",
    "# from keras import layers, models, optimizers\n",
    "\n",
    "# # load the pre-trained word-embedding vectors \n",
    "# embeddings_index = {}\n",
    "# for i, line in enumerate(open('data/model/wiki-news-300d-1M.vec')):\n",
    "#     values = line.split()\n",
    "#     embeddings_index[values[0]] = np.asarray(values[1:], dtype='float32')\n",
    "\n",
    "# # create a tokenizer \n",
    "# token = text.Tokenizer()\n",
    "# token.fit_on_texts(LABELED_CONCAT_STEMMED_TEXTS)\n",
    "# word_index = token.word_index\n",
    "\n",
    "# # convert text to sequence of tokens and pad them to ensure equal length vectors \n",
    "# text_train_seq = sequence.pad_sequences(token.texts_to_sequences(train_text), maxlen=70)\n",
    "# text_test_seq = sequence.pad_sequences(token.texts_to_sequences(test_text), maxlen=70)\n",
    "\n",
    "# # create token-embedding mapping\n",
    "# embedding_matrix = np.zeros((len(word_index) + 1, 300))\n",
    "# for word, i in word_index.items():\n",
    "#     embedding_vector = embeddings_index.get(word)\n",
    "#     if embedding_vector is not None:\n",
    "#         embedding_matrix[i] = embedding_vector"
   ]
  },
  {
   "cell_type": "markdown",
   "metadata": {},
   "source": [
    "## Text / NLP based features"
   ]
  },
  {
   "cell_type": "code",
   "execution_count": 8,
   "metadata": {},
   "outputs": [],
   "source": [
    "# %%time\n",
    "# trainDF['char_count'] = trainDF['text'].apply(len)\n",
    "# trainDF['word_count'] = trainDF['text'].apply(lambda x: len(x.split()))\n",
    "# trainDF['word_density'] = trainDF['char_count'] / (trainDF['word_count']+1)\n",
    "# trainDF['punctuation_count'] = trainDF['text'].apply(lambda x: len(\"\".join(_ for _ in x if _ in string.punctuation))) \n",
    "# trainDF['title_word_count'] = trainDF['text'].apply(lambda x: len([wrd for wrd in x.split() if wrd.istitle()]))\n",
    "# trainDF['upper_case_word_count'] = trainDF['text'].apply(lambda x: len([wrd for wrd in x.split() if wrd.isupper()]))"
   ]
  },
  {
   "cell_type": "code",
   "execution_count": 9,
   "metadata": {},
   "outputs": [],
   "source": [
    "# %%time\n",
    "\n",
    "# import textblob\n",
    "\n",
    "# pos_family = {\n",
    "#     'noun' : ['NN','NNS','NNP','NNPS'],\n",
    "#     'pron' : ['PRP','PRP$','WP','WP$'],\n",
    "#     'verb' : ['VB','VBD','VBG','VBN','VBP','VBZ'],\n",
    "#     'adj' :  ['JJ','JJR','JJS'],\n",
    "#     'adv' : ['RB','RBR','RBS','WRB']\n",
    "# }\n",
    "\n",
    "# # function to check and get the part of speech tag count of a words in a given sentence\n",
    "# def check_pos_tag(x, flag):\n",
    "#     cnt = 0\n",
    "#     try:\n",
    "#         wiki = textblob.TextBlob(x)\n",
    "#         for tup in wiki.tags:\n",
    "#             ppo = list(tup)[1]\n",
    "#             if ppo in pos_family[flag]:\n",
    "#                 cnt += 1\n",
    "#     except:\n",
    "#         pass\n",
    "#     return cnt\n",
    "\n",
    "# trainDF['noun_count'] = trainDF['text'].apply(lambda x: check_pos_tag(x, 'noun'))\n",
    "# trainDF['verb_count'] = trainDF['text'].apply(lambda x: check_pos_tag(x, 'verb'))\n",
    "# trainDF['adj_count'] = trainDF['text'].apply(lambda x: check_pos_tag(x, 'adj'))\n",
    "# trainDF['adv_count'] = trainDF['text'].apply(lambda x: check_pos_tag(x, 'adv'))\n",
    "# trainDF['pron_count'] = trainDF['text'].apply(lambda x: check_pos_tag(x, 'pron'))"
   ]
  },
  {
   "cell_type": "markdown",
   "metadata": {},
   "source": [
    "## Topic Models as features"
   ]
  },
  {
   "cell_type": "code",
   "execution_count": 10,
   "metadata": {},
   "outputs": [],
   "source": [
    "# # train a LDA Model\n",
    "# lda_model = decomposition.LatentDirichletAllocation(n_components=20, learning_method='online', max_iter=20)\n",
    "# X_topics = lda_model.fit_transform(text_train_count)\n",
    "# topic_word = lda_model.components_\n",
    "# vocab = count_vect.get_feature_names()\n",
    "\n",
    "# # view the topic models\n",
    "# n_top_words = 10\n",
    "# topic_summaries = []\n",
    "# for i, topic_dist in enumerate(topic_word):\n",
    "#     topic_words = np.array(vocab)[np.argsort(topic_dist)][:-(n_top_words+1):-1]\n",
    "#     topic_summaries.append(' '.join(topic_words))"
   ]
  },
  {
   "cell_type": "code",
   "execution_count": 11,
   "metadata": {},
   "outputs": [
    {
     "name": "stdout",
     "output_type": "stream",
     "text": [
      "CPU times: user 5.57 s, sys: 211 ms, total: 5.78 s\n",
      "Wall time: 57.1 s\n"
     ]
    }
   ],
   "source": [
    "%%time\n",
    "\n",
    "import os\n",
    "from gensim import corpora, models\n",
    "\n",
    "class MyLDAVectorizer(MyCountVectorizer):\n",
    "    mallet_path = \"..\" + os.sep + \"mallet-2.0.8\"+ os.sep + \"bin\" + os.sep +\"mallet\"\n",
    "    \n",
    "    def __init__(self, TOPIC_COUNT = 100):\n",
    "        self.topic_count = TOPIC_COUNT\n",
    "    \n",
    "    def fit(self, texts):\n",
    "        self.dictionary = corpora.Dictionary(texts)\n",
    "        _corpus = [self.dictionary.doc2bow(_doc) for _doc in texts]\n",
    "        self.tfidf_model = models.TfidfModel(_corpus)\n",
    "        _tfidf_corpus = self.tfidf_model[_corpus]\n",
    "\n",
    "#         self.vect_model = models.LdaModel(_tfidf_corpus, \n",
    "#                             num_topics = self.topic_count, \n",
    "#                             id2word = self.dictionary,\n",
    "#                             random_state = 100,\n",
    "#                             eval_every = 5, \n",
    "#                             alpha = 'auto', \n",
    "#                             gamma_threshold = 0.01)\n",
    "        \n",
    "        self.vect_model = models.wrappers.LdaMallet(self.mallet_path, \n",
    "                                                     corpus = _corpus, \n",
    "                                                     num_topics = self.topic_count, \n",
    "                                                     id2word = self.dictionary)\n",
    "    \n",
    "    def toarray(self, doc_topics):\n",
    "        _doc_vect  = np.zeros((len(doc_topics), self.topic_count))\n",
    "        \n",
    "        for i, _doc in enumerate(doc_topics):\n",
    "            for _topic, _weight in _doc:\n",
    "                _doc_vect[i][_topic] = _weight\n",
    "        \n",
    "        return _doc_vect\n",
    "        \n",
    "    def transform(self, texts):\n",
    "        _corpus = [self.dictionary.doc2bow(_doc) for _doc in texts]\n",
    "#         _tfidf_corpus = self.tfidf_model[_corpus]\n",
    "        \n",
    "        return self.toarray(self.vect_model[_corpus])\n",
    "\n",
    "lda_vect = MyLDAVectorizer()\n",
    "lda_vect.fit(train_stemmed_text)\n",
    "train_lda = lda_vect.transform(train_stemmed_text)\n",
    "test_lda = lda_vect.transform(test_stemmed_text)"
   ]
  },
  {
   "cell_type": "markdown",
   "metadata": {},
   "source": [
    "## Doc2Vec"
   ]
  },
  {
   "cell_type": "code",
   "execution_count": 12,
   "metadata": {},
   "outputs": [
    {
     "name": "stdout",
     "output_type": "stream",
     "text": [
      "CPU times: user 50 s, sys: 634 ms, total: 50.7 s\n",
      "Wall time: 19.4 s\n"
     ]
    }
   ],
   "source": [
    "%%time\n",
    "\n",
    "from gensim.models.doc2vec import Doc2Vec, TaggedDocument\n",
    "import numpy as np\n",
    "\n",
    "class MyDoc2Vectorizer(MyCountVectorizer):\n",
    "    def __init__(self, size = 100):\n",
    "        self.embedding_size = size\n",
    "            \n",
    "    def fit(self, texts):\n",
    "        _docs = [TaggedDocument(_doc, [i]) for i, _doc in enumerate(texts)]\n",
    "        self.vect_model = Doc2Vec(_docs, \n",
    "                                  vector_size = self.embedding_size, \n",
    "#                                   window = 8,\n",
    "                                  epochs=40, \n",
    "                                  workers=4)\n",
    "        \n",
    "    def transform(self, texts):\n",
    "        return np.asarray([self.vect_model.infer_vector(_text) for _text in texts])\n",
    "\n",
    "doc2vec_vect = MyDoc2Vectorizer(size = 200)\n",
    "# doc2vec_vect.fit(ALL_STEMMED_TEXTS)\n",
    "doc2vec_vect.fit(train_stemmed_text)\n",
    "train_doc2vec = doc2vec_vect.transform(train_stemmed_text)\n",
    "test_doc2vec = doc2vec_vect.transform(test_stemmed_text)"
   ]
  },
  {
   "cell_type": "code",
   "execution_count": 13,
   "metadata": {},
   "outputs": [
    {
     "data": {
      "text/plain": [
       "Counter({0: 436})"
      ]
     },
     "execution_count": 13,
     "metadata": {},
     "output_type": "execute_result"
    }
   ],
   "source": [
    "#Test quality\n",
    "\n",
    "import collections\n",
    "\n",
    "ranks = []\n",
    "for doc_id in range(len(train_stemmed_text)):\n",
    "    inferred_vector = doc2vec_vect.vect_model.infer_vector(train_stemmed_text[train_stemmed_text.index[doc_id]])\n",
    "    sims = doc2vec_vect.vect_model.docvecs.most_similar([inferred_vector], topn=len(doc2vec_vect.vect_model.docvecs))\n",
    "    rank = [docid for docid, sim in sims].index(doc_id)\n",
    "    ranks.append(rank)\n",
    "\n",
    "collections.Counter(ranks)"
   ]
  },
  {
   "cell_type": "markdown",
   "metadata": {},
   "source": [
    "# Models"
   ]
  },
  {
   "cell_type": "code",
   "execution_count": 113,
   "metadata": {},
   "outputs": [],
   "source": [
    "from sklearn import linear_model, naive_bayes, metrics, svm\n",
    "\n",
    "def show_score(classifier_name, scores):\n",
    "    print(\"Accuracy:%0.2f Precission:%0.2f Recall:%0.2f F1:%0.2f\"%scores, \"-> [%s]\"%(classifier_name))\n",
    "    \n",
    "def train_model(classifier, train_feature, train_label, test_feature, test_label, is_neural_net=False):\n",
    "#     print(train_feature)\n",
    "    # fit the training dataset on the classifier\n",
    "    classifier.fit(train_feature, train_label)\n",
    "    \n",
    "    # predict the labels on validation dataset\n",
    "    predictions = classifier.predict(test_feature)\n",
    "    \n",
    "    if is_neural_net:\n",
    "        predictions = predictions.argmax(axis=-1)\n",
    "    print(metrics.confusion_matrix(predictions, test_label))\n",
    "    return (metrics.accuracy_score(predictions, test_label),\n",
    "            metrics.precision_score(predictions, test_label),\n",
    "            metrics.recall_score(predictions, test_label),\n",
    "            metrics.f1_score(predictions, test_label))\n",
    "\n",
    "def run_model(classfier_configs):\n",
    "    for _name in classfier_configs:\n",
    "#         print(classfier_configs[_name].train)\n",
    "        scores = train_model(classfier_configs[_name][0], classfier_configs[_name][1], train_label, classfier_configs[_name][2], test_label)\n",
    "        show_score(_name, scores)\n",
    "        \n",
    "class ClassifierConfig:\n",
    "     def __init__(self, classifier, train, test):\n",
    "            self.classifier = classifier\n",
    "            self.train = train\n",
    "            self.test = test"
   ]
  },
  {
   "cell_type": "markdown",
   "metadata": {},
   "source": [
    "## Naive Bayes "
   ]
  },
  {
   "cell_type": "code",
   "execution_count": 114,
   "metadata": {},
   "outputs": [
    {
     "name": "stdout",
     "output_type": "stream",
     "text": [
      "[[28 20]\n",
      " [30 32]]\n",
      "Accuracy:0.55 Precission:0.62 Recall:0.52 F1:0.56 -> [NB Count]\n",
      "[[10  6]\n",
      " [48 46]]\n",
      "Accuracy:0.51 Precission:0.88 Recall:0.49 F1:0.63 -> [NB TFIDF]\n",
      "[[27 22]\n",
      " [31 30]]\n",
      "Accuracy:0.52 Precission:0.58 Recall:0.49 F1:0.53 -> [NB TFIDF NGram]\n",
      "[[ 4  2]\n",
      " [54 50]]\n",
      "Accuracy:0.49 Precission:0.96 Recall:0.48 F1:0.64 -> [NB TFIDF NGram Chars]\n",
      "[[25 16]\n",
      " [33 36]]\n",
      "Accuracy:0.55 Precission:0.69 Recall:0.52 F1:0.60 -> [NB LDA]\n"
     ]
    }
   ],
   "source": [
    "nb_config = {\n",
    "    \"NB Count\": (naive_bayes.MultinomialNB(), train_count, test_count),\n",
    "    \"NB TFIDF\": (naive_bayes.MultinomialNB(), train_tfidf, test_tfidf),\n",
    "    \"NB TFIDF NGram\": (naive_bayes.MultinomialNB(), train_tfidf_ngram, test_tfidf_ngram),\n",
    "    \"NB TFIDF NGram Chars\": (naive_bayes.MultinomialNB(), train_tfidf_ngram_chars, test_tfidf_ngram_chars),\n",
    "    \"NB LDA\": (naive_bayes.MultinomialNB(), train_lda, test_lda),\n",
    "}\n",
    "\n",
    "run_model(nb_config)"
   ]
  },
  {
   "cell_type": "markdown",
   "metadata": {},
   "source": [
    "Accuracy:0.55 Precission:0.62 Recall:0.52 F1:0.56 -> [NB Count]\n",
    "Accuracy:0.51 Precission:0.88 Recall:0.49 F1:0.63 -> [NB TFIDF]\n",
    "Accuracy:0.52 Precission:0.58 Recall:0.49 F1:0.53 -> [NB TFIDF NGram]\n",
    "Accuracy:0.49 Precission:0.96 Recall:0.48 F1:0.64 -> [NB TFIDF NGram Chars]\n",
    "Accuracy:0.55 Precission:0.69 Recall:0.52 F1:0.60 -> [NB LDA]"
   ]
  },
  {
   "cell_type": "markdown",
   "metadata": {},
   "source": [
    "##  Linear Classifier"
   ]
  },
  {
   "cell_type": "code",
   "execution_count": 138,
   "metadata": {},
   "outputs": [
    {
     "name": "stderr",
     "output_type": "stream",
     "text": [
      "/anaconda3/envs/dm_cap_py3/lib/python3.6/site-packages/sklearn/linear_model/sag.py:334: ConvergenceWarning: The max_iter was reached which means the coef_ did not converge\n",
      "  \"the coef_ did not converge\", ConvergenceWarning)\n"
     ]
    },
    {
     "data": {
      "text/plain": [
       "(0.5454545454545454,\n",
       " 0.6730769230769231,\n",
       " 0.5147058823529411,\n",
       " 0.5833333333333334)"
      ]
     },
     "execution_count": 138,
     "metadata": {},
     "output_type": "execute_result"
    }
   ],
   "source": [
    "from sklearn.linear_model import LogisticRegression\n",
    "\n",
    "linear_parameters = {'penalty':('l1', 'l2'), 'C':[10, 1, 0.1, 0.01]}\n",
    "linear_model = GridSearchCV(LogisticRegression(solver='saga'), scoring = \"f1\",param_grid = linear_parameters, cv=5)\n",
    "\n",
    "linear_model.fit(train_count, train_label)\n",
    "\n",
    "predictions = linear_model.predict(test_count)\n",
    "\n",
    "(metrics.accuracy_score(predictions, test_label),\n",
    "            metrics.precision_score(predictions, test_label),\n",
    "            metrics.recall_score(predictions, test_label),\n",
    "            metrics.f1_score(predictions, test_label))\n",
    "\n",
    "print(linear_model.best_params_)"
   ]
  },
  {
   "cell_type": "code",
   "execution_count": 137,
   "metadata": {},
   "outputs": [
    {
     "name": "stdout",
     "output_type": "stream",
     "text": [
      "[[ 2  1]\n",
      " [56 51]]\n",
      "Accuracy:0.48 Precission:0.98 Recall:0.48 F1:0.64 -> [Linear Count]\n",
      "[[25 18]\n",
      " [33 34]]\n",
      "Accuracy:0.54 Precission:0.65 Recall:0.51 F1:0.57 -> [Linear TFIDF]\n",
      "[[30 20]\n",
      " [28 32]]\n",
      "Accuracy:0.56 Precission:0.62 Recall:0.53 F1:0.57 -> [Linear TFIDF NGram]\n",
      "[[21 13]\n",
      " [37 39]]\n",
      "Accuracy:0.55 Precission:0.75 Recall:0.51 F1:0.61 -> [Linear TFIDF NGram Chars]\n",
      "[[35 27]\n",
      " [23 25]]\n",
      "Accuracy:0.55 Precission:0.48 Recall:0.52 F1:0.50 -> [Linear FastText Embedding]\n",
      "[[28 20]\n",
      " [30 32]]\n",
      "Accuracy:0.55 Precission:0.62 Recall:0.52 F1:0.56 -> [Linear LDA]\n",
      "[[28 34]\n",
      " [30 18]]\n",
      "Accuracy:0.42 Precission:0.35 Recall:0.38 F1:0.36 -> [Linear Doc2Vec]\n"
     ]
    }
   ],
   "source": [
    "linear_config = {\n",
    "    \"Linear Count\": (LogisticRegression(C= 0.1, penalty='l1', tol=0.1, solver='saga'), train_count, test_count)\n",
    "    , \"Linear TFIDF\": (LogisticRegression(C= 0.1, penalty='l2', tol=0.1, solver='saga'), train_tfidf, test_tfidf)\n",
    "    , \"Linear TFIDF NGram\": (LogisticRegression(C= 0.1, penalty='l2', tol=0.1, solver='saga'), train_tfidf_ngram, test_tfidf_ngram)\n",
    "    , \"Linear TFIDF NGram Chars\": (LogisticRegression(C= 0.1, penalty='l2', tol=0.1, solver='saga'), train_tfidf_ngram_chars, test_tfidf_ngram_chars)\n",
    "#     , \"Linear FastText Embedding\": (LogisticRegression(solver='lbfgs', max_iter=int(1e6)), train_fasttext_embedding, test_fasttext_embedding)\n",
    "    , \"Linear LDA\": (LogisticRegression(solver='lbfgs'), train_lda, test_lda)\n",
    "    , \"Linear Doc2Vec\": (LogisticRegression(solver='lbfgs'), train_doc2vec, test_doc2vec)\n",
    "}\n",
    "\n",
    "# linear_classifiers = {\n",
    "#     \"Linear Count\": (LogisticRegression(), train_count, test_count)\n",
    "#     , \"Linear TFIDF\": (LogisticRegression(), train_tfidf, test_tfidf)\n",
    "#     , \"Linear TFIDF NGram\": (LogisticRegression(), train_tfidf_ngram, test_tfidf_ngram)\n",
    "#     , \"Linear TFIDF NGram Chars\": (LogisticRegression(), train_tfidf_ngram_chars, test_tfidf_ngram_chars)\n",
    "#     , \"Linear FastText Embedding\": (LogisticRegression(), train_fasttext_embedding, test_fasttext_embedding)\n",
    "#     , \"Linear LDA\": (LogisticRegression(), train_lda, test_lda)\n",
    "#     , \"Linear Doc2Vec\": (LogisticRegression(), train_doc2vec, test_doc2vec)\n",
    "# }\n",
    "\n",
    "run_model(linear_config)"
   ]
  },
  {
   "cell_type": "markdown",
   "metadata": {},
   "source": [
    "## SVM"
   ]
  },
  {
   "cell_type": "code",
   "execution_count": 153,
   "metadata": {},
   "outputs": [
    {
     "name": "stderr",
     "output_type": "stream",
     "text": [
      "/anaconda3/envs/dm_cap_py3/lib/python3.6/site-packages/sklearn/model_selection/_search.py:841: DeprecationWarning: The default of the `iid` parameter will change from True to False in version 0.22 and will be removed in 0.24. This will change numeric results when test-set sizes are unequal.\n",
      "  DeprecationWarning)\n"
     ]
    },
    {
     "name": "stdout",
     "output_type": "stream",
     "text": [
      "0.4818181818181818 0.8653846153846154 0.47368421052631576 0.6122448979591837\n",
      "{'C': 1, 'gamma': 0.01, 'kernel': 'linear'}\n"
     ]
    }
   ],
   "source": [
    "from sklearn.svm import SVC\n",
    "\n",
    "svm_parameters = {'kernel':('linear', 'rbf'), 'C':[0.1, 1, 10, 100], \"gamma\": np.logspace(-2, 2, 5)}\n",
    "svm_model = GridSearchCV(SVC(), scoring = \"f1\", param_grid = svm_parameters, cv=5)\n",
    "\n",
    "svm_model.fit(train_tfidf_ngram_chars, train_label)\n",
    "\n",
    "predictions = svm_model.predict(test_tfidf_ngram_chars)\n",
    "\n",
    "print(metrics.accuracy_score(predictions, test_label),\n",
    "            metrics.precision_score(predictions, test_label),\n",
    "            metrics.recall_score(predictions, test_label),\n",
    "            metrics.f1_score(predictions, test_label))\n",
    "print(svm_model.best_params_)"
   ]
  },
  {
   "cell_type": "code",
   "execution_count": 158,
   "metadata": {},
   "outputs": [
    {
     "name": "stdout",
     "output_type": "stream",
     "text": [
      "[[ 2  4]\n",
      " [56 48]]\n",
      "Accuracy:0.45 Precission:0.92 Recall:0.46 F1:0.62 -> [SVM Count]\n",
      "[[19  8]\n",
      " [39 44]]\n",
      "Accuracy:0.57 Precission:0.85 Recall:0.53 F1:0.65 -> [SVM TFIDF]\n",
      "[[42 25]\n",
      " [16 27]]\n",
      "Accuracy:0.63 Precission:0.52 Recall:0.63 F1:0.57 -> [SVM TFIDF NGram]\n",
      "[[ 0  0]\n",
      " [58 52]]\n",
      "Accuracy:0.47 Precission:1.00 Recall:0.47 F1:0.64 -> [SVM TFIDF NGram Chars]\n",
      "[[ 0  0]\n",
      " [58 52]]\n",
      "Accuracy:0.47 Precission:1.00 Recall:0.47 F1:0.64 -> [SVM LDA]\n",
      "[[16 11]\n",
      " [42 41]]\n",
      "Accuracy:0.52 Precission:0.79 Recall:0.49 F1:0.61 -> [SVM Doc2Vec]\n"
     ]
    }
   ],
   "source": [
    "svm_config = {\n",
    "    \"SVM Count\": (SVC(C = 1, gamma = 0.1, kernel='rbf'), train_count, test_count),\n",
    "    \"SVM TFIDF\": (SVC(C = 10, gamma = 0.01, kernel='rbf'), train_tfidf, test_tfidf),\n",
    "    \"SVM TFIDF NGram\": (SVC(C = 1, gamma = 0.01, kernel='linear'), train_tfidf_ngram, test_tfidf_ngram),\n",
    "    \"SVM TFIDF NGram Chars\": (SVC(C = 10, gamma = 0.01, kernel='rbf'), train_tfidf_ngram_chars, test_tfidf_ngram_chars),\n",
    "#     \"SVM FastText Embedding\": (SVC(C = 1, gamma = 0.1, kernel='rbf'), train_fasttext_embedding, test_fasttext_embedding),\n",
    "    \"SVM LDA\": (SVC(C = 1, gamma = 0.1, kernel='rbf'), train_lda, test_lda),\n",
    "    \"SVM Doc2Vec\": (SVC(C = 1, gamma = 0.1, kernel='rbf'), train_doc2vec, test_doc2vec),\n",
    "}\n",
    "    \n",
    "run_model(svm_config)"
   ]
  },
  {
   "cell_type": "markdown",
   "metadata": {},
   "source": [
    "## Boosting"
   ]
  },
  {
   "cell_type": "code",
   "execution_count": 235,
   "metadata": {},
   "outputs": [],
   "source": [
    "# %%time\n",
    "\n",
    "# from xgboost import XGBClassifier\n",
    "\n",
    "# xgb_parameters = {\n",
    "#         'min_child_weight': [1, 5, 10],\n",
    "#         'gamma': [0.5, 1, 1.5, 2, 5],\n",
    "#         'subsample': [0.6, 0.8, 1.0],\n",
    "#         'colsample_bytree': [0.6, 0.8, 1.0],\n",
    "#         'max_depth': [3, 4, 5]\n",
    "#         }\n",
    "\n",
    "# xgb_model = GridSearchCV(XGBClassifier(), scoring = \"f1\", param_grid = xgb_parameters, cv=5, verbose = 3)\n",
    "\n",
    "# xgb_model.fit(train_count, train_label)\n",
    "\n",
    "# predictions = xgb_model.predict(test_count)\n",
    "\n",
    "# print(metrics.accuracy_score(predictions, test_label),\n",
    "#             metrics.precision_score(predictions, test_label),\n",
    "#             metrics.recall_score(predictions, test_label),\n",
    "#             metrics.f1_score(predictions, test_label))\n",
    "\n",
    "# print(xgb_model.best_params_)"
   ]
  },
  {
   "cell_type": "code",
   "execution_count": 180,
   "metadata": {},
   "outputs": [
    {
     "name": "stdout",
     "output_type": "stream",
     "text": [
      "[[34 26]\n",
      " [24 26]]\n",
      "Accuracy:0.55 Precission:0.50 Recall:0.52 F1:0.51 -> [XGBoost Count]\n",
      "[[38 24]\n",
      " [20 28]]\n",
      "Accuracy:0.60 Precission:0.54 Recall:0.58 F1:0.56 -> [XGBoost TFIDF]\n",
      "[[34 27]\n",
      " [24 25]]\n",
      "Accuracy:0.54 Precission:0.48 Recall:0.51 F1:0.50 -> [XGBoost TFIDF NGram]\n",
      "[[29 23]\n",
      " [29 29]]\n",
      "Accuracy:0.53 Precission:0.56 Recall:0.50 F1:0.53 -> [XGBoost TFIDF NGram Chars]\n",
      "[[38 25]\n",
      " [20 27]]\n",
      "Accuracy:0.59 Precission:0.52 Recall:0.57 F1:0.55 -> [XGBoost LDA]\n",
      "[[34 30]\n",
      " [24 22]]\n",
      "Accuracy:0.51 Precission:0.42 Recall:0.48 F1:0.45 -> [XGBoost Doc2Vec]\n"
     ]
    }
   ],
   "source": [
    "# xgboost_config = {\n",
    "#     \"XGBoost Count\": (XGBClassifier(colsample_bytree = 0.8, gamma= 2, max_depth = 4, min_child_weight = 1, subsample =1.0), train_count, test_count)\n",
    "#     , \"XGBoost TFIDF\": (XGBClassifier(colsample_bytree = 0.8, gamma= 2, max_depth = 4, min_child_weight = 1, subsample =1.0), train_tfidf, test_tfidf)\n",
    "#     , \"XGBoost TFIDF NGram\": (XGBClassifier(colsample_bytree = 0.8, gamma= 2, max_depth = 4, min_child_weight = 1, subsample =1.0), train_tfidf_ngram.tocsc(), test_tfidf_ngram.tocsc())\n",
    "#     , \"XGBoost TFIDF NGram Chars\": (XGBClassifier(colsample_bytree = 0.8, gamma= 2, max_depth = 4, min_child_weight = 1, subsample =1.0), train_tfidf_ngram_chars, test_tfidf_ngram_chars)\n",
    "#     , \"XGBoost LDA\": (XGBClassifier(colsample_bytree = 0.8, gamma= 2, max_depth = 4, min_child_weight = 1, subsample =1.0), train_lda, test_lda)\n",
    "#     , \"XGBoost Doc2Vec\": (XGBClassifier(colsample_bytree = 0.8, gamma= 2, max_depth = 4, min_child_weight = 1, subsample =1.0), train_doc2vec, test_doc2vec)\n",
    "# }\n",
    "\n",
    "xgboost_config = {\n",
    "    \"XGBoost Count\": (XGBClassifier(), train_count, test_count)\n",
    "    , \"XGBoost TFIDF\": (XGBClassifier(), train_tfidf, test_tfidf)\n",
    "    , \"XGBoost TFIDF NGram\": (XGBClassifier(), train_tfidf_ngram.tocsc(), test_tfidf_ngram.tocsc())\n",
    "    , \"XGBoost TFIDF NGram Chars\": (XGBClassifier(), train_tfidf_ngram_chars, test_tfidf_ngram_chars)\n",
    "    , \"XGBoost LDA\": (XGBClassifier(), train_lda, test_lda)\n",
    "    , \"XGBoost Doc2Vec\": (XGBClassifier(), train_doc2vec, test_doc2vec)\n",
    "}\n",
    "\n",
    "run_model(xgboost_config)"
   ]
  },
  {
   "cell_type": "code",
   "execution_count": 241,
   "metadata": {},
   "outputs": [
    {
     "data": {
      "text/plain": [
       "(0.4727272727272727,\n",
       " 0.9230769230769231,\n",
       " 0.47058823529411764,\n",
       " 0.6233766233766235)"
      ]
     },
     "execution_count": 241,
     "metadata": {},
     "output_type": "execute_result"
    }
   ],
   "source": [
    "from nltk.classify import NaiveBayesClassifier\n",
    "\n",
    "_dictionary = corpora.Dictionary(train_stemmed_text)\n",
    "train_doc_count = [_dictionary.doc2bow(_doc) for _doc in train_stemmed_text]\n",
    "test_doc_count = [_dictionary.doc2bow(_doc) for _doc in test_stemmed_text]\n",
    "\n",
    "tfidf_model = models.TfidfModel(train_doc_count)\n",
    "train_doc_tfidf = [dict(_doc) for _doc in tfidf_model[train_doc_count]]\n",
    "train_doc_tfidf = [(_doc, train_label[train_label.index[i]]) for i, _doc in enumerate(train_doc_tfidf)]\n",
    "test_doc_tfidf = [dict(_doc) for _doc in tfidf_model[test_doc_count]]\n",
    "\n",
    "train_doc_count = [(dict(_doc), train_label[train_label.index[i]]) for i, _doc in enumerate(train_doc_count)]\n",
    "test_doc_count = [dict(_doc) for _doc in test_doc_count]\n",
    "\n",
    "NB_classifier_count = NaiveBayesClassifier.train(train_doc_count)\n",
    "\n",
    "predictions = NB_classifier_count.classify_many(test_doc_count)\n",
    "\n",
    "(metrics.accuracy_score(predictions, test_label),\n",
    "            metrics.precision_score(predictions, test_label),\n",
    "            metrics.recall_score(predictions, test_label),\n",
    "            metrics.f1_score(predictions, test_label))"
   ]
  },
  {
   "cell_type": "code",
   "execution_count": 243,
   "metadata": {},
   "outputs": [
    {
     "name": "stderr",
     "output_type": "stream",
     "text": [
      "/anaconda3/envs/dm_cap_py3/lib/python3.6/site-packages/sklearn/metrics/classification.py:1145: UndefinedMetricWarning: Recall is ill-defined and being set to 0.0 due to no true samples.\n",
      "  'recall', 'true', average, warn_for)\n",
      "/anaconda3/envs/dm_cap_py3/lib/python3.6/site-packages/sklearn/metrics/classification.py:1145: UndefinedMetricWarning: F-score is ill-defined and being set to 0.0 due to no true samples.\n",
      "  'recall', 'true', average, warn_for)\n"
     ]
    },
    {
     "data": {
      "text/plain": [
       "(0.5272727272727272, 0.0, 0.0, 0.0)"
      ]
     },
     "execution_count": 243,
     "metadata": {},
     "output_type": "execute_result"
    }
   ],
   "source": [
    "NB_classifier_tfidf = NaiveBayesClassifier.train(train_doc_tfidf)\n",
    "predictions = NB_classifier_tfidf.classify_many(test_doc_tfidf)\n",
    "\n",
    "(metrics.accuracy_score(predictions, test_label),\n",
    "            metrics.precision_score(predictions, test_label),\n",
    "            metrics.recall_score(predictions, test_label),\n",
    "            metrics.f1_score(predictions, test_label))"
   ]
  },
  {
   "cell_type": "code",
   "execution_count": 251,
   "metadata": {},
   "outputs": [
    {
     "name": "stdout",
     "output_type": "stream",
     "text": [
      "[[ 0  1]\n",
      " [58 51]]\n",
      "0.4636363636363636 0.9807692307692307 0.46788990825688076 0.6335403726708075\n"
     ]
    }
   ],
   "source": [
    "DT_classifier_count = nltk.classify.DecisionTreeClassifier.train(train_doc_tfidf)\n",
    "predictions = DT_classifier_count.classify_many(test_doc_tfidf)\n",
    "\n",
    "print(metrics.confusion_matrix(predictions, test_label))\n",
    "print(metrics.accuracy_score(predictions, test_label),\n",
    "            metrics.precision_score(predictions, test_label),\n",
    "            metrics.recall_score(predictions, test_label),\n",
    "            metrics.f1_score(predictions, test_label))"
   ]
  },
  {
   "cell_type": "code",
   "execution_count": null,
   "metadata": {},
   "outputs": [],
   "source": []
  }
 ],
 "metadata": {
  "kernelspec": {
   "display_name": "Python 3",
   "language": "python",
   "name": "python3"
  },
  "language_info": {
   "codemirror_mode": {
    "name": "ipython",
    "version": 3
   },
   "file_extension": ".py",
   "mimetype": "text/x-python",
   "name": "python",
   "nbconvert_exporter": "python",
   "pygments_lexer": "ipython3",
   "version": "3.6.8"
  }
 },
 "nbformat": 4,
 "nbformat_minor": 2
}
