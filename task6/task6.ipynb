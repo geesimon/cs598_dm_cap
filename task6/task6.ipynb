{
 "cells": [
  {
   "cell_type": "markdown",
   "metadata": {},
   "source": [
    "###### Packages:\n",
    "* [NLTK](http://www.nltk.org/howto/classify.html)\n",
    "* [SpaCy](https://spacy.io/)\n",
    "* [AllenNLP](https://allennlp.org/tutorials)\n",
    "\n",
    "Articles:\n",
    "* [A Comprehensive Guide to Understand and Implement Text Classification in Python](https://www.analyticsvidhya.com/blog/2018/04/a-comprehensive-guide-to-understand-and-implement-text-classification-in-python/)\n",
    "* [Machine Learning, NLP: Text Classification using scikit-learn, python and NLTK](https://towardsdatascience.com/machine-learning-nlp-text-classification-using-scikit-learn-python-and-nltk-c52b92a7c73a)\n",
    "* [State-of-the-Art Text Classification using BERT model: “Predict the Happiness” Challenge](https://appliedmachinelearning.blog/2019/03/04/state-of-the-art-text-classification-using-bert-model-predict-the-happiness-hackerearth-challenge/)"
   ]
  },
  {
   "cell_type": "code",
   "execution_count": 1,
   "metadata": {},
   "outputs": [
    {
     "name": "stderr",
     "output_type": "stream",
     "text": [
      "C:\\Users\\geesi\\Anaconda3\\envs\\dm_cap_py3\\lib\\site-packages\\gensim\\utils.py:1197: UserWarning: detected Windows; aliasing chunkize to chunkize_serial\n",
      "  warnings.warn(\"detected Windows; aliasing chunkize to chunkize_serial\")\n",
      "100%|████████████████████████████████████████████████████████████████████████████| 13299/13299 [03:19<00:00, 66.66it/s]\n"
     ]
    }
   ],
   "source": [
    "from gensim.utils import simple_preprocess\n",
    "from gensim.parsing.preprocessing import STOPWORDS\n",
    "from sklearn import model_selection, preprocessing\n",
    "from sklearn.feature_extraction.text import TfidfVectorizer, CountVectorizer\n",
    "from sklearn import decomposition, ensemble\n",
    "from nltk.stem import WordNetLemmatizer, SnowballStemmer\n",
    "from tqdm import tqdm\n",
    "import numpy as np\n",
    "import pandas as pd\n",
    "import string\n",
    "import time\n",
    "\n",
    "stemmer = SnowballStemmer('english')\n",
    "def lemmatize_stemming(text):\n",
    "    return stemmer.stem(WordNetLemmatizer().lemmatize(text, pos='v'))\n",
    "\n",
    "def preprocess(text):\n",
    "    result = []\n",
    "    result_stemmed = []\n",
    "    for token in simple_preprocess(text, min_len = 2):\n",
    "        result.append(token)\n",
    "        if token not in STOPWORDS:\n",
    "            result_stemmed.append(lemmatize_stemming(token))\n",
    "    \n",
    "    return (result, result_stemmed)\n",
    "\n",
    "with open(\"./data/raw/Hygiene/hygiene.dat.labels\") as f:\n",
    "    LABELS = [int(l) for l in f.readlines() if l[0].isdigit()]\n",
    "\n",
    "ALL_RAW_TEXTS = []\n",
    "ALL_TEXTS = []\n",
    "ALL_STEMMED_TEXTS = []\n",
    "ALL_CONCAT_STEMMED_TEXTS = []\n",
    "LABELED_TEXTS = []\n",
    "LABELED_CONCAT_TEXTS = []\n",
    "LABELED_STEMMED_TEXTS = []\n",
    "LABELED_CONCAT_STEMMED_TEXTS = []\n",
    "\n",
    "with open(\"./data/raw/Hygiene/hygiene.dat\") as f:\n",
    "    ALL_RAW_TEXTS = f.readlines()\n",
    "\n",
    "for _text in tqdm(ALL_RAW_TEXTS):\n",
    "    _result, _result_stemmed = preprocess(_text)\n",
    "    ALL_TEXTS.append(_result)\n",
    "    ALL_STEMMED_TEXTS.append(_result_stemmed)\n",
    "\n",
    "ALL_CONCAT_STEMMED_TEXTS = [\" \".join(_text) for _text in ALL_STEMMED_TEXTS]\n",
    "\n",
    "LABELED_TEXTS = ALL_TEXTS[0:len(LABELS)]\n",
    "LABELED_CONCAT_TEXTS = [\" \".join(_text) for _text in LABELED_TEXTS]\n",
    "\n",
    "LABELED_STEMMED_TEXTS = ALL_STEMMED_TEXTS[0:len(LABELS)]\n",
    "LABELED_CONCAT_STEMMED_TEXTS = [\" \".join(_text) for _text in LABELED_STEMMED_TEXTS]\n",
    "\n",
    "SUBMIT_TEXTS = ALL_TEXTS[len(LABELS):]\n",
    "SUBMIT_CONCAT_TEXTS = [\" \".join(_text) for _text in SUBMIT_TEXTS]\n",
    "\n",
    "SUBMIT_STEMMED_TEXTS = ALL_STEMMED_TEXTS[len(LABELS):]\n",
    "SUBMIT_CONCAT_STEMMED_TEXTS = [\" \".join(_text) for _text in SUBMIT_STEMMED_TEXTS]"
   ]
  },
  {
   "cell_type": "markdown",
   "metadata": {},
   "source": [
    "### Handle Extra Features"
   ]
  },
  {
   "cell_type": "code",
   "execution_count": 2,
   "metadata": {},
   "outputs": [],
   "source": [
    "from nltk.sentiment.vader import SentimentIntensityAnalyzer\n",
    "\n",
    "FEATURE_MORE =pd.read_csv(\"./data/raw/Hygiene/hygiene.dat.additional\", header=None)\n",
    "EXTRA_FEATURE = pd.DataFrame()\n",
    "\n",
    "\n",
    "# ALL_SENTIMENT = []\n",
    "# sid = SentimentIntensityAnalyzer()\n",
    "# for _text in tqdm(ALL_RAW_TEXTS):\n",
    "#     _s = sid.polarity_scores(_text)\n",
    "#     ALL_SENTIMENT.append([_s['neg'], _s['pos']]) \n",
    "\n",
    "# code_map = 'abcdefghij'\n",
    "# # code_map = '0123456789'\n",
    "\n",
    "# def encode_zipcode(zip_code):\n",
    "#     _code = ''\n",
    "#     _rest = zip_code    \n",
    "#     while _rest > 0:\n",
    "#         _code = code_map[_rest % 10] + _code\n",
    "#         _rest = int(_rest / 10)\n",
    "\n",
    "#     return _code\n",
    "\n",
    "# EXTRA_FEATURE['Cuisines'] = [simple_preprocess(_text) for _text in FEATURE_MORE[0]]\n",
    "\n",
    "# EXTRA_FEATURE['Stars'] = ['PoorStars' for _star in FEATURE_MORE[3]]\n",
    "# star_std_range = (FEATURE_MORE[3].mean() - FEATURE_MORE[3].std(), FEATURE_MORE[3].mean() + FEATURE_MORE[3].std())\n",
    "# # EXTRA_FEATURE['Stars'][FEATURE_MORE[3] < star_std_range[0]] = 'PoorStars'\n",
    "# EXTRA_FEATURE['Stars'][(FEATURE_MORE[3] >= star_std_range[0])] = 'StandardStars'\n",
    "# EXTRA_FEATURE['Stars'][FEATURE_MORE[3] > star_std_range[1]] = 'GoodStars'\n",
    "\n",
    "# EXTRA_FEATURE['ReviewCount'] = ['NoReviews' for _star in FEATURE_MORE[2]]\n",
    "# EXTRA_FEATURE['ReviewCount'][FEATURE_MORE[2] > 2] = \"FewReviews\"\n",
    "# EXTRA_FEATURE['ReviewCount'][FEATURE_MORE[2] > 6] = \"SomeReviews\"\n",
    "# EXTRA_FEATURE['ReviewCount'][FEATURE_MORE[2] > 13] = \"ManyReviews\"\n",
    "# EXTRA_FEATURE['ReviewCount'][FEATURE_MORE[2] > 50] = \"LotReviews\"\n",
    "\n",
    "# EXTRA_FEATURE['ZIPCode'] = [encode_zipcode(_code) for _code in FEATURE_MORE[1]]\n",
    "\n",
    "# EXTRA_FEATURE['MergedText'] = [ [_cuisine for _cuisine in _record[1][0]]\n",
    "#                                 + [_record[1][1]] + [_record[1][2]] + [_record[1][3]]\n",
    "#                                for _record in EXTRA_FEATURE.iterrows()]"
   ]
  },
  {
   "cell_type": "code",
   "execution_count": 3,
   "metadata": {},
   "outputs": [],
   "source": [
    "vect = CountVectorizer(analyzer='word')\n",
    "\n",
    "vect.fit(FEATURE_MORE[0].replace('Restaurants', '', regex=True))\n",
    "CUISINES_FEATURE = vect.transform(FEATURE_MORE[0]).todense()\n",
    "\n",
    "_zipcode = [str(i) for i in FEATURE_MORE[1]]\n",
    "vect.fit(_zipcode)\n",
    "ZIPCODE_FEATURE = vect.transform(_zipcode).todense()\n",
    "\n",
    "REVIEW_COUNT_FEATURE = np.array(FEATURE_MORE[2]).reshape((len(FEATURE_MORE[2]),1))\n",
    "RATING_FEATURE = np.array(FEATURE_MORE[3]).reshape((len(FEATURE_MORE[3]),1))\n",
    "\n",
    "ALL_EXTRA_FEATURE = np.hstack((CUISINES_FEATURE, ZIPCODE_FEATURE, REVIEW_COUNT_FEATURE, RATING_FEATURE))\n",
    "COUSINE_ZIPCODE_EXTRA_FEATURE = np.hstack((CUISINES_FEATURE, ZIPCODE_FEATURE))\n",
    "# ALL_EXTRA_FEATURE = np.hstack((CUISINES_FEATURE, ZIPCODE_FEATURE, REVIEW_COUNT_FEATURE, RATING_FEATURE, ALL_SENTIMENT))\n",
    "# COUSINE_ZIPCODE_EXTRA_FEATURE = np.hstack((CUISINES_FEATURE, ZIPCODE_FEATURE, ALL_SENTIMENT))"
   ]
  },
  {
   "cell_type": "markdown",
   "metadata": {},
   "source": [
    "### Add Extra Features to the original text"
   ]
  },
  {
   "cell_type": "code",
   "execution_count": 4,
   "metadata": {},
   "outputs": [],
   "source": [
    "# EXTRA_FEATURES = EXTRA_FEATURE['MergedText'][0:len(LABELS)]\n",
    "# EXTRA_CONCAT_FEATURES = [\" \".join(_text) for _text in EXTRA_FEATURES]\n",
    "                  \n",
    "# LABELED_EXTRA_TEXTS =  [EXTRA_FEATURES[i] + _text for i, _text in enumerate(LABELED_TEXTS)]\n",
    "# LABELED_EXTRA_CONCAT_TEXTS = [\" \".join(_text) for _text in LABELED_EXTRA_TEXTS]\n",
    "\n",
    "# LABELED_EXTRA_STEMMED_TEXTS = [LABELED_EXTRA_TEXTS[i] + _text for i, _text in enumerate(LABELED_STEMMED_TEXTS)]\n",
    "# LABELED_EXTRA_CONCAT_STEMMED_TEXTS = [\" \".join(_text) for _text in LABELED_EXTRA_STEMMED_TEXTS]\n",
    "\n",
    "# LABLED_RAW_TEXTS_1 = [EXTRA_CONCAT_FEATURES[i] + \"|\" + _text for i, _text in enumerate(ALL_RAW_TEXTS[0:len(LABELS)]) if LABELS[i] == 1]\n",
    "# LABLED_RAW_TEXTS_0 = [EXTRA_CONCAT_FEATURES[i] + \"|\" + _text for i, _text in enumerate(ALL_RAW_TEXTS[0:len(LABELS)]) if LABELS[i] == 0]\n",
    "\n",
    "# SMALL_RAW_TEXTS_1 = [_text for _text in LABLED_RAW_TEXTS_1 if len(_text) < 1000]\n",
    "# SMALL_RAW_TEXTS_0 = [_text for _text in LABLED_RAW_TEXTS_0 if len(_text) < 1000]\n",
    "# print(len(SMALL_RAW_TEXTS_1), len(SMALL_RAW_TEXTS_0))"
   ]
  },
  {
   "cell_type": "markdown",
   "metadata": {},
   "source": [
    "## Build train/test dataset"
   ]
  },
  {
   "cell_type": "code",
   "execution_count": 5,
   "metadata": {},
   "outputs": [],
   "source": [
    "# create a dataframe using texts and lables\n",
    "labeled_df = pd.DataFrame()\n",
    "labeled_df['concat_stemmed_text'] = LABELED_CONCAT_STEMMED_TEXTS\n",
    "labeled_df['stemmed_text'] = LABELED_STEMMED_TEXTS\n",
    "# labeled_df['concat_stemmed_text'] = LABELED_CONCAT_TEXTS\n",
    "# labeled_df['stemmed_text'] = LABELED_TEXTS\n",
    "# labeled_df['concat_stemmed_text'] = LABELED_CONCAT_EXTRA_TEXTS\n",
    "# labeled_df['stemmed_text'] = LABELED_EXTRA_TEXTS\n",
    "labeled_df['label'] = LABELS\n",
    "labeled_extra_all = ALL_EXTRA_FEATURE[0:len(LABELS)]\n",
    "labeled_extra_cuisine_zipcode = COUSINE_ZIPCODE_EXTRA_FEATURE[0:len(LABELS)]\n",
    "\n",
    "submit_extra_all = ALL_EXTRA_FEATURE[len(LABELS):]\n",
    "submit_extra_cuisine_zipcode = COUSINE_ZIPCODE_EXTRA_FEATURE[len(LABELS):]\n",
    "\n",
    "# # split the dataset into training and validation datasets \n",
    "# train_concat_stemmed_text, test_concat_stemmed_text, train_label, test_label = model_selection.train_test_split(labeled_df['concat_stemmed_text'], \n",
    "#                                                                                   labeled_df['label'],\n",
    "#                                                                                   test_size = 0.2,\n",
    "#                                                                                   random_state = 10)\n",
    "# train_stemmed_text = labeled_df['stemmed_text'][train_concat_stemmed_text.index]\n",
    "# test_stemmed_text = labeled_df['stemmed_text'][test_concat_stemmed_text.index]\n",
    "\n",
    "# # label encode the target variable \n",
    "# encoder = preprocessing.LabelEncoder()\n",
    "# train_label = encoder.fit_transform(train_label)\n",
    "# test_label = encoder.fit_transform(test_label)"
   ]
  },
  {
   "cell_type": "code",
   "execution_count": 6,
   "metadata": {},
   "outputs": [],
   "source": [
    "# dictionary = corpora.Dictionary(processed_docs)\n",
    "# print(\"Before prunn:%d\"%(len(dictionary)))\n",
    "# dictionary.filter_extremes(no_below = 2, no_above = 0.5)\n",
    "# print(\"After prunn:%d\"%(len(dictionary)))\n",
    "# corpus = [dictionary.doc2bow(doc) for doc in processed_docs]"
   ]
  },
  {
   "cell_type": "markdown",
   "metadata": {},
   "source": [
    "# Feature Engineering"
   ]
  },
  {
   "cell_type": "markdown",
   "metadata": {},
   "source": [
    "## Count Vectors as features"
   ]
  },
  {
   "cell_type": "code",
   "execution_count": 7,
   "metadata": {},
   "outputs": [],
   "source": [
    "class MyCountVectorizer:\n",
    "    def __init__(self, max_df = 0.5):\n",
    "        self.vect_model = CountVectorizer(analyzer='word', max_df = max_df)\n",
    "        \n",
    "    def fit(self, texts_concat):\n",
    "        self.vect_model.fit(texts_concat)\n",
    "    \n",
    "    def transform(self, texts_concat):\n",
    "        return self.vect_model.transform(texts_concat)\n",
    "\n",
    "count_vect = MyCountVectorizer()\n",
    "count_vect.fit(LABELED_CONCAT_STEMMED_TEXTS)\n",
    "labeled_count = count_vect.transform(LABELED_CONCAT_STEMMED_TEXTS)\n",
    "labeled_count_extra_all = np.hstack([labeled_count.todense(), labeled_extra_all])\n",
    "labeled_count_extra_cuisine_zipcode = np.hstack([labeled_count.todense(), labeled_extra_cuisine_zipcode])\n",
    "\n",
    "submit_count = count_vect.transform(SUBMIT_CONCAT_STEMMED_TEXTS)\n",
    "submit_count_extra_all = np.hstack([submit_count.todense(), submit_extra_all])\n",
    "submit_count_extra_cuisine_zipcode = np.hstack([submit_count.todense(), submit_extra_cuisine_zipcode])"
   ]
  },
  {
   "cell_type": "markdown",
   "metadata": {},
   "source": [
    "## TF-IDF Vectors as features"
   ]
  },
  {
   "cell_type": "code",
   "execution_count": 27,
   "metadata": {},
   "outputs": [
    {
     "name": "stdout",
     "output_type": "stream",
     "text": [
      "Wall time: 1min\n"
     ]
    }
   ],
   "source": [
    "%%time\n",
    "\n",
    "# word level tf-idf\n",
    "class MyTfidfVectorizer(MyCountVectorizer):\n",
    "    def __init__(self, analyzer='word', ngram_range = None, max_features=5000):\n",
    "        if ngram_range is None:\n",
    "            self.vect_model = TfidfVectorizer(analyzer = analyzer, max_features = max_features)\n",
    "        else:\n",
    "            self.vect_model = TfidfVectorizer(analyzer = analyzer, ngram_range = ngram_range, \n",
    "                                              max_features = max_features)\n",
    "            \n",
    "    def fit(self, texts_concat):   \n",
    "        self.vect_model.fit(texts_concat)\n",
    "        self.vocabulary = self.vect_model.vocabulary_\n",
    "\n",
    "top_word_tfidf_vect = MyTfidfVectorizer(ngram_range=(1, 3), max_features = 200)\n",
    "top_word_tfidf_vect.fit(LABELED_CONCAT_STEMMED_TEXTS)\n",
    "LABELED_TOPWORD_FEATURE = top_word_tfidf_vect.transform(LABELED_CONCAT_STEMMED_TEXTS).todense()\n",
    "SUBMIT_TOPWORD_FEATURE = top_word_tfidf_vect.transform(SUBMIT_CONCAT_STEMMED_TEXTS).todense()\n",
    "\n",
    "tfidf_vect = MyTfidfVectorizer(max_features = 10000)\n",
    "tfidf_vect.fit(LABELED_CONCAT_STEMMED_TEXTS)\n",
    "labeled_tfidf =  tfidf_vect.transform(LABELED_CONCAT_STEMMED_TEXTS)\n",
    "labeled_tfidf_extra_all = np.hstack([labeled_tfidf.todense(), labeled_extra_all])\n",
    "labeled_tfidf_extra_cuisine_zipcode = np.hstack([labeled_tfidf.todense(), labeled_extra_cuisine_zipcode])\n",
    "\n",
    "submit_tfidf =  tfidf_vect.transform(SUBMIT_CONCAT_STEMMED_TEXTS)\n",
    "submit_tfidf_extra_all = np.hstack([submit_tfidf.todense(), submit_extra_all])\n",
    "submit_tfidf_extra_cuisine_zipcode = np.hstack([submit_tfidf.todense(), submit_extra_cuisine_zipcode])\n",
    "\n",
    "# ngram level tf-idf \n",
    "tfidf_vect_ngram = MyTfidfVectorizer(ngram_range=(1, 3), max_features = 10000)\n",
    "tfidf_vect_ngram.fit(LABELED_CONCAT_STEMMED_TEXTS)\n",
    "labeled_tfidf_ngram = tfidf_vect_ngram.transform(LABELED_CONCAT_STEMMED_TEXTS)\n",
    "labeled_tfidf_ngram_extra_all = np.hstack([labeled_tfidf_ngram.todense(), labeled_extra_all])\n",
    "labeled_tfidf_ngram_extra_cuisine_zipcode = np.hstack([labeled_tfidf_ngram.todense(), labeled_extra_cuisine_zipcode])\n",
    "\n",
    "submit_tfidf_ngram = tfidf_vect_ngram.transform(SUBMIT_CONCAT_STEMMED_TEXTS)\n",
    "submit_tfidf_ngram_extra_all = np.hstack([submit_tfidf_ngram.todense(), submit_extra_all])\n",
    "submit_tfidf_ngram_extra_cuisine_zipcode = np.hstack([submit_tfidf_ngram.todense(), submit_extra_cuisine_zipcode])\n",
    "\n",
    "# characters level tf-idf\n",
    "tfidf_vect_ngram_chars = MyTfidfVectorizer(analyzer='char', ngram_range=(2,3), max_features = 10000)\n",
    "tfidf_vect_ngram_chars.fit(LABELED_CONCAT_STEMMED_TEXTS)\n",
    "labeled_tfidf_ngram_chars =  tfidf_vect_ngram_chars.transform(LABELED_CONCAT_STEMMED_TEXTS)\n",
    "labeled_tfidf_ngram_chars_extra_all = np.hstack([labeled_tfidf_ngram_chars.todense(), labeled_extra_all])\n",
    "labeled_tfidf_ngram_chars_extra_cuisine_zipcode = np.hstack([labeled_tfidf_ngram_chars.todense(), labeled_extra_cuisine_zipcode])"
   ]
  },
  {
   "cell_type": "markdown",
   "metadata": {},
   "source": [
    "## Word Embeddings"
   ]
  },
  {
   "cell_type": "markdown",
   "metadata": {},
   "source": [
    "### Build from review corpus"
   ]
  },
  {
   "cell_type": "code",
   "execution_count": null,
   "metadata": {},
   "outputs": [],
   "source": [
    "# %%time\n",
    "\n",
    "# from gensim.models.fasttext import FastText\n",
    "\n",
    "# class MyFastTextTfidfVectorizer(MyCountVectorizer):\n",
    "#     def __init__(self, tfidf_vectorizer, size = 100):\n",
    "#         self.embedding_size = size\n",
    "#         self.tfidf_vectorizer = tfidf_vectorizer\n",
    "#         self.fasttext_model = FastText(size = size, window = 5, min_count = 5)\n",
    "\n",
    "#     def tfidf2embedding(self, value_vector):\n",
    "#         _weighted_value = np.zeros(self.embedding_size)\n",
    "#         for key in self.tfidf_vectorizer.vocabulary:\n",
    "#             _index = self.tfidf_vectorizer.vocabulary[key]\n",
    "#             if value_vector[_index] != 0:\n",
    "#                 _weighted_value += self.fasttext_model[key] * value_vector[_index]\n",
    "\n",
    "#         return _weighted_value\n",
    "    \n",
    "#     def fit(self, texts):\n",
    "#         _texts_concat = [\" \".join(_text) for _text in texts]\n",
    "#         self.tfidf_vectorizer = MyTfidfVectorizer()\n",
    "#         self.tfidf_vectorizer.fit(_texts_concat)\n",
    "        \n",
    "#         self.fasttext_model.build_vocab(sentences = texts)\n",
    "#         self.fasttext_model.train(sentences = texts, \n",
    "#                                   total_examples = len(texts), \n",
    "#                                   epochs=10)\n",
    "        \n",
    "#     def transform(self, texts):\n",
    "#         _texts_concat = [\" \".join(_text) for _text in texts]\n",
    "#         _tfidf_values = self.tfidf_vectorizer.transform(_texts_concat)\n",
    "#         return np.asarray([self.tfidf2embedding(_value.toarray()[0]) for _value in _tfidf_values])\n",
    "\n",
    "# fasttext_tfidf_vect = MyFastTextTfidfVectorizer(tfidf_vect)\n",
    "# fasttext_tfidf_vect.fit(ALL_STEMMED_TEXTS)\n",
    "# train_fasttext_embedding = fasttext_tfidf_vect.transform(train_stemmed_text)\n",
    "# test_fasttext_embedding = fasttext_tfidf_vect.transform(test_stemmed_text)"
   ]
  },
  {
   "cell_type": "markdown",
   "metadata": {},
   "source": [
    "### Prebuilt Embedding"
   ]
  },
  {
   "cell_type": "code",
   "execution_count": null,
   "metadata": {},
   "outputs": [],
   "source": [
    "# %%time\n",
    "# from keras.preprocessing import text, sequence\n",
    "# from keras import layers, models, optimizers\n",
    "\n",
    "# # load the pre-trained word-embedding vectors \n",
    "# embeddings_index = {}\n",
    "# for i, line in enumerate(open('data/model/wiki-news-300d-1M.vec')):\n",
    "#     values = line.split()\n",
    "#     embeddings_index[values[0]] = np.asarray(values[1:], dtype='float32')\n",
    "\n",
    "# # create a tokenizer \n",
    "# token = text.Tokenizer()\n",
    "# token.fit_on_texts(LABELED_CONCAT_STEMMED_TEXTS)\n",
    "# word_index = token.word_index\n",
    "\n",
    "# # convert text to sequence of tokens and pad them to ensure equal length vectors \n",
    "# text_train_seq = sequence.pad_sequences(token.texts_to_sequences(train_text), maxlen=70)\n",
    "# text_test_seq = sequence.pad_sequences(token.texts_to_sequences(test_text), maxlen=70)\n",
    "\n",
    "# # create token-embedding mapping\n",
    "# embedding_matrix = np.zeros((len(word_index) + 1, 300))\n",
    "# for word, i in word_index.items():\n",
    "#     embedding_vector = embeddings_index.get(word)\n",
    "#     if embedding_vector is not None:\n",
    "#         embedding_matrix[i] = embedding_vector"
   ]
  },
  {
   "cell_type": "markdown",
   "metadata": {},
   "source": [
    "## Text / NLP based features"
   ]
  },
  {
   "cell_type": "code",
   "execution_count": null,
   "metadata": {},
   "outputs": [],
   "source": [
    "# %%time\n",
    "# trainDF['char_count'] = trainDF['text'].apply(len)\n",
    "# trainDF['word_count'] = trainDF['text'].apply(lambda x: len(x.split()))\n",
    "# trainDF['word_density'] = trainDF['char_count'] / (trainDF['word_count']+1)\n",
    "# trainDF['punctuation_count'] = trainDF['text'].apply(lambda x: len(\"\".join(_ for _ in x if _ in string.punctuation))) \n",
    "# trainDF['title_word_count'] = trainDF['text'].apply(lambda x: len([wrd for wrd in x.split() if wrd.istitle()]))\n",
    "# trainDF['upper_case_word_count'] = trainDF['text'].apply(lambda x: len([wrd for wrd in x.split() if wrd.isupper()]))"
   ]
  },
  {
   "cell_type": "code",
   "execution_count": null,
   "metadata": {},
   "outputs": [],
   "source": [
    "# %%time\n",
    "\n",
    "# import textblob\n",
    "\n",
    "# pos_family = {\n",
    "#     'noun' : ['NN','NNS','NNP','NNPS'],\n",
    "#     'pron' : ['PRP','PRP$','WP','WP$'],\n",
    "#     'verb' : ['VB','VBD','VBG','VBN','VBP','VBZ'],\n",
    "#     'adj' :  ['JJ','JJR','JJS'],\n",
    "#     'adv' : ['RB','RBR','RBS','WRB']\n",
    "# }\n",
    "\n",
    "# # function to check and get the part of speech tag count of a words in a given sentence\n",
    "# def check_pos_tag(x, flag):\n",
    "#     cnt = 0\n",
    "#     try:\n",
    "#         wiki = textblob.TextBlob(x)\n",
    "#         for tup in wiki.tags:\n",
    "#             ppo = list(tup)[1]\n",
    "#             if ppo in pos_family[flag]:\n",
    "#                 cnt += 1\n",
    "#     except:\n",
    "#         pass\n",
    "#     return cnt\n",
    "\n",
    "# trainDF['noun_count'] = trainDF['text'].apply(lambda x: check_pos_tag(x, 'noun'))\n",
    "# trainDF['verb_count'] = trainDF['text'].apply(lambda x: check_pos_tag(x, 'verb'))\n",
    "# trainDF['adj_count'] = trainDF['text'].apply(lambda x: check_pos_tag(x, 'adj'))\n",
    "# trainDF['adv_count'] = trainDF['text'].apply(lambda x: check_pos_tag(x, 'adv'))\n",
    "# trainDF['pron_count'] = trainDF['text'].apply(lambda x: check_pos_tag(x, 'pron'))"
   ]
  },
  {
   "cell_type": "markdown",
   "metadata": {},
   "source": [
    "## Topic Models as features"
   ]
  },
  {
   "cell_type": "code",
   "execution_count": null,
   "metadata": {},
   "outputs": [],
   "source": [
    "from gensim.models import AuthorTopicModel\n",
    "from gensim import corpora, models\n",
    "\n",
    "class MyAuthorLDAVectorizer(MyCountVectorizer):\n",
    "#     mallet_path = \"..\" + os.sep + \"mallet-2.0.8\"+ os.sep + \"bin\" + os.sep +\"mallet\"\n",
    "    \n",
    "    def __init__(self, labels, TOPIC_COUNT = 100):\n",
    "        self.topic_count = TOPIC_COUNT\n",
    "        self.author2doc = {\"passed\":[i for i in range(len(labels)) if labels[i] == 0], \n",
    "                           \"failed\":[i for i in range(len(labels)) if labels[i] == 1]}\n",
    "    \n",
    "    def fit(self, texts):\n",
    "        self.dictionary = corpora.Dictionary(texts)\n",
    "        _corpus = [self.dictionary.doc2bow(_doc) for _doc in texts]\n",
    "\n",
    "        self.vect_model = AuthorTopicModel(_corpus,\n",
    "                                            author2doc = self.author2doc,\n",
    "                                            num_topics = self.topic_count, \n",
    "                                            id2word = self.dictionary,\n",
    "                                            random_state = 100)\n",
    "    \n",
    "    def toarray(self, doc_topics):\n",
    "        _doc_vect  = np.zeros((len(doc_topics), self.topic_count))\n",
    "        \n",
    "        for i, _doc in enumerate(doc_topics):\n",
    "            for _topic, _weight in _doc:\n",
    "                _doc_vect[i][_topic] = _weight\n",
    "        \n",
    "        return _doc_vect\n",
    "        \n",
    "    def transform(self, texts):\n",
    "        _corpus = [self.dictionary.doc2bow(_doc) for _doc in texts]\n",
    "#         _tfidf_corpus = self.tfidf_model[_corpus]\n",
    "        \n",
    "        return self.toarray(self.vect_model[_corpus])\n"
   ]
  },
  {
   "cell_type": "code",
   "execution_count": null,
   "metadata": {},
   "outputs": [],
   "source": [
    "# author2doc = {\"passed\":[i for i in range(len(LABELS)) if LABELS[i] == 0], \n",
    "#                            \"failed\":[i for i in range(len(LABELS)) if LABELS[i] == 1]}\n",
    "\n",
    "# dictionary = corpora.Dictionary(LABELED_STEMMED_TEXTS)\n",
    "# corpus = [dictionary.doc2bow(_doc) for _doc in LABELED_STEMMED_TEXTS]\n",
    "\n",
    "# %time vect_model = AuthorTopicModel(corpus,author2doc = author2doc, num_topics = 2,id2word = dictionary,random_state = 100)\n",
    "\n",
    "# vect_model.show_topic(1)\n",
    "# vect_model['passed']\n",
    "# vect_model['failed']"
   ]
  },
  {
   "cell_type": "code",
   "execution_count": 29,
   "metadata": {},
   "outputs": [
    {
     "name": "stdout",
     "output_type": "stream",
     "text": [
      "Wall time: 3min 26s\n"
     ]
    }
   ],
   "source": [
    "%%time\n",
    "\n",
    "import os\n",
    "from gensim import corpora, models\n",
    "\n",
    "class MyLDAVectorizer(MyCountVectorizer):\n",
    "    mallet_path = \"..\" + os.sep + \"mallet-2.0.8\"+ os.sep + \"bin\" + os.sep +\"mallet\"\n",
    "    \n",
    "    def __init__(self, TOPIC_COUNT = 100):\n",
    "        self.topic_count = TOPIC_COUNT\n",
    "    \n",
    "    def fit(self, texts):\n",
    "        self.dictionary = corpora.Dictionary(texts)\n",
    "        _corpus = [self.dictionary.doc2bow(_doc) for _doc in texts]\n",
    "        self.tfidf_model = models.TfidfModel(_corpus)\n",
    "        _tfidf_corpus = self.tfidf_model[_corpus]\n",
    "\n",
    "#         self.vect_model = models.LdaModel(_tfidf_corpus, \n",
    "#                             num_topics = self.topic_count, \n",
    "#                             id2word = self.dictionary,\n",
    "#                             random_state = 100,\n",
    "#                             eval_every = 5, \n",
    "#                             alpha = 'auto', \n",
    "#                             gamma_threshold = 0.01)\n",
    "        \n",
    "        self.vect_model = models.wrappers.LdaMallet(self.mallet_path, \n",
    "                                                     corpus = _corpus, \n",
    "                                                     num_topics = self.topic_count, \n",
    "                                                     id2word = self.dictionary)\n",
    "    \n",
    "    def toarray(self, doc_topics):\n",
    "        _doc_vect  = np.zeros((len(doc_topics), self.topic_count))\n",
    "        \n",
    "        for i, _doc in enumerate(doc_topics):\n",
    "            for _topic, _weight in _doc:\n",
    "                _doc_vect[i][_topic] = _weight\n",
    "        \n",
    "        return _doc_vect\n",
    "        \n",
    "    def transform(self, texts):\n",
    "        _corpus = [self.dictionary.doc2bow(_doc) for _doc in texts]\n",
    "#         _tfidf_corpus = self.tfidf_model[_corpus]\n",
    "        \n",
    "        return self.toarray(self.vect_model[_corpus])\n",
    "\n",
    "lda_vect = MyLDAVectorizer(TOPIC_COUNT = 200)\n",
    "lda_vect.fit(LABELED_STEMMED_TEXTS)\n",
    "labeled_lda = lda_vect.transform(LABELED_STEMMED_TEXTS)\n",
    "labeled_lda_extra_all = np.hstack([labeled_lda, labeled_extra_all])\n",
    "labeled_lda_extra_cuisine_zipcode = np.hstack([labeled_lda, labeled_extra_cuisine_zipcode])\n",
    "labeled_TT = np.hstack([labeled_lda, LABELED_TOPWORD_FEATURE])\n",
    "labeled_TT_extra_all = np.hstack([labeled_lda, LABELED_TOPWORD_FEATURE, labeled_extra_all])\n",
    "labeled_TT_extra_cuisine_zipcode = np.hstack([labeled_lda, LABELED_TOPWORD_FEATURE, labeled_extra_cuisine_zipcode])\n",
    "\n",
    "submit_lda = lda_vect.transform(SUBMIT_STEMMED_TEXTS)\n",
    "submit_lda_extra_all = np.hstack([submit_lda, submit_extra_all])\n",
    "submit_lda_extra_cuisine_zipcode = np.hstack([submit_lda, submit_extra_cuisine_zipcode])\n",
    "submit_TT = np.hstack([submit_lda, SUBMIT_TOPWORD_FEATURE])\n",
    "submit_TT_extra_all = np.hstack([submit_lda, SUBMIT_TOPWORD_FEATURE, submit_extra_all])\n",
    "submit_TT_extra_cuisine_zipcode = np.hstack([submit_lda, SUBMIT_TOPWORD_FEATURE, submit_extra_cuisine_zipcode])"
   ]
  },
  {
   "cell_type": "markdown",
   "metadata": {},
   "source": [
    "## Doc2Vec"
   ]
  },
  {
   "cell_type": "code",
   "execution_count": 30,
   "metadata": {},
   "outputs": [
    {
     "name": "stdout",
     "output_type": "stream",
     "text": [
      "Wall time: 5min 29s\n"
     ]
    }
   ],
   "source": [
    "%%time\n",
    "\n",
    "from gensim.models.doc2vec import Doc2Vec, TaggedDocument\n",
    "import numpy as np\n",
    "\n",
    "class MyDoc2Vectorizer(MyCountVectorizer):\n",
    "    def __init__(self, size = 100):\n",
    "        self.embedding_size = size\n",
    "            \n",
    "    def fit(self, texts):\n",
    "        _docs = [TaggedDocument(_doc, [i]) for i, _doc in enumerate(texts)]\n",
    "        self.vect_model = Doc2Vec(_docs, \n",
    "                                  vector_size = self.embedding_size, \n",
    "                                  window = 5,\n",
    "                                  min_count = 3,\n",
    "                                  epochs = 40, \n",
    "                                  workers = 4)\n",
    "        \n",
    "    def transform(self, texts):\n",
    "        return np.asarray([self.vect_model.infer_vector(_text) for _text in texts])\n",
    "\n",
    "doc2vec_vect = MyDoc2Vectorizer(size = 200)\n",
    "doc2vec_vect.fit(ALL_STEMMED_TEXTS)\n",
    "\n",
    "labeled_doc2vec = doc2vec_vect.transform(LABELED_STEMMED_TEXTS)\n",
    "labeled_doc2vec_extra_all = np.hstack([labeled_doc2vec, labeled_extra_all])\n",
    "labeled_doc2vec_extra_cuisine_zipcode = np.hstack([labeled_doc2vec, labeled_extra_cuisine_zipcode])\n",
    "labeled_DT = np.hstack([labeled_doc2vec, LABELED_TOPWORD_FEATURE])\n",
    "labeled_DT_extra_all = np.hstack([labeled_doc2vec, LABELED_TOPWORD_FEATURE, labeled_extra_all])\n",
    "labeled_DT_extra_cuisine_zipcode = np.hstack([labeled_doc2vec, LABELED_TOPWORD_FEATURE, labeled_extra_cuisine_zipcode])\n",
    "\n",
    "submit_doc2vec = doc2vec_vect.transform(SUBMIT_STEMMED_TEXTS)\n",
    "submit_doc2vec_extra_all = np.hstack([submit_doc2vec, submit_extra_all])\n",
    "submit_doc2vec_extra_cuisine_zipcode = np.hstack([submit_doc2vec, submit_extra_cuisine_zipcode])\n",
    "submit_DT = np.hstack([submit_doc2vec, SUBMIT_TOPWORD_FEATURE])\n",
    "submit_DT_extra_all = np.hstack([submit_doc2vec, SUBMIT_TOPWORD_FEATURE, submit_extra_all])\n",
    "submit_DT_extra_cuisine_zipcode = np.hstack([submit_doc2vec, SUBMIT_TOPWORD_FEATURE, submit_extra_cuisine_zipcode])"
   ]
  },
  {
   "cell_type": "code",
   "execution_count": null,
   "metadata": {},
   "outputs": [],
   "source": [
    "# #Test quality\n",
    "\n",
    "# import collections\n",
    "\n",
    "# ranks = []\n",
    "# for doc_id in range(len(train_stemmed_text)):\n",
    "#     inferred_vector = doc2vec_vect.vect_model.infer_vector(train_stemmed_text[train_stemmed_text.index[doc_id]])\n",
    "#     sims = doc2vec_vect.vect_model.docvecs.most_similar([inferred_vector], topn=len(doc2vec_vect.vect_model.docvecs))\n",
    "#     rank = [docid for docid, sim in sims].index(doc_id)\n",
    "#     ranks.append(rank)\n",
    "\n",
    "# collections.Counter(ranks)"
   ]
  },
  {
   "cell_type": "markdown",
   "metadata": {},
   "source": [
    "# Models"
   ]
  },
  {
   "cell_type": "code",
   "execution_count": 50,
   "metadata": {},
   "outputs": [],
   "source": [
    "from sklearn.model_selection import GridSearchCV, RandomizedSearchCV\n",
    "from sklearn.model_selection import cross_validate\n",
    "\n",
    "# def show_score(classifier_name, scores):\n",
    "#     print(\"Accuracy:%0.2f Precission:%0.2f Recall:%0.2f F1:%0.2f\"%scores, \"-> [%s]\"%(classifier_name))\n",
    "    \n",
    "# def train_model(classifier, train_feature, train_label, test_feature, test_label, is_neural_net=False):\n",
    "# #     print(train_feature)\n",
    "#     # fit the training dataset on the classifier\n",
    "#     classifier.fit(train_feature, train_label)\n",
    "    \n",
    "#     # predict the labels on validation dataset\n",
    "#     predictions = classifier.predict(test_feature)\n",
    "    \n",
    "#     if is_neural_net:\n",
    "#         predictions = predictions.argmax(axis=-1)\n",
    "\n",
    "#     print(metrics.confusion_matrix(test_label, predictions))\n",
    "#     return (metrics.accuracy_score(test_label, predictions),\n",
    "#             metrics.precision_score(test_label, predictions),\n",
    "#             metrics.recall_score(test_label, predictions),\n",
    "#             metrics.f1_score(test_label, predictions))\n",
    "\n",
    "# def run_model(classfier_configs):\n",
    "#     for _name in classfier_configs:\n",
    "# #         print(classfier_configs[_name].train)\n",
    "#         scores = train_model(classfier_configs[_name][0], classfier_configs[_name][1], train_label, classfier_configs[_name][2], test_label)\n",
    "#         show_score(_name, scores)\n",
    "\n",
    "ALIAS = \"xj9\"\n",
    "SUBMISSION_FOLDER = \"./data/submit\"\n",
    "def make_submit_file(file_name, predictions):\n",
    "    with open(SUBMISSION_FOLDER + \"/\" + file_name, 'w') as f:\n",
    "        f.write(ALIAS + \"\\n\")\n",
    "        for _value in predictions:\n",
    "            f.write(str(_value) + \"\\n\")    \n",
    "    \n",
    "    \n",
    "def eval_model(classfier_configs, model, model_name, param_distributions = None, do_grid_search = False):\n",
    "    test_scores = []\n",
    "    best_params = []\n",
    "    model_names = []\n",
    "    \n",
    "    for _name in classfier_configs:\n",
    "        model_names.append(_name)\n",
    "        if not (param_distributions is None):\n",
    "            if do_grid_search:\n",
    "                best_model = GridSearchCV(model, \n",
    "                                             scoring = \"f1\", \n",
    "                                             param_grid = param_distributions, \n",
    "                                             cv = 5)\n",
    "            else:\n",
    "                best_model = RandomizedSearchCV(model, \n",
    "                                             scoring = \"f1\", \n",
    "                                             param_distributions = param_distributions, \n",
    "                                             cv = 5)\n",
    "            \n",
    "            best_model.fit(classfier_configs[_name][0], classfier_configs[_name][1])\n",
    "            _score = best_model.best_score_\n",
    "            _params = best_model.best_params_\n",
    "\n",
    "        else:\n",
    "            best_model = model\n",
    "            cv_results = cross_validate(best_model, \n",
    "                                        classfier_configs[_name][0], \n",
    "                                        classfier_configs[_name][1],\n",
    "                                        scoring = 'f1',\n",
    "                                        cv = 5)\n",
    "            \n",
    "            best_model.fit(classfier_configs[_name][0], classfier_configs[_name][1])\n",
    "            _score = np.mean(cv_results['test_score'])\n",
    "            _params = None\n",
    "            \n",
    "        \n",
    "        print(_score, '\\t', _params, '\\t', _name)\n",
    "        test_scores.append(_score)\n",
    "        best_params.append(_params)\n",
    "        \n",
    "        make_submit_file(\"%s_%s_submit.txt\"%(model_name, classfier_configs[_name][2]), best_model.predict(classfier_configs[_name][3]))\n",
    "    \n",
    "    best_of_best = np.argmax(test_scores)\n",
    "    print('Best Model:[', model_names[best_of_best], '] Test Score:', \"%0.3f\"%(test_scores[best_of_best]))\n",
    "    \n",
    "    return {'test_scores': test_scores, 'best_parameters': best_params}"
   ]
  },
  {
   "cell_type": "code",
   "execution_count": 51,
   "metadata": {},
   "outputs": [],
   "source": [
    "model_config = {\n",
    "    \"Extra All\": (labeled_extra_all, LABELS, \"ea\", submit_extra_all)\n",
    "    , \"Extra Cuisine Zipcode\": (labeled_extra_cuisine_zipcode, LABELS, \"ecz\", submit_extra_cuisine_zipcode)\n",
    "    , \"Count\": (labeled_count, LABELS, \"c\", submit_count)\n",
    "    , \"Count + Extra All\": (labeled_count_extra_all, LABELS, \"c_ea\", submit_count_extra_all)\n",
    "    , \"Count + Extra Cuisine+Zipcode\": (labeled_count_extra_cuisine_zipcode, LABELS, \"c_ecz\", submit_count_extra_cuisine_zipcode)\n",
    "    , \"TFIDF\": (labeled_tfidf, LABELS, \"tfidf\", submit_tfidf)\n",
    "    , \"TFIDF + Extra All\": (labeled_tfidf_extra_all, LABELS, \"tfidf_ea\", submit_tfidf_extra_all)\n",
    "    , \"TFIDF + Extra Cuisine+Zipcode\": (labeled_tfidf_extra_cuisine_zipcode, LABELS, \"tfidf_ecz\", submit_tfidf_extra_cuisine_zipcode)\n",
    "    , \"TFIDF NGram\": (labeled_tfidf_ngram, LABELS, \"tfidf_ng\", submit_tfidf_ngram)\n",
    "    , \"TFIDF NGram + Extra All\": (labeled_tfidf_ngram_extra_all, LABELS, \"tfidf_ng_ea\", submit_tfidf_ngram_extra_all)\n",
    "    , \"TFIDF NGram + Extra Cuisine+ZipCode\": (labeled_tfidf_ngram_extra_cuisine_zipcode, LABELS, \"tfidf_ng_ecz\",\n",
    "                                              submit_tfidf_ngram_extra_cuisine_zipcode)\n",
    "    , \"LDA\": (labeled_lda, LABELS, submit_lda, \"lda\")\n",
    "    , \"LDA + Extra All\": (labeled_lda_extra_all, LABELS, \"lda_ea\", submit_lda_extra_all)\n",
    "    , \"LDA + Extra Cuisine+Zipcode\": (labeled_lda_extra_cuisine_zipcode, LABELS,\"lda_ecz\", submit_lda_extra_cuisine_zipcode)\n",
    "    , \"Doc2Vec\": (labeled_doc2vec, LABELS, \"d2v\", submit_doc2vec)\n",
    "    , \"Doc2Vec Extra All\": (labeled_doc2vec_extra_all, LABELS, \"d2v_ea\", submit_doc2vec_extra_all)\n",
    "    , \"Doc2Vec Extra Cuisine+Zipcode\": (labeled_doc2vec_extra_cuisine_zipcode, LABELS, \"d2v_ecz\",\n",
    "                                        submit_doc2vec_extra_cuisine_zipcode)\n",
    "    , \"TT\": (labeled_TT, LABELS, \"tt\", submit_TT)\n",
    "    , \"TT + Extra All\": (labeled_TT_extra_all, LABELS,\"tt_ea\", submit_TT_extra_all)\n",
    "    , \"TT + Extra Cuisine+Zipcode\": (labeled_TT_extra_cuisine_zipcode, LABELS,\"tt_ecz\", submit_TT_extra_cuisine_zipcode)\n",
    "    , \"DT\": (labeled_DT, LABELS, \"dt\", submit_DT)\n",
    "    , \"DT Extra All\": (labeled_DT_extra_all, LABELS,\"dt_ea\", submit_DT_extra_all)\n",
    "    , \"DT Extra Cuisine+Zipcode\": (labeled_DT_extra_cuisine_zipcode, LABELS, \"dt_ecz\", submit_DT_extra_cuisine_zipcode)    \n",
    "}"
   ]
  },
  {
   "cell_type": "markdown",
   "metadata": {},
   "source": [
    "## Naive Bayes "
   ]
  },
  {
   "cell_type": "code",
   "execution_count": 52,
   "metadata": {},
   "outputs": [
    {
     "name": "stdout",
     "output_type": "stream",
     "text": [
      "0.6059380201315685 \t None \t Extra All\n",
      "0.6272072595274806 \t None \t Extra Cuisine Zipcode\n",
      "0.6622324661669784 \t None \t Count\n",
      "0.6618479894648867 \t None \t Count + Extra All\n",
      "0.6560218848796275 \t None \t Count + Extra Cuisine+Zipcode\n",
      "0.6787404920510662 \t None \t TFIDF\n",
      "0.7017638638450687 \t None \t TFIDF + Extra All\n",
      "0.6737271806539652 \t None \t TFIDF + Extra Cuisine+Zipcode\n",
      "0.6490372665443611 \t None \t TFIDF NGram\n",
      "0.6911237307980287 \t None \t TFIDF NGram + Extra All\n",
      "0.6657373148454245 \t None \t TFIDF NGram + Extra Cuisine+ZipCode\n",
      "0.6220672611064836 \t None \t LDA\n",
      "0.6162458763299167 \t None \t LDA + Extra All\n",
      "0.6401722644784845 \t None \t LDA + Extra Cuisine+Zipcode\n",
      "0.6167809836400291 \t None \t TT\n",
      "0.6139526462930719 \t None \t TT + Extra All\n",
      "0.6459488103761558 \t None \t TT + Extra Cuisine+Zipcode\n",
      "Best Model:[ TFIDF + Extra All ] Test Score: 0.702\n"
     ]
    }
   ],
   "source": [
    "from sklearn.naive_bayes import MultinomialNB\n",
    "\n",
    "nb_config = {\n",
    "    \"Extra All\": (labeled_extra_all, LABELS, \"ea\", submit_extra_all)\n",
    "    , \"Extra Cuisine Zipcode\": (labeled_extra_cuisine_zipcode, LABELS, \"ecz\", submit_extra_cuisine_zipcode)\n",
    "    , \"Count\": (labeled_count, LABELS, \"c\", submit_count)\n",
    "    , \"Count + Extra All\": (labeled_count_extra_all, LABELS, \"c_ea\", submit_count_extra_all)\n",
    "    , \"Count + Extra Cuisine+Zipcode\": (labeled_count_extra_cuisine_zipcode, LABELS, \"c_ecz\", submit_count_extra_cuisine_zipcode)\n",
    "    , \"TFIDF\": (labeled_tfidf, LABELS, \"tfidf\", submit_tfidf)\n",
    "    , \"TFIDF + Extra All\": (labeled_tfidf_extra_all, LABELS, \"tfidf_ea\", submit_tfidf_extra_all)\n",
    "    , \"TFIDF + Extra Cuisine+Zipcode\": (labeled_tfidf_extra_cuisine_zipcode, LABELS, \"tfidf_ecz\", submit_tfidf_extra_cuisine_zipcode)\n",
    "    , \"TFIDF NGram\": (labeled_tfidf_ngram, LABELS, \"tfidf_ng\", submit_tfidf_ngram)\n",
    "    , \"TFIDF NGram + Extra All\": (labeled_tfidf_ngram_extra_all, LABELS, \"tfidf_ng_ea\", submit_tfidf_ngram_extra_all)\n",
    "    , \"TFIDF NGram + Extra Cuisine+ZipCode\": (labeled_tfidf_ngram_extra_cuisine_zipcode, LABELS, \"tfidf_ng_ecz\",\n",
    "                                              submit_tfidf_ngram_extra_cuisine_zipcode)\n",
    "    , \"LDA\": (labeled_lda, LABELS, \"lda\", submit_lda)\n",
    "    , \"LDA + Extra All\": (labeled_lda_extra_all, LABELS, \"lda_ea\", submit_lda_extra_all)\n",
    "    , \"LDA + Extra Cuisine+Zipcode\": (labeled_lda_extra_cuisine_zipcode, LABELS,\"lda_ecz\", submit_lda_extra_cuisine_zipcode)\n",
    "    , \"TT\": (labeled_TT, LABELS, \"tt\", submit_TT)\n",
    "    , \"TT + Extra All\": (labeled_TT_extra_all, LABELS,\"tt_ea\", submit_TT_extra_all)\n",
    "    , \"TT + Extra Cuisine+Zipcode\": (labeled_TT_extra_cuisine_zipcode, LABELS,\"tt_ecz\", submit_TT_extra_cuisine_zipcode)\n",
    "}\n",
    "\n",
    "nb_eval = eval_model(nb_config, MultinomialNB(), \"nb\")"
   ]
  },
  {
   "cell_type": "markdown",
   "metadata": {},
   "source": [
    "##  Linear Classifier"
   ]
  },
  {
   "cell_type": "code",
   "execution_count": null,
   "metadata": {},
   "outputs": [
    {
     "name": "stderr",
     "output_type": "stream",
     "text": [
      "C:\\Users\\geesi\\Anaconda3\\envs\\dm_cap_py3\\lib\\site-packages\\sklearn\\linear_model\\sag.py:337: ConvergenceWarning: The max_iter was reached which means the coef_ did not converge\n",
      "  \"the coef_ did not converge\", ConvergenceWarning)\n",
      "C:\\Users\\geesi\\Anaconda3\\envs\\dm_cap_py3\\lib\\site-packages\\sklearn\\linear_model\\sag.py:337: ConvergenceWarning: The max_iter was reached which means the coef_ did not converge\n",
      "  \"the coef_ did not converge\", ConvergenceWarning)\n",
      "C:\\Users\\geesi\\Anaconda3\\envs\\dm_cap_py3\\lib\\site-packages\\sklearn\\linear_model\\sag.py:337: ConvergenceWarning: The max_iter was reached which means the coef_ did not converge\n",
      "  \"the coef_ did not converge\", ConvergenceWarning)\n",
      "C:\\Users\\geesi\\Anaconda3\\envs\\dm_cap_py3\\lib\\site-packages\\sklearn\\linear_model\\sag.py:337: ConvergenceWarning: The max_iter was reached which means the coef_ did not converge\n",
      "  \"the coef_ did not converge\", ConvergenceWarning)\n",
      "C:\\Users\\geesi\\Anaconda3\\envs\\dm_cap_py3\\lib\\site-packages\\sklearn\\linear_model\\sag.py:337: ConvergenceWarning: The max_iter was reached which means the coef_ did not converge\n",
      "  \"the coef_ did not converge\", ConvergenceWarning)\n",
      "C:\\Users\\geesi\\Anaconda3\\envs\\dm_cap_py3\\lib\\site-packages\\sklearn\\linear_model\\sag.py:337: ConvergenceWarning: The max_iter was reached which means the coef_ did not converge\n",
      "  \"the coef_ did not converge\", ConvergenceWarning)\n",
      "C:\\Users\\geesi\\Anaconda3\\envs\\dm_cap_py3\\lib\\site-packages\\sklearn\\linear_model\\sag.py:337: ConvergenceWarning: The max_iter was reached which means the coef_ did not converge\n",
      "  \"the coef_ did not converge\", ConvergenceWarning)\n",
      "C:\\Users\\geesi\\Anaconda3\\envs\\dm_cap_py3\\lib\\site-packages\\sklearn\\linear_model\\sag.py:337: ConvergenceWarning: The max_iter was reached which means the coef_ did not converge\n",
      "  \"the coef_ did not converge\", ConvergenceWarning)\n",
      "C:\\Users\\geesi\\Anaconda3\\envs\\dm_cap_py3\\lib\\site-packages\\sklearn\\linear_model\\sag.py:337: ConvergenceWarning: The max_iter was reached which means the coef_ did not converge\n",
      "  \"the coef_ did not converge\", ConvergenceWarning)\n",
      "C:\\Users\\geesi\\Anaconda3\\envs\\dm_cap_py3\\lib\\site-packages\\sklearn\\linear_model\\sag.py:337: ConvergenceWarning: The max_iter was reached which means the coef_ did not converge\n",
      "  \"the coef_ did not converge\", ConvergenceWarning)\n",
      "C:\\Users\\geesi\\Anaconda3\\envs\\dm_cap_py3\\lib\\site-packages\\sklearn\\linear_model\\sag.py:337: ConvergenceWarning: The max_iter was reached which means the coef_ did not converge\n",
      "  \"the coef_ did not converge\", ConvergenceWarning)\n",
      "C:\\Users\\geesi\\Anaconda3\\envs\\dm_cap_py3\\lib\\site-packages\\sklearn\\linear_model\\sag.py:337: ConvergenceWarning: The max_iter was reached which means the coef_ did not converge\n",
      "  \"the coef_ did not converge\", ConvergenceWarning)\n",
      "C:\\Users\\geesi\\Anaconda3\\envs\\dm_cap_py3\\lib\\site-packages\\sklearn\\linear_model\\sag.py:337: ConvergenceWarning: The max_iter was reached which means the coef_ did not converge\n",
      "  \"the coef_ did not converge\", ConvergenceWarning)\n",
      "C:\\Users\\geesi\\Anaconda3\\envs\\dm_cap_py3\\lib\\site-packages\\sklearn\\linear_model\\sag.py:337: ConvergenceWarning: The max_iter was reached which means the coef_ did not converge\n",
      "  \"the coef_ did not converge\", ConvergenceWarning)\n",
      "C:\\Users\\geesi\\Anaconda3\\envs\\dm_cap_py3\\lib\\site-packages\\sklearn\\linear_model\\sag.py:337: ConvergenceWarning: The max_iter was reached which means the coef_ did not converge\n",
      "  \"the coef_ did not converge\", ConvergenceWarning)\n",
      "C:\\Users\\geesi\\Anaconda3\\envs\\dm_cap_py3\\lib\\site-packages\\sklearn\\linear_model\\sag.py:337: ConvergenceWarning: The max_iter was reached which means the coef_ did not converge\n",
      "  \"the coef_ did not converge\", ConvergenceWarning)\n",
      "C:\\Users\\geesi\\Anaconda3\\envs\\dm_cap_py3\\lib\\site-packages\\sklearn\\linear_model\\sag.py:337: ConvergenceWarning: The max_iter was reached which means the coef_ did not converge\n",
      "  \"the coef_ did not converge\", ConvergenceWarning)\n",
      "C:\\Users\\geesi\\Anaconda3\\envs\\dm_cap_py3\\lib\\site-packages\\sklearn\\linear_model\\sag.py:337: ConvergenceWarning: The max_iter was reached which means the coef_ did not converge\n",
      "  \"the coef_ did not converge\", ConvergenceWarning)\n",
      "C:\\Users\\geesi\\Anaconda3\\envs\\dm_cap_py3\\lib\\site-packages\\sklearn\\linear_model\\sag.py:337: ConvergenceWarning: The max_iter was reached which means the coef_ did not converge\n",
      "  \"the coef_ did not converge\", ConvergenceWarning)\n",
      "C:\\Users\\geesi\\Anaconda3\\envs\\dm_cap_py3\\lib\\site-packages\\sklearn\\linear_model\\sag.py:337: ConvergenceWarning: The max_iter was reached which means the coef_ did not converge\n",
      "  \"the coef_ did not converge\", ConvergenceWarning)\n",
      "C:\\Users\\geesi\\Anaconda3\\envs\\dm_cap_py3\\lib\\site-packages\\sklearn\\linear_model\\sag.py:337: ConvergenceWarning: The max_iter was reached which means the coef_ did not converge\n",
      "  \"the coef_ did not converge\", ConvergenceWarning)\n",
      "C:\\Users\\geesi\\Anaconda3\\envs\\dm_cap_py3\\lib\\site-packages\\sklearn\\linear_model\\sag.py:337: ConvergenceWarning: The max_iter was reached which means the coef_ did not converge\n",
      "  \"the coef_ did not converge\", ConvergenceWarning)\n",
      "C:\\Users\\geesi\\Anaconda3\\envs\\dm_cap_py3\\lib\\site-packages\\sklearn\\linear_model\\sag.py:337: ConvergenceWarning: The max_iter was reached which means the coef_ did not converge\n",
      "  \"the coef_ did not converge\", ConvergenceWarning)\n",
      "C:\\Users\\geesi\\Anaconda3\\envs\\dm_cap_py3\\lib\\site-packages\\sklearn\\linear_model\\sag.py:337: ConvergenceWarning: The max_iter was reached which means the coef_ did not converge\n",
      "  \"the coef_ did not converge\", ConvergenceWarning)\n",
      "C:\\Users\\geesi\\Anaconda3\\envs\\dm_cap_py3\\lib\\site-packages\\sklearn\\linear_model\\sag.py:337: ConvergenceWarning: The max_iter was reached which means the coef_ did not converge\n",
      "  \"the coef_ did not converge\", ConvergenceWarning)\n",
      "C:\\Users\\geesi\\Anaconda3\\envs\\dm_cap_py3\\lib\\site-packages\\sklearn\\linear_model\\sag.py:337: ConvergenceWarning: The max_iter was reached which means the coef_ did not converge\n",
      "  \"the coef_ did not converge\", ConvergenceWarning)\n",
      "C:\\Users\\geesi\\Anaconda3\\envs\\dm_cap_py3\\lib\\site-packages\\sklearn\\linear_model\\sag.py:337: ConvergenceWarning: The max_iter was reached which means the coef_ did not converge\n",
      "  \"the coef_ did not converge\", ConvergenceWarning)\n",
      "C:\\Users\\geesi\\Anaconda3\\envs\\dm_cap_py3\\lib\\site-packages\\sklearn\\linear_model\\sag.py:337: ConvergenceWarning: The max_iter was reached which means the coef_ did not converge\n",
      "  \"the coef_ did not converge\", ConvergenceWarning)\n",
      "C:\\Users\\geesi\\Anaconda3\\envs\\dm_cap_py3\\lib\\site-packages\\sklearn\\linear_model\\sag.py:337: ConvergenceWarning: The max_iter was reached which means the coef_ did not converge\n",
      "  \"the coef_ did not converge\", ConvergenceWarning)\n",
      "C:\\Users\\geesi\\Anaconda3\\envs\\dm_cap_py3\\lib\\site-packages\\sklearn\\linear_model\\sag.py:337: ConvergenceWarning: The max_iter was reached which means the coef_ did not converge\n",
      "  \"the coef_ did not converge\", ConvergenceWarning)\n",
      "C:\\Users\\geesi\\Anaconda3\\envs\\dm_cap_py3\\lib\\site-packages\\sklearn\\linear_model\\sag.py:337: ConvergenceWarning: The max_iter was reached which means the coef_ did not converge\n",
      "  \"the coef_ did not converge\", ConvergenceWarning)\n",
      "C:\\Users\\geesi\\Anaconda3\\envs\\dm_cap_py3\\lib\\site-packages\\sklearn\\linear_model\\sag.py:337: ConvergenceWarning: The max_iter was reached which means the coef_ did not converge\n",
      "  \"the coef_ did not converge\", ConvergenceWarning)\n",
      "C:\\Users\\geesi\\Anaconda3\\envs\\dm_cap_py3\\lib\\site-packages\\sklearn\\linear_model\\sag.py:337: ConvergenceWarning: The max_iter was reached which means the coef_ did not converge\n",
      "  \"the coef_ did not converge\", ConvergenceWarning)\n",
      "C:\\Users\\geesi\\Anaconda3\\envs\\dm_cap_py3\\lib\\site-packages\\sklearn\\linear_model\\sag.py:337: ConvergenceWarning: The max_iter was reached which means the coef_ did not converge\n",
      "  \"the coef_ did not converge\", ConvergenceWarning)\n",
      "C:\\Users\\geesi\\Anaconda3\\envs\\dm_cap_py3\\lib\\site-packages\\sklearn\\linear_model\\sag.py:337: ConvergenceWarning: The max_iter was reached which means the coef_ did not converge\n",
      "  \"the coef_ did not converge\", ConvergenceWarning)\n",
      "C:\\Users\\geesi\\Anaconda3\\envs\\dm_cap_py3\\lib\\site-packages\\sklearn\\linear_model\\sag.py:337: ConvergenceWarning: The max_iter was reached which means the coef_ did not converge\n",
      "  \"the coef_ did not converge\", ConvergenceWarning)\n"
     ]
    },
    {
     "name": "stderr",
     "output_type": "stream",
     "text": [
      "C:\\Users\\geesi\\Anaconda3\\envs\\dm_cap_py3\\lib\\site-packages\\sklearn\\linear_model\\sag.py:337: ConvergenceWarning: The max_iter was reached which means the coef_ did not converge\n",
      "  \"the coef_ did not converge\", ConvergenceWarning)\n",
      "C:\\Users\\geesi\\Anaconda3\\envs\\dm_cap_py3\\lib\\site-packages\\sklearn\\linear_model\\sag.py:337: ConvergenceWarning: The max_iter was reached which means the coef_ did not converge\n",
      "  \"the coef_ did not converge\", ConvergenceWarning)\n",
      "C:\\Users\\geesi\\Anaconda3\\envs\\dm_cap_py3\\lib\\site-packages\\sklearn\\linear_model\\sag.py:337: ConvergenceWarning: The max_iter was reached which means the coef_ did not converge\n",
      "  \"the coef_ did not converge\", ConvergenceWarning)\n",
      "C:\\Users\\geesi\\Anaconda3\\envs\\dm_cap_py3\\lib\\site-packages\\sklearn\\linear_model\\sag.py:337: ConvergenceWarning: The max_iter was reached which means the coef_ did not converge\n",
      "  \"the coef_ did not converge\", ConvergenceWarning)\n",
      "C:\\Users\\geesi\\Anaconda3\\envs\\dm_cap_py3\\lib\\site-packages\\sklearn\\model_selection\\_search.py:813: DeprecationWarning: The default of the `iid` parameter will change from True to False in version 0.22 and will be removed in 0.24. This will change numeric results when test-set sizes are unequal.\n",
      "  DeprecationWarning)\n",
      "C:\\Users\\geesi\\Anaconda3\\envs\\dm_cap_py3\\lib\\site-packages\\sklearn\\linear_model\\sag.py:337: ConvergenceWarning: The max_iter was reached which means the coef_ did not converge\n",
      "  \"the coef_ did not converge\", ConvergenceWarning)\n"
     ]
    },
    {
     "name": "stdout",
     "output_type": "stream",
     "text": [
      "0.5658076185680123 \t {'C': 0.01, 'penalty': 'l2', 'solver': 'saga'} \t Extra All\n"
     ]
    },
    {
     "name": "stderr",
     "output_type": "stream",
     "text": [
      "C:\\Users\\geesi\\Anaconda3\\envs\\dm_cap_py3\\lib\\site-packages\\sklearn\\linear_model\\sag.py:337: ConvergenceWarning: The max_iter was reached which means the coef_ did not converge\n",
      "  \"the coef_ did not converge\", ConvergenceWarning)\n",
      "C:\\Users\\geesi\\Anaconda3\\envs\\dm_cap_py3\\lib\\site-packages\\sklearn\\linear_model\\sag.py:337: ConvergenceWarning: The max_iter was reached which means the coef_ did not converge\n",
      "  \"the coef_ did not converge\", ConvergenceWarning)\n",
      "C:\\Users\\geesi\\Anaconda3\\envs\\dm_cap_py3\\lib\\site-packages\\sklearn\\linear_model\\sag.py:337: ConvergenceWarning: The max_iter was reached which means the coef_ did not converge\n",
      "  \"the coef_ did not converge\", ConvergenceWarning)\n",
      "C:\\Users\\geesi\\Anaconda3\\envs\\dm_cap_py3\\lib\\site-packages\\sklearn\\linear_model\\sag.py:337: ConvergenceWarning: The max_iter was reached which means the coef_ did not converge\n",
      "  \"the coef_ did not converge\", ConvergenceWarning)\n",
      "C:\\Users\\geesi\\Anaconda3\\envs\\dm_cap_py3\\lib\\site-packages\\sklearn\\linear_model\\sag.py:337: ConvergenceWarning: The max_iter was reached which means the coef_ did not converge\n",
      "  \"the coef_ did not converge\", ConvergenceWarning)\n",
      "C:\\Users\\geesi\\Anaconda3\\envs\\dm_cap_py3\\lib\\site-packages\\sklearn\\linear_model\\sag.py:337: ConvergenceWarning: The max_iter was reached which means the coef_ did not converge\n",
      "  \"the coef_ did not converge\", ConvergenceWarning)\n",
      "C:\\Users\\geesi\\Anaconda3\\envs\\dm_cap_py3\\lib\\site-packages\\sklearn\\linear_model\\sag.py:337: ConvergenceWarning: The max_iter was reached which means the coef_ did not converge\n",
      "  \"the coef_ did not converge\", ConvergenceWarning)\n",
      "C:\\Users\\geesi\\Anaconda3\\envs\\dm_cap_py3\\lib\\site-packages\\sklearn\\linear_model\\sag.py:337: ConvergenceWarning: The max_iter was reached which means the coef_ did not converge\n",
      "  \"the coef_ did not converge\", ConvergenceWarning)\n",
      "C:\\Users\\geesi\\Anaconda3\\envs\\dm_cap_py3\\lib\\site-packages\\sklearn\\linear_model\\sag.py:337: ConvergenceWarning: The max_iter was reached which means the coef_ did not converge\n",
      "  \"the coef_ did not converge\", ConvergenceWarning)\n",
      "C:\\Users\\geesi\\Anaconda3\\envs\\dm_cap_py3\\lib\\site-packages\\sklearn\\linear_model\\sag.py:337: ConvergenceWarning: The max_iter was reached which means the coef_ did not converge\n",
      "  \"the coef_ did not converge\", ConvergenceWarning)\n",
      "C:\\Users\\geesi\\Anaconda3\\envs\\dm_cap_py3\\lib\\site-packages\\sklearn\\metrics\\classification.py:1437: UndefinedMetricWarning: F-score is ill-defined and being set to 0.0 due to no predicted samples.\n",
      "  'precision', 'predicted', average, warn_for)\n",
      "C:\\Users\\geesi\\Anaconda3\\envs\\dm_cap_py3\\lib\\site-packages\\sklearn\\metrics\\classification.py:1437: UndefinedMetricWarning: F-score is ill-defined and being set to 0.0 due to no predicted samples.\n",
      "  'precision', 'predicted', average, warn_for)\n",
      "C:\\Users\\geesi\\Anaconda3\\envs\\dm_cap_py3\\lib\\site-packages\\sklearn\\model_selection\\_search.py:813: DeprecationWarning: The default of the `iid` parameter will change from True to False in version 0.22 and will be removed in 0.24. This will change numeric results when test-set sizes are unequal.\n",
      "  DeprecationWarning)\n"
     ]
    },
    {
     "name": "stdout",
     "output_type": "stream",
     "text": [
      "0.642433672505511 \t {'C': 1, 'penalty': 'l2', 'solver': 'saga'} \t Extra Cuisine Zipcode\n"
     ]
    },
    {
     "name": "stderr",
     "output_type": "stream",
     "text": [
      "C:\\Users\\geesi\\Anaconda3\\envs\\dm_cap_py3\\lib\\site-packages\\sklearn\\linear_model\\sag.py:337: ConvergenceWarning: The max_iter was reached which means the coef_ did not converge\n",
      "  \"the coef_ did not converge\", ConvergenceWarning)\n",
      "C:\\Users\\geesi\\Anaconda3\\envs\\dm_cap_py3\\lib\\site-packages\\sklearn\\model_selection\\_search.py:813: DeprecationWarning: The default of the `iid` parameter will change from True to False in version 0.22 and will be removed in 0.24. This will change numeric results when test-set sizes are unequal.\n",
      "  DeprecationWarning)\n"
     ]
    },
    {
     "name": "stdout",
     "output_type": "stream",
     "text": [
      "0.6504902335245407 \t {'C': 0.1, 'penalty': 'l1', 'solver': 'saga'} \t Count\n"
     ]
    }
   ],
   "source": [
    "%%time\n",
    "from sklearn.linear_model import LogisticRegression\n",
    "\n",
    "# linear_config = {\n",
    "#     \"Linear Count\": (LogisticRegression(C= 0.1, penalty='l1', tol=0.1, solver='saga'), train_count, test_count)\n",
    "#     , \"Linear TFIDF\": (LogisticRegression(C= 0.1, penalty='l2', tol=0.1, solver='saga'), train_tfidf, test_tfidf)\n",
    "#     , \"Linear TFIDF NGram\": (LogisticRegression(C= 0.1, penalty='l2', tol=0.1, solver='saga'), train_tfidf_ngram, test_tfidf_ngram)\n",
    "#     , \"Linear TFIDF NGram Chars\": (LogisticRegression(C= 0.1, penalty='l2', tol=0.1, solver='saga'), train_tfidf_ngram_chars, test_tfidf_ngram_chars)\n",
    "# #     , \"Linear FastText Embedding\": (LogisticRegression(solver='lbfgs', max_iter=int(1e6)), train_fasttext_embedding, test_fasttext_embedding)\n",
    "#     , \"Linear LDA\": (LogisticRegression(solver='lbfgs'), train_lda, test_lda)\n",
    "#     , \"Linear Doc2Vec\": (LogisticRegression(solver='lbfgs'), train_doc2vec, test_doc2vec)\n",
    "# }\n",
    "\n",
    "# run_model(linear_config)\n",
    "\n",
    "linear_parameters = {'penalty':('l1', 'l2'), 'C':[10, 1, 0.1, 0.01], 'solver':['saga']}\n",
    "\n",
    "linear_eval = eval_model(model_config, LogisticRegression(),\"linear\", param_distributions = linear_parameters, do_grid_search = True)"
   ]
  },
  {
   "cell_type": "markdown",
   "metadata": {},
   "source": [
    "## SVM"
   ]
  },
  {
   "cell_type": "code",
   "execution_count": null,
   "metadata": {},
   "outputs": [],
   "source": [
    "%%time\n",
    "\n",
    "from sklearn.svm import SVC\n",
    "\n",
    "# svm_config = {\n",
    "#     \"SVM Count\": (SVC(C = 1, gamma = 0.1, kernel='rbf'), train_count, test_count),\n",
    "#     \"SVM TFIDF\": (SVC(C = 10, gamma = 0.01, kernel='rbf'), train_tfidf, test_tfidf),\n",
    "#     \"SVM TFIDF NGram\": (SVC(C = 1, gamma = 0.01, kernel='linear'), train_tfidf_ngram, test_tfidf_ngram),\n",
    "#     \"SVM TFIDF NGram Chars\": (SVC(C = 10, gamma = 0.01, kernel='rbf'), train_tfidf_ngram_chars, test_tfidf_ngram_chars),\n",
    "# #     \"SVM FastText Embedding\": (SVC(C = 1, gamma = 0.1, kernel='rbf'), train_fasttext_embedding, test_fasttext_embedding),\n",
    "#     \"SVM LDA\": (SVC(C = 1, gamma = 0.1, kernel='rbf'), train_lda, test_lda),\n",
    "#     \"SVM Doc2Vec\": (SVC(C = 1, gamma = 0.1, kernel='rbf'), train_doc2vec, test_doc2vec),\n",
    "# }\n",
    "    \n",
    "# run_model(svm_config)\n",
    "\n",
    "svm_parameters = {'kernel':('linear', 'rbf'), 'C':[0.1, 1, 10, 100], \"gamma\": np.logspace(-2, 2, 5)}\n",
    "\n",
    "svm_eval = eval_model(model_config, SVC(),\"svm\", param_distributions = svm_parameters, do_grid_search = True)"
   ]
  },
  {
   "cell_type": "markdown",
   "metadata": {},
   "source": [
    "## Random Forest"
   ]
  },
  {
   "cell_type": "code",
   "execution_count": null,
   "metadata": {},
   "outputs": [],
   "source": [
    "%%time\n",
    "\n",
    "from sklearn.ensemble import RandomForestClassifier\n",
    "\n",
    "rf_parameters = {'n_estimators':[100, 200, 500], 'max_features':[None, 0.25, 0.5, 0.75],\n",
    "                'max_depth': [None, 5, 10], 'min_samples_leaf': [0.0005, 0.01, 0.05, 0.1],\n",
    "                 'min_samples_split':[2, 5, 10]}\n",
    "\n",
    "# rf_eval = eval_model(model_config, RandomForestClassifier())\n",
    "rf_eval = eval_model(model_config, RandomForestClassifier(), \"rf\", param_distributions = rf_parameters, do_grid_search = False)"
   ]
  },
  {
   "cell_type": "markdown",
   "metadata": {},
   "source": [
    "## Boosting"
   ]
  },
  {
   "cell_type": "code",
   "execution_count": null,
   "metadata": {},
   "outputs": [],
   "source": [
    "%%time\n",
    "\n",
    "from xgboost import XGBClassifier\n",
    "\n",
    "# xgboost_config = {\n",
    "#     \"XGBoost Count\": (XGBClassifier(colsample_bytree = 0.8, gamma= 2, max_depth = 4, min_child_weight = 1, subsample =1.0), train_count, test_count)\n",
    "#     , \"XGBoost TFIDF\": (XGBClassifier(colsample_bytree = 0.8, gamma= 2, max_depth = 4, min_child_weight = 1, subsample =1.0), train_tfidf, test_tfidf)\n",
    "#     , \"XGBoost TFIDF NGram\": (XGBClassifier(colsample_bytree = 0.8, gamma= 2, max_depth = 4, min_child_weight = 1, subsample =1.0), train_tfidf_ngram.tocsc(), test_tfidf_ngram.tocsc())\n",
    "#     , \"XGBoost TFIDF NGram Chars\": (XGBClassifier(colsample_bytree = 0.8, gamma= 2, max_depth = 4, min_child_weight = 1, subsample =1.0), train_tfidf_ngram_chars, test_tfidf_ngram_chars)\n",
    "#     , \"XGBoost LDA\": (XGBClassifier(colsample_bytree = 0.8, gamma= 2, max_depth = 4, min_child_weight = 1, subsample =1.0), train_lda, test_lda)\n",
    "#     , \"XGBoost Doc2Vec\": (XGBClassifier(colsample_bytree = 0.8, gamma= 2, max_depth = 4, min_child_weight = 1, subsample =1.0), train_doc2vec, test_doc2vec)\n",
    "# }\n",
    "\n",
    "\n",
    "xgb_parameters = {\n",
    "        'min_child_weight': [1, 5, 10],\n",
    "        'gamma': [0.5, 1, 1.5, 2, 5],\n",
    "        'subsample': [0.6, 0.8, 1.0],\n",
    "        'colsample_bytree': [0.6, 0.8, 1.0],\n",
    "        'max_depth': [3, 4, 5]\n",
    "        }\n",
    "\n",
    "# xgb_eval = eval_model(model_config, XGBClassifier())\n",
    "xgb_eval = eval_model(model_config, XGBClassifier(), \"xgb\", param_distributions = xgb_parameters, do_grid_search = False)"
   ]
  },
  {
   "cell_type": "code",
   "execution_count": null,
   "metadata": {},
   "outputs": [],
   "source": [
    "def show_model_score(scores, config):\n",
    "    for i, _name in enumerate(config):\n",
    "#         print('Test Score:', \"%0.3f\"%(scores[i]), 'Data:[', _name , ']')\n",
    "        print(\"%0.3f\"%(scores[i]))"
   ]
  },
  {
   "cell_type": "code",
   "execution_count": null,
   "metadata": {},
   "outputs": [],
   "source": [
    "show_model_score(xgb_eval['test_scores'], model_config)"
   ]
  },
  {
   "cell_type": "code",
   "execution_count": null,
   "metadata": {},
   "outputs": [],
   "source": [
    "show_model_score(rf_eval['test_scores'], model_config)"
   ]
  },
  {
   "cell_type": "code",
   "execution_count": null,
   "metadata": {},
   "outputs": [],
   "source": [
    "show_model_score(svm_eval['test_scores'], model_config)"
   ]
  },
  {
   "cell_type": "code",
   "execution_count": null,
   "metadata": {},
   "outputs": [],
   "source": [
    "show_model_score(linear_eval['test_scores'], model_config)"
   ]
  },
  {
   "cell_type": "code",
   "execution_count": null,
   "metadata": {},
   "outputs": [],
   "source": [
    "show_model_score(nb_eval['test_scores'], nb_config)"
   ]
  },
  {
   "cell_type": "code",
   "execution_count": null,
   "metadata": {},
   "outputs": [],
   "source": [
    "test_tfidf = tfidf_vect.transform(\" \".join(_text) for _text in ALL_STEMMED_TEXTS[len(LABELS):])\n",
    "test_extra_all = ALL_EXTRA_FEATURE[len(LABELS):]\n",
    "test_extra_cuisine_zipcode = COUSINE_ZIPCODE_EXTRA_FEATURE[len(LABELS):]\n",
    "\n",
    "test_tfidf_extra_all = np.hstack([test_tfidf.todense(), test_extra_all])\n",
    "test_tfidf_extra_cuisine_zipcode = np.hstack([test_tfidf.todense(), test_extra_cuisine_zipcode])"
   ]
  },
  {
   "cell_type": "code",
   "execution_count": null,
   "metadata": {},
   "outputs": [],
   "source": [
    "svm_eval['best_parameters'][4]"
   ]
  },
  {
   "cell_type": "code",
   "execution_count": null,
   "metadata": {},
   "outputs": [],
   "source": [
    "nb_best_model = MultinomialNB()\n",
    "nb_best_model.fit(labeled_tfidf_extra_all, LABELS)\n",
    "nb_predictions = nb_best_model.predict(test_tfidf_extra_all)\n",
    "\n",
    "with open('nb_results.txt', 'w') as f:\n",
    "    f.write(\"xj9\\n\")\n",
    "    for _value in nb_predictions:\n",
    "        f.write(str(_value) + \"\\n\")"
   ]
  },
  {
   "cell_type": "code",
   "execution_count": null,
   "metadata": {},
   "outputs": [],
   "source": [
    "svm_best_model = SVC(C = 0.1, gamma = 10, kernel = 'rbf')\n",
    "svm_best_model.fit(labeled_tfidf_extra_cuisine_zipcode, LABELS)\n",
    "svm_predictions = svm_best_model.predict(test_tfidf_extra_cuisine_zipcode)\n",
    "\n",
    "with open('svm_results.txt', 'w') as f:\n",
    "    f.write(\"xj9\\n\")\n",
    "    for _value in svm_predictions:\n",
    "        f.write(str(_value) + \"\\n\")"
   ]
  },
  {
   "cell_type": "code",
   "execution_count": null,
   "metadata": {},
   "outputs": [],
   "source": []
  }
 ],
 "metadata": {
  "kernelspec": {
   "display_name": "Python 3",
   "language": "python",
   "name": "python3"
  },
  "language_info": {
   "codemirror_mode": {
    "name": "ipython",
    "version": 3
   },
   "file_extension": ".py",
   "mimetype": "text/x-python",
   "name": "python",
   "nbconvert_exporter": "python",
   "pygments_lexer": "ipython3",
   "version": "3.6.7"
  }
 },
 "nbformat": 4,
 "nbformat_minor": 2
}
