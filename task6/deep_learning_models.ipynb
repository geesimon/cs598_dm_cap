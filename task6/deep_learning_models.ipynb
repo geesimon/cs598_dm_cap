{
 "cells": [
  {
   "cell_type": "code",
   "execution_count": 3,
   "metadata": {},
   "outputs": [],
   "source": [
    "with open(\"./data/raw/Hygiene/hygiene.dat.labels\") as f:\n",
    "    labels = [int(l) for l in f.readlines() if l[0].isdigit()]\n",
    "\n",
    "docs = []\n",
    "with open(\"./data/raw/Hygiene/hygiene.dat\") as f:\n",
    "    for i in range(len(labels)):\n",
    "        docs.append(f.readline().strip(\"\\n\"))\n",
    "\n",
    "with open(\"./data/processed/train.txt\", \"w\") as f:\n",
    "    for i, _doc in enumerate(docs[0:int(len(docs)*0.8)]):\n",
    "        f.write(\"__label__\" + str(labels[i]) + \" \" + _doc + \"\\n\")\n",
    "\n",
    "with open(\"./data/processed/dev.txt\", \"w\") as f:\n",
    "    for i, _doc in enumerate(docs[int(len(docs)*0.8):int(len(docs)*0.9)]):\n",
    "        f.write(\"__label__\" + str(labels[i]) + \" \" + _doc + \"\\n\")\n",
    "        \n",
    "with open(\"./data/processed/test.txt\", \"w\") as f:\n",
    "    for i, _doc in enumerate(docs[int(len(docs)*0.9):]):\n",
    "        f.write(\"__label__\" + str(labels[i]) + \" \" + _doc + \"\\n\")"
   ]
  },
  {
   "cell_type": "markdown",
   "metadata": {},
   "source": [
    "### For Bert"
   ]
  },
  {
   "cell_type": "code",
   "execution_count": 4,
   "metadata": {},
   "outputs": [],
   "source": [
    "import pandas as pd\n",
    "\n",
    "df_bert_train = pd.DataFrame({'user_id':0,\n",
    "                              'label':labels[0:int(len(docs)*0.8)],\n",
    "                              'alpha': 0,\n",
    "                             'text':docs[0:int(len(docs)*0.8)]})\n",
    "df_bert_train['text'] = df_bert_train['text'].replace(r'\\n', ' ', regex=True).replace(r',', ' ', regex=True)\n",
    "\n",
    "df_bert_dev = pd.DataFrame({'user_id':0,\n",
    "                            'label':labels[int(len(docs)*0.8):int(len(docs)*0.9)],\n",
    "                            'alpha': 0,\n",
    "                           'text':docs[int(len(docs)*0.8):int(len(docs)*0.9)]})\n",
    "df_bert_dev['text'] = df_bert_dev['text'].replace(r'\\n', ' ', regex=True).replace(r',', ' ', regex=True)\n",
    "\n",
    "df_bert_test = pd.DataFrame({'user_id':0,\n",
    "                             'label':labels[int(len(docs)*0.9):],\n",
    "                             'alpha': 0,\n",
    "                            'text':docs[int(len(docs)*0.9):]})\n",
    "df_bert_test['text'] = df_bert_test['text'].replace(r'\\n', ' ', regex=True).replace(r',', ' ', regex=True)\n",
    "\n",
    "df_bert_train.to_csv('./data/processed/train.tsv', sep='\\t', index=False, header=False)\n",
    "df_bert_dev.to_csv('./data/processed/dev.tsv', sep='\\t', index=False, header=False)\n",
    "df_bert_test.to_csv('./data/processed/test.tsv', sep='\\t', index=False, header=True)"
   ]
  },
  {
   "cell_type": "markdown",
   "metadata": {},
   "source": [
    "### For FastText"
   ]
  },
  {
   "cell_type": "code",
   "execution_count": 48,
   "metadata": {},
   "outputs": [],
   "source": [
    "import pandas as pd\n",
    "\n",
    "train_fasttext = pd.DataFrame()\n",
    "train_df = pd.read_csv(\"~/Downloads/dbpedia_csv/train.csv\", header=None)\n",
    "\n",
    "train_fasttext['text'] = train_df.iloc[:,2]\n",
    "train_fasttext['label'] = [\"__label__\" + str(i) for i in train_df.iloc[:,0]]\n",
    "train_fasttext.to_csv(\"~/Downloads/dbpedia_csv/train_fasttext.csv\", header = False, index = False, sep = ' ')"
   ]
  },
  {
   "cell_type": "code",
   "execution_count": 49,
   "metadata": {},
   "outputs": [],
   "source": [
    "test_fasttext = pd.DataFrame()\n",
    "test_df = pd.read_csv(\"~/Downloads/dbpedia_csv/test.csv\", header=None)\n",
    "\n",
    "test_fasttext['text'] = test_df.iloc[:,2]\n",
    "test_fasttext['label'] = [\"__label__\" + str(i) for i in test_df.iloc[:,0]]\n",
    "test_fasttext.to_csv(\"~/Downloads/dbpedia_csv/test_fasttext.csv\", header = False, index = False,  sep = ' ')"
   ]
  },
  {
   "cell_type": "code",
   "execution_count": 57,
   "metadata": {},
   "outputs": [
    {
     "name": "stderr",
     "output_type": "stream",
     "text": [
      "100%|████████████████████████████████████████████████████████████████████████████████| 546/546 [00:10<00:00, 52.66it/s]\n"
     ]
    }
   ],
   "source": [
    "from gensim.utils import simple_preprocess\n",
    "from gensim.parsing.preprocessing import STOPWORDS\n",
    "from gensim import corpora, models\n",
    "from nltk.stem import WordNetLemmatizer, SnowballStemmer\n",
    "from tqdm import tqdm\n",
    "import numpy as np\n",
    "import pandas as pd\n",
    "\n",
    "\n",
    "stemmer = SnowballStemmer('english')\n",
    "def lemmatize_stemming(text):\n",
    "    return stemmer.stem(WordNetLemmatizer().lemmatize(text, pos='v'))\n",
    "\n",
    "def preprocess(text):\n",
    "    result = []\n",
    "    result_stemmed = []\n",
    "    for token in simple_preprocess(text, min_len = 2):\n",
    "        result.append(token)\n",
    "        if token not in STOPWORDS:\n",
    "            result_stemmed.append(lemmatize_stemming(token))\n",
    "    \n",
    "    return (result, result_stemmed)\n",
    "\n",
    "\n",
    "with open(\"./data/raw/Hygiene/hygiene.dat.labels\") as f:\n",
    "    LABELS = [int(i) for i in f.readlines()[0:546]]\n",
    "\n",
    "LABELED_STEMMED_TEXTS = []\n",
    "with open(\"./data/raw/Hygiene/hygiene.dat\") as f:\n",
    "    for i in tqdm(range(len(LABELS))):\n",
    "        _text = f.readline()\n",
    "        _result, _result_stemmed = preprocess(_text)\n",
    "        LABELED_STEMMED_TEXTS.append(_result_stemmed)\n",
    "        \n",
    "train_text = LABELED_STEMMED_TEXTS[0:400]\n",
    "train_label = LABELS[0:400]\n",
    "test_text = LABELED_STEMMED_TEXTS[400:len(LABELS)]\n",
    "test_label = LABELS[400:len(LABELS)]"
   ]
  },
  {
   "cell_type": "code",
   "execution_count": 58,
   "metadata": {},
   "outputs": [],
   "source": [
    "_dictionary = corpora.Dictionary(train_text)\n",
    "train_count = [_dictionary.doc2bow(_doc) for _doc in train_text]\n",
    "test_count = [_dictionary.doc2bow(_doc) for _doc in test_text]\n",
    "\n",
    "tfidf_model = models.TfidfModel(train_count)\n",
    "train_tfidf = [_doc for _doc in tfidf_model[train_count]]\n",
    "test_tfidf = [_doc for _doc in tfidf_model[test_count]]"
   ]
  },
  {
   "cell_type": "code",
   "execution_count": 59,
   "metadata": {},
   "outputs": [],
   "source": [
    "labeled_train_count = [(dict(_doc), train_label[i]) for i, _doc in enumerate(train_count)]\n",
    "labeled_test_count = [dict(_doc) for _doc in test_count]\n",
    "\n",
    "labeled_train_tfidf = [(dict(_doc), train_label[i]) for i, _doc in enumerate(train_tfidf)]\n",
    "labeled_test_tfidf = [dict(_doc) for _doc in test_tfidf]"
   ]
  },
  {
   "cell_type": "code",
   "execution_count": 60,
   "metadata": {},
   "outputs": [
    {
     "name": "stdout",
     "output_type": "stream",
     "text": [
      "[[ 5 75]\n",
      " [ 1 65]]\n",
      "0.4794520547945205 0.4642857142857143 0.9848484848484849 0.6310679611650486\n"
     ]
    }
   ],
   "source": [
    "from sklearn import metrics\n",
    "from nltk.classify import NaiveBayesClassifier\n",
    "\n",
    "NB_classifier_count = NaiveBayesClassifier.train(labeled_train_count)\n",
    "\n",
    "predictions = NB_classifier_count.classify_many(labeled_test_count)\n",
    "\n",
    "print(metrics.confusion_matrix(test_label, predictions))\n",
    "print(metrics.accuracy_score(test_label, predictions),\n",
    "            metrics.precision_score(test_label, predictions),\n",
    "            metrics.recall_score(test_label, predictions),\n",
    "            metrics.f1_score(test_label, predictions))"
   ]
  },
  {
   "cell_type": "code",
   "execution_count": 61,
   "metadata": {},
   "outputs": [
    {
     "name": "stdout",
     "output_type": "stream",
     "text": [
      "[[52 28]\n",
      " [33 33]]\n",
      "0.5821917808219178 0.5409836065573771 0.5 0.5196850393700788\n"
     ]
    }
   ],
   "source": [
    "from nltk.classify import DecisionTreeClassifier\n",
    "\n",
    "DT_classifier_count = DecisionTreeClassifier.train(labeled_train_count)\n",
    "predictions = DT_classifier_count.classify_many(labeled_test_count)\n",
    "\n",
    "print(metrics.confusion_matrix(test_label, predictions))\n",
    "print(metrics.accuracy_score(test_label, predictions),\n",
    "            metrics.precision_score(test_label, predictions),\n",
    "            metrics.recall_score(test_label, predictions),\n",
    "            metrics.f1_score(test_label, predictions))"
   ]
  },
  {
   "cell_type": "code",
   "execution_count": 62,
   "metadata": {},
   "outputs": [
    {
     "name": "stdout",
     "output_type": "stream",
     "text": [
      "[[ 0 80]\n",
      " [ 0 66]]\n",
      "0.4520547945205479 0.4520547945205479 1.0 0.6226415094339622\n"
     ]
    }
   ],
   "source": [
    "from nltk.classify.maxent import TypedMaxentFeatureEncoding, MaxentClassifier\n",
    "\n",
    "encoding = TypedMaxentFeatureEncoding.train(labeled_train_tfidf, \n",
    "                                                   count_cutoff=3, \n",
    "                                                   alwayson_features=True)\n",
    "Maxent_classifier_count = MaxentClassifier.train(labeled_train_tfidf, \n",
    "                                           bernoulli=False, \n",
    "                                           encoding=encoding, \n",
    "                                           trace=0)\n",
    "\n",
    "predictions = Maxent_classifier_count.classify_many(labeled_test_tfidf)\n",
    "\n",
    "print(metrics.confusion_matrix(test_label, predictions))\n",
    "print(metrics.accuracy_score(test_label, predictions),\n",
    "            metrics.precision_score(test_label, predictions),\n",
    "            metrics.recall_score(test_label, predictions),\n",
    "            metrics.f1_score(test_label, predictions))"
   ]
  },
  {
   "cell_type": "code",
   "execution_count": 1,
   "metadata": {},
   "outputs": [
    {
     "name": "stderr",
     "output_type": "stream",
     "text": [
      "C:\\Users\\geesi\\Anaconda3\\envs\\dm_cap_py3\\lib\\site-packages\\gensim\\utils.py:1197: UserWarning: detected Windows; aliasing chunkize to chunkize_serial\n",
      "  warnings.warn(\"detected Windows; aliasing chunkize to chunkize_serial\")\n"
     ]
    },
    {
     "name": "stdout",
     "output_type": "stream",
     "text": [
      "2019-07-20 13:40:33,639 Reading data from data\\processed\n",
      "2019-07-20 13:40:33,639 Train: data\\processed\\train.txt\n",
      "2019-07-20 13:40:33,639 Dev: data\\processed\\dev.txt\n",
      "2019-07-20 13:40:33,639 Test: data\\processed\\test.txt\n",
      "2019-07-20 13:40:33,666 this function is deprecated, use smart_open.open instead\n",
      "2019-07-20 13:40:51,140 {'1', '0'}\n",
      "2019-07-20 13:41:04,596 ----------------------------------------------------------------------------------------------------\n",
      "2019-07-20 13:41:04,604 Evaluation method: MICRO_F1_SCORE\n",
      "2019-07-20 13:41:08,279 ----------------------------------------------------------------------------------------------------\n",
      "2019-07-20 13:41:25,189 epoch 1 - iter 0/14 - loss 0.74729067\n",
      "2019-07-20 13:41:32,328 epoch 1 - iter 1/14 - loss 0.70541766\n",
      "2019-07-20 13:41:43,841 epoch 1 - iter 2/14 - loss 0.72190150\n",
      "2019-07-20 13:41:48,872 epoch 1 - iter 3/14 - loss 0.79746288\n",
      "2019-07-20 13:41:56,365 epoch 1 - iter 4/14 - loss 0.98525941\n",
      "2019-07-20 13:42:05,013 epoch 1 - iter 5/14 - loss 0.95908292\n",
      "2019-07-20 13:42:13,219 epoch 1 - iter 6/14 - loss 0.92708835\n",
      "2019-07-20 13:42:16,891 epoch 1 - iter 7/14 - loss 0.90140072\n",
      "2019-07-20 13:42:23,476 epoch 1 - iter 8/14 - loss 0.88355531\n",
      "2019-07-20 13:42:30,416 epoch 1 - iter 9/14 - loss 0.87539998\n",
      "2019-07-20 13:42:37,592 epoch 1 - iter 10/14 - loss 0.86196760\n",
      "2019-07-20 13:42:41,544 epoch 1 - iter 11/14 - loss 0.85101062\n",
      "2019-07-20 13:42:47,034 epoch 1 - iter 12/14 - loss 0.83694798\n",
      "2019-07-20 13:42:49,801 epoch 1 - iter 13/14 - loss 0.82432922\n",
      "2019-07-20 13:42:51,257 ----------------------------------------------------------------------------------------------------\n",
      "2019-07-20 13:42:51,257 EPOCH 1 done: loss 0.8243 - lr 0.1000 - bad epochs 0\n",
      "2019-07-20 13:43:03,541 DEV : loss 0.6790844202041626 - score 0.5818\n",
      "2019-07-20 13:43:16,192 TEST : loss 0.6885141134262085 - score 0.5818\n",
      "2019-07-20 13:43:19,830 ----------------------------------------------------------------------------------------------------\n",
      "2019-07-20 13:43:34,883 epoch 2 - iter 0/14 - loss 0.76924372\n",
      "2019-07-20 13:43:39,869 epoch 2 - iter 1/14 - loss 1.02608389\n",
      "2019-07-20 13:43:45,116 epoch 2 - iter 2/14 - loss 0.99091134\n",
      "2019-07-20 13:43:55,508 epoch 2 - iter 3/14 - loss 0.94615012\n",
      "2019-07-20 13:44:02,519 epoch 2 - iter 4/14 - loss 0.88172804\n",
      "2019-07-20 13:44:08,624 epoch 2 - iter 5/14 - loss 0.85314194\n",
      "2019-07-20 13:44:15,250 epoch 2 - iter 6/14 - loss 0.84499808\n",
      "2019-07-20 13:44:19,437 epoch 2 - iter 7/14 - loss 0.83251125\n",
      "2019-07-20 13:44:31,255 epoch 2 - iter 8/14 - loss 0.81957618\n",
      "2019-07-20 13:44:40,002 epoch 2 - iter 9/14 - loss 0.80311882\n",
      "2019-07-20 13:44:45,044 epoch 2 - iter 10/14 - loss 0.79799100\n",
      "2019-07-20 13:44:53,151 epoch 2 - iter 11/14 - loss 0.79048736\n",
      "2019-07-20 13:44:57,291 epoch 2 - iter 12/14 - loss 0.78705133\n",
      "2019-07-20 13:44:59,251 epoch 2 - iter 13/14 - loss 0.78678511\n",
      "2019-07-20 13:45:00,725 ----------------------------------------------------------------------------------------------------\n",
      "2019-07-20 13:45:00,725 EPOCH 2 done: loss 0.7868 - lr 0.1000 - bad epochs 0\n",
      "2019-07-20 13:45:13,055 DEV : loss 0.7356115579605103 - score 0.4182\n",
      "2019-07-20 13:45:25,629 TEST : loss 0.7541828155517578 - score 0.4364\n",
      "2019-07-20 13:45:25,645 ----------------------------------------------------------------------------------------------------\n",
      "2019-07-20 13:45:37,860 epoch 3 - iter 0/14 - loss 0.69703776\n",
      "2019-07-20 13:45:48,153 epoch 3 - iter 1/14 - loss 0.67855689\n",
      "2019-07-20 13:45:53,087 epoch 3 - iter 2/14 - loss 0.68304008\n",
      "2019-07-20 13:45:58,208 epoch 3 - iter 3/14 - loss 0.71263826\n",
      "2019-07-20 13:46:03,727 epoch 3 - iter 4/14 - loss 0.70135490\n",
      "2019-07-20 13:46:12,876 epoch 3 - iter 5/14 - loss 0.71168156\n",
      "2019-07-20 13:46:19,974 epoch 3 - iter 6/14 - loss 0.70759875\n",
      "2019-07-20 13:46:27,433 epoch 3 - iter 7/14 - loss 0.70176061\n",
      "2019-07-20 13:46:35,065 epoch 3 - iter 8/14 - loss 0.71002458\n",
      "2019-07-20 13:46:46,874 epoch 3 - iter 9/14 - loss 0.70774150\n",
      "2019-07-20 13:46:54,198 epoch 3 - iter 10/14 - loss 0.71173175\n",
      "2019-07-20 13:46:59,477 epoch 3 - iter 11/14 - loss 0.72196059\n",
      "2019-07-20 13:47:07,667 epoch 3 - iter 12/14 - loss 0.72422534\n",
      "2019-07-20 13:47:09,078 epoch 3 - iter 13/14 - loss 0.72123657\n",
      "2019-07-20 13:47:10,452 ----------------------------------------------------------------------------------------------------\n",
      "2019-07-20 13:47:10,452 EPOCH 3 done: loss 0.7212 - lr 0.1000 - bad epochs 1\n",
      "2019-07-20 13:47:22,950 DEV : loss 0.6840882301330566 - score 0.5636\n",
      "2019-07-20 13:47:35,632 TEST : loss 0.6989442110061646 - score 0.4545\n",
      "2019-07-20 13:47:35,648 ----------------------------------------------------------------------------------------------------\n",
      "2019-07-20 13:47:48,899 epoch 4 - iter 0/14 - loss 0.65241766\n",
      "2019-07-20 13:47:52,479 epoch 4 - iter 1/14 - loss 0.67382693\n",
      "2019-07-20 13:48:03,244 epoch 4 - iter 2/14 - loss 0.66896321\n",
      "2019-07-20 13:48:08,630 epoch 4 - iter 3/14 - loss 0.69012856\n",
      "2019-07-20 13:48:19,275 epoch 4 - iter 4/14 - loss 0.69327596\n",
      "2019-07-20 13:48:28,470 epoch 4 - iter 5/14 - loss 0.70422536\n",
      "2019-07-20 13:48:35,306 epoch 4 - iter 6/14 - loss 0.70783389\n",
      "2019-07-20 13:48:42,778 epoch 4 - iter 7/14 - loss 0.70322414\n",
      "2019-07-20 13:48:48,244 epoch 4 - iter 8/14 - loss 0.70508333\n",
      "2019-07-20 13:48:57,295 epoch 4 - iter 9/14 - loss 0.71155724\n",
      "2019-07-20 13:49:02,764 epoch 4 - iter 10/14 - loss 0.71576601\n",
      "2019-07-20 13:49:06,573 epoch 4 - iter 11/14 - loss 0.71406807\n",
      "2019-07-20 13:49:14,556 epoch 4 - iter 12/14 - loss 0.71249815\n",
      "2019-07-20 13:49:17,105 epoch 4 - iter 13/14 - loss 0.71035221\n",
      "2019-07-20 13:49:18,650 ----------------------------------------------------------------------------------------------------\n",
      "2019-07-20 13:49:18,650 EPOCH 4 done: loss 0.7104 - lr 0.1000 - bad epochs 2\n",
      "2019-07-20 13:49:31,208 DEV : loss 0.7050051689147949 - score 0.4909\n",
      "2019-07-20 13:49:43,846 TEST : loss 0.7290424108505249 - score 0.3818\n",
      "2019-07-20 13:49:43,861 ----------------------------------------------------------------------------------------------------\n",
      "2019-07-20 13:49:57,213 epoch 5 - iter 0/14 - loss 0.63754106\n",
      "2019-07-20 13:50:04,658 epoch 5 - iter 1/14 - loss 0.66002950\n",
      "2019-07-20 13:50:06,871 epoch 5 - iter 2/14 - loss 0.67612066\n",
      "2019-07-20 13:50:15,241 epoch 5 - iter 3/14 - loss 0.67759560\n",
      "2019-07-20 13:50:26,590 epoch 5 - iter 4/14 - loss 0.68648643\n",
      "2019-07-20 13:50:36,396 epoch 5 - iter 5/14 - loss 0.68222574\n",
      "2019-07-20 13:50:46,738 epoch 5 - iter 6/14 - loss 0.67905020\n",
      "2019-07-20 13:50:52,203 epoch 5 - iter 7/14 - loss 0.68997329\n",
      "2019-07-20 13:50:58,221 epoch 5 - iter 8/14 - loss 0.69226984\n",
      "2019-07-20 13:51:05,291 epoch 5 - iter 9/14 - loss 0.69571059\n",
      "2019-07-20 13:51:09,805 epoch 5 - iter 10/14 - loss 0.69922618\n",
      "2019-07-20 13:51:17,272 epoch 5 - iter 11/14 - loss 0.70134138\n",
      "2019-07-20 13:51:22,853 epoch 5 - iter 12/14 - loss 0.70330548\n",
      "2019-07-20 13:51:27,689 epoch 5 - iter 13/14 - loss 0.70858572\n",
      "2019-07-20 13:51:29,162 ----------------------------------------------------------------------------------------------------\n",
      "2019-07-20 13:51:29,162 EPOCH 5 done: loss 0.7086 - lr 0.1000 - bad epochs 3\n",
      "2019-07-20 13:51:41,581 DEV : loss 0.6712707281112671 - score 0.5818\n",
      "2019-07-20 13:51:54,281 TEST : loss 0.6843736171722412 - score 0.5818\n",
      "Epoch     4: reducing learning rate of group 0 to 5.0000e-02.\n",
      "2019-07-20 13:51:57,897 ----------------------------------------------------------------------------------------------------\n",
      "2019-07-20 13:52:15,568 epoch 6 - iter 0/14 - loss 0.69206214\n",
      "2019-07-20 13:52:21,151 epoch 6 - iter 1/14 - loss 0.70290715\n",
      "2019-07-20 13:52:24,074 epoch 6 - iter 2/14 - loss 0.69889084\n",
      "2019-07-20 13:52:32,077 epoch 6 - iter 3/14 - loss 0.69340637\n",
      "2019-07-20 13:52:38,191 epoch 6 - iter 4/14 - loss 0.69092706\n",
      "2019-07-20 13:52:45,933 epoch 6 - iter 5/14 - loss 0.69073570\n",
      "2019-07-20 13:52:53,085 epoch 6 - iter 6/14 - loss 0.69754148\n",
      "2019-07-20 13:53:02,512 epoch 6 - iter 7/14 - loss 0.69551317\n",
      "2019-07-20 13:53:04,654 epoch 6 - iter 8/14 - loss 0.69819360\n",
      "2019-07-20 13:53:14,878 epoch 6 - iter 9/14 - loss 0.69543845\n",
      "2019-07-20 13:53:18,846 epoch 6 - iter 10/14 - loss 0.70031872\n",
      "2019-07-20 13:53:26,063 epoch 6 - iter 11/14 - loss 0.70052399\n",
      "2019-07-20 13:53:31,240 epoch 6 - iter 12/14 - loss 0.70211878\n"
     ]
    },
    {
     "name": "stdout",
     "output_type": "stream",
     "text": [
      "2019-07-20 13:53:36,391 epoch 6 - iter 13/14 - loss 0.69970745\n",
      "2019-07-20 13:53:37,813 ----------------------------------------------------------------------------------------------------\n",
      "2019-07-20 13:53:37,813 EPOCH 6 done: loss 0.6997 - lr 0.0500 - bad epochs 0\n",
      "2019-07-20 13:53:50,656 DEV : loss 0.6826524138450623 - score 0.5818\n",
      "2019-07-20 13:54:03,256 TEST : loss 0.7131308317184448 - score 0.3818\n",
      "2019-07-20 13:54:06,878 ----------------------------------------------------------------------------------------------------\n",
      "2019-07-20 13:54:20,224 epoch 7 - iter 0/14 - loss 0.67469764\n",
      "2019-07-20 13:54:31,908 epoch 7 - iter 1/14 - loss 0.64981678\n",
      "2019-07-20 13:54:37,204 epoch 7 - iter 2/14 - loss 0.65919878\n",
      "2019-07-20 13:54:44,451 epoch 7 - iter 3/14 - loss 0.68572752\n",
      "2019-07-20 13:54:51,689 epoch 7 - iter 4/14 - loss 0.68351893\n",
      "2019-07-20 13:54:58,413 epoch 7 - iter 5/14 - loss 0.68709972\n",
      "2019-07-20 13:55:05,983 epoch 7 - iter 6/14 - loss 0.68481536\n",
      "2019-07-20 13:55:12,893 epoch 7 - iter 7/14 - loss 0.68496308\n",
      "2019-07-20 13:55:17,288 epoch 7 - iter 8/14 - loss 0.68319778\n",
      "2019-07-20 13:55:28,393 epoch 7 - iter 9/14 - loss 0.68398689\n",
      "2019-07-20 13:55:36,019 epoch 7 - iter 10/14 - loss 0.68330696\n",
      "2019-07-20 13:55:41,955 epoch 7 - iter 11/14 - loss 0.67709620\n",
      "2019-07-20 13:55:46,968 epoch 7 - iter 12/14 - loss 0.67534395\n",
      "2019-07-20 13:55:52,491 epoch 7 - iter 13/14 - loss 0.67352743\n",
      "2019-07-20 13:55:53,849 ----------------------------------------------------------------------------------------------------\n",
      "2019-07-20 13:55:53,849 EPOCH 7 done: loss 0.6735 - lr 0.0500 - bad epochs 1\n",
      "2019-07-20 13:56:06,271 DEV : loss 0.6916110515594482 - score 0.4727\n",
      "2019-07-20 13:56:19,170 TEST : loss 0.7308118343353271 - score 0.3818\n",
      "2019-07-20 13:56:19,185 ----------------------------------------------------------------------------------------------------\n",
      "2019-07-20 13:56:33,284 epoch 8 - iter 0/14 - loss 0.66096121\n",
      "2019-07-20 13:56:36,725 epoch 8 - iter 1/14 - loss 0.67193842\n",
      "2019-07-20 13:56:42,166 epoch 8 - iter 2/14 - loss 0.68111704\n",
      "2019-07-20 13:56:49,329 epoch 8 - iter 3/14 - loss 0.68160631\n",
      "2019-07-20 13:56:56,226 epoch 8 - iter 4/14 - loss 0.68203418\n",
      "2019-07-20 13:57:03,423 epoch 8 - iter 5/14 - loss 0.68600805\n",
      "2019-07-20 13:57:10,103 epoch 8 - iter 6/14 - loss 0.68483032\n",
      "2019-07-20 13:57:20,697 epoch 8 - iter 7/14 - loss 0.68323365\n",
      "2019-07-20 13:57:31,310 epoch 8 - iter 8/14 - loss 0.69099015\n",
      "2019-07-20 13:57:38,138 epoch 8 - iter 9/14 - loss 0.69073420\n",
      "2019-07-20 13:57:43,088 epoch 8 - iter 10/14 - loss 0.68560087\n",
      "2019-07-20 13:57:48,398 epoch 8 - iter 11/14 - loss 0.68228691\n",
      "2019-07-20 13:57:53,924 epoch 8 - iter 12/14 - loss 0.68244907\n",
      "2019-07-20 13:58:00,339 epoch 8 - iter 13/14 - loss 0.67846026\n",
      "2019-07-20 13:58:01,815 ----------------------------------------------------------------------------------------------------\n",
      "2019-07-20 13:58:01,815 EPOCH 8 done: loss 0.6785 - lr 0.0500 - bad epochs 2\n",
      "2019-07-20 13:58:14,285 DEV : loss 0.6824735403060913 - score 0.5636\n",
      "2019-07-20 13:58:26,992 TEST : loss 0.7227689027786255 - score 0.3818\n",
      "2019-07-20 13:58:27,006 ----------------------------------------------------------------------------------------------------\n",
      "2019-07-20 13:58:42,109 epoch 9 - iter 0/14 - loss 0.66829151\n",
      "2019-07-20 13:58:48,325 epoch 9 - iter 1/14 - loss 0.67767242\n",
      "2019-07-20 13:58:59,338 epoch 9 - iter 2/14 - loss 0.67611444\n",
      "2019-07-20 13:59:04,307 epoch 9 - iter 3/14 - loss 0.67852584\n",
      "2019-07-20 13:59:12,532 epoch 9 - iter 4/14 - loss 0.68309948\n",
      "2019-07-20 13:59:20,110 epoch 9 - iter 5/14 - loss 0.68941351\n",
      "2019-07-20 13:59:25,346 epoch 9 - iter 6/14 - loss 0.68496045\n",
      "2019-07-20 13:59:31,113 epoch 9 - iter 7/14 - loss 0.67420073\n",
      "2019-07-20 13:59:35,128 epoch 9 - iter 8/14 - loss 0.67472585\n",
      "2019-07-20 13:59:43,629 epoch 9 - iter 9/14 - loss 0.67783805\n",
      "2019-07-20 13:59:47,417 epoch 9 - iter 10/14 - loss 0.68234196\n",
      "2019-07-20 13:59:57,148 epoch 9 - iter 11/14 - loss 0.68359485\n",
      "2019-07-20 14:00:06,483 epoch 9 - iter 12/14 - loss 0.68343426\n",
      "2019-07-20 14:00:10,452 epoch 9 - iter 13/14 - loss 0.68940248\n",
      "2019-07-20 14:00:12,056 ----------------------------------------------------------------------------------------------------\n",
      "2019-07-20 14:00:12,056 EPOCH 9 done: loss 0.6894 - lr 0.0500 - bad epochs 3\n",
      "2019-07-20 14:00:24,436 DEV : loss 0.6807200908660889 - score 0.5636\n",
      "2019-07-20 14:00:36,670 TEST : loss 0.7213456630706787 - score 0.3636\n",
      "Epoch     8: reducing learning rate of group 0 to 2.5000e-02.\n",
      "2019-07-20 14:00:36,673 ----------------------------------------------------------------------------------------------------\n",
      "2019-07-20 14:00:48,901 epoch 10 - iter 0/14 - loss 0.65716648\n",
      "2019-07-20 14:00:56,782 epoch 10 - iter 1/14 - loss 0.65234283\n",
      "2019-07-20 14:01:03,310 epoch 10 - iter 2/14 - loss 0.63372900\n",
      "2019-07-20 14:01:08,344 epoch 10 - iter 3/14 - loss 0.64087082\n",
      "2019-07-20 14:01:19,916 epoch 10 - iter 4/14 - loss 0.65906997\n",
      "2019-07-20 14:01:24,810 epoch 10 - iter 5/14 - loss 0.65626971\n",
      "2019-07-20 14:01:35,598 epoch 10 - iter 6/14 - loss 0.65932756\n",
      "2019-07-20 14:01:42,991 epoch 10 - iter 7/14 - loss 0.66522168\n",
      "2019-07-20 14:01:48,417 epoch 10 - iter 8/14 - loss 0.66940160\n",
      "2019-07-20 14:01:54,262 epoch 10 - iter 9/14 - loss 0.67153026\n",
      "2019-07-20 14:02:01,671 epoch 10 - iter 10/14 - loss 0.67147659\n",
      "2019-07-20 14:02:10,630 epoch 10 - iter 11/14 - loss 0.67270886\n",
      "2019-07-20 14:02:15,854 epoch 10 - iter 12/14 - loss 0.67497297\n",
      "2019-07-20 14:02:19,820 epoch 10 - iter 13/14 - loss 0.67431747\n",
      "2019-07-20 14:02:21,233 ----------------------------------------------------------------------------------------------------\n",
      "2019-07-20 14:02:21,233 EPOCH 10 done: loss 0.6743 - lr 0.0250 - bad epochs 0\n",
      "2019-07-20 14:02:33,755 DEV : loss 0.6897621750831604 - score 0.5273\n",
      "2019-07-20 14:02:46,433 TEST : loss 0.7364392876625061 - score 0.4\n",
      "2019-07-20 14:02:50,035 ----------------------------------------------------------------------------------------------------\n",
      "2019-07-20 14:02:50,035 Testing using best model ...\n",
      "2019-07-20 14:02:50,035 loading file data\\model\\best-model.pt\n",
      "2019-07-20 14:03:03,863 0.3818\t0.3818\t0.3818\n",
      "2019-07-20 14:03:03,863 \n",
      "MICRO_AVG: acc 0.236 - f1-score 0.3818\n",
      "MACRO_AVG: acc 0.228 - f1-score 0.36485\n",
      "0          tp: 6 - fp: 8 - fn: 26 - tn: 15 - precision: 0.4286 - recall: 0.1875 - accuracy: 0.1500 - f1-score: 0.2609\n",
      "1          tp: 15 - fp: 26 - fn: 8 - tn: 6 - precision: 0.3659 - recall: 0.6522 - accuracy: 0.3061 - f1-score: 0.4688\n",
      "2019-07-20 14:03:03,863 ----------------------------------------------------------------------------------------------------\n"
     ]
    },
    {
     "data": {
      "text/plain": [
       "{'test_score': 0.3818,\n",
       " 'dev_score_history': [0.5818,\n",
       "  0.4182,\n",
       "  0.5636,\n",
       "  0.4909,\n",
       "  0.5818,\n",
       "  0.5818,\n",
       "  0.4727,\n",
       "  0.5636,\n",
       "  0.5636,\n",
       "  0.5273],\n",
       " 'train_loss_history': [0.8243292186941419,\n",
       "  0.786785112959998,\n",
       "  0.7212365652833667,\n",
       "  0.710352212190628,\n",
       "  0.7085857221058437,\n",
       "  0.699707452739988,\n",
       "  0.6735274280820575,\n",
       "  0.6784602573939732,\n",
       "  0.6894024780818394,\n",
       "  0.6743174706186567],\n",
       " 'dev_loss_history': [tensor(0.6791, device='cuda:0'),\n",
       "  tensor(0.7356, device='cuda:0'),\n",
       "  tensor(0.6841, device='cuda:0'),\n",
       "  tensor(0.7050, device='cuda:0'),\n",
       "  tensor(0.6713, device='cuda:0'),\n",
       "  tensor(0.6827, device='cuda:0'),\n",
       "  tensor(0.6916, device='cuda:0'),\n",
       "  tensor(0.6825, device='cuda:0'),\n",
       "  tensor(0.6807, device='cuda:0'),\n",
       "  tensor(0.6898, device='cuda:0')]}"
      ]
     },
     "execution_count": 1,
     "metadata": {},
     "output_type": "execute_result"
    }
   ],
   "source": [
    "from flair.datasets import ClassificationCorpus\n",
    "from flair.embeddings import WordEmbeddings, FlairEmbeddings, DocumentRNNEmbeddings\n",
    "from flair.models import TextClassifier\n",
    "from flair.trainers import ModelTrainer\n",
    "from pathlib import Path\n",
    "\n",
    "corpus = ClassificationCorpus(Path('./data/processed'), \n",
    "                                test_file='test.txt', \n",
    "                                dev_file='dev.txt', \n",
    "                                train_file='train.txt')\n",
    "\n",
    "\n",
    "word_embeddings = [WordEmbeddings('glove')\n",
    "#                    , FlairEmbeddings('news-forward-fast')\n",
    "#                    , FlairEmbeddings('news-backward-fast')\n",
    "                  ]\n",
    "\n",
    "document_embeddings = DocumentRNNEmbeddings (word_embeddings, hidden_size=512, reproject_words=True, reproject_words_dimension=256)\n",
    "classifier = TextClassifier(document_embeddings, \n",
    "                            label_dictionary = corpus.make_label_dictionary(), \n",
    "                            multi_label=False)\n",
    "trainer = ModelTrainer(classifier, corpus)\n",
    "trainer.train('./data/model', max_epochs=10)\n",
    "# trainer.train('./data/model',\n",
    "#               learning_rate=0.1,\n",
    "#               mini_batch_size=32,\n",
    "#               anneal_factor=0.5,\n",
    "#               patience=5,\n",
    "#               max_epochs=10)"
   ]
  },
  {
   "cell_type": "code",
   "execution_count": 6,
   "metadata": {},
   "outputs": [
    {
     "data": {
      "image/png": "[encoded data removed]",
      "text/plain": [
       "<Figure size 360x648 with 8 Axes>"
      ]
     },
     "metadata": {},
     "output_type": "display_data"
    }
   ],
   "source": [
    "%matplotlib inline\n",
    "\n",
    "from flair.visual.training_curves import Plotter\n",
    "plotter = Plotter()\n",
    "plotter.plot_training_curves('./data/model/loss.tsv')\n",
    "plotter.plot_weights('./data/model/weights.txt')"
   ]
  },
  {
   "cell_type": "code",
   "execution_count": 38,
   "metadata": {},
   "outputs": [
    {
     "name": "stdout",
     "output_type": "stream",
     "text": [
      "2019-07-20 15:10:25,165 loading file ./data/model/best-model.pt\n",
      "[[ 5  5]\n",
      " [28 17]]\n",
      "0.4 0.7727272727272727 0.37777777777777777 0.5074626865671642\n"
     ]
    }
   ],
   "source": [
    "from flair.models import TextClassifier\n",
    "from flair.data import Sentence\n",
    "from sklearn import metrics\n",
    "\n",
    "classifier = TextClassifier.load('./data/model/best-model.pt')\n",
    "\n",
    "test_text = df_bert_test['text']\n",
    "test_label =  df_bert_test['label']\n",
    "predictions = []\n",
    "for _text in test_text:\n",
    "    sentence = Sentence(_text)\n",
    "    classifier.predict(sentence)\n",
    "    predictions.append(int(sentence.labels[0].value))\n",
    "\n",
    "print(metrics.confusion_matrix(predictions, test_label))\n",
    "print (metrics.accuracy_score(predictions, test_label),\n",
    "            metrics.precision_score(predictions, test_label),\n",
    "            metrics.recall_score(predictions, test_label),\n",
    "            metrics.f1_score(predictions, test_label))"
   ]
  },
  {
   "cell_type": "code",
   "execution_count": 55,
   "metadata": {},
   "outputs": [
    {
     "name": "stdout",
     "output_type": "stream",
     "text": [
      "[[ 0 33]\n",
      " [ 0 22]]\n",
      "0.4 0.4 1.0 0.5714285714285715\n"
     ]
    }
   ],
   "source": [
    "predictions = [1 for i in range(len(predictions))]\n",
    "\n",
    "print(metrics.confusion_matrix(test_label, predictions))\n",
    "print (metrics.accuracy_score(test_label, predictions),\n",
    "            metrics.precision_score(test_label, predictions),\n",
    "            metrics.recall_score(test_label, predictions),\n",
    "            metrics.f1_score(test_label, predictions))"
   ]
  },
  {
   "cell_type": "code",
   "execution_count": null,
   "metadata": {},
   "outputs": [],
   "source": []
  }
 ],
 "metadata": {
  "kernelspec": {
   "display_name": "Python 3",
   "language": "python",
   "name": "python3"
  },
  "language_info": {
   "codemirror_mode": {
    "name": "ipython",
    "version": 3
   },
   "file_extension": ".py",
   "mimetype": "text/x-python",
   "name": "python",
   "nbconvert_exporter": "python",
   "pygments_lexer": "ipython3",
   "version": "3.7.3"
  }
 },
 "nbformat": 4,
 "nbformat_minor": 2
}
